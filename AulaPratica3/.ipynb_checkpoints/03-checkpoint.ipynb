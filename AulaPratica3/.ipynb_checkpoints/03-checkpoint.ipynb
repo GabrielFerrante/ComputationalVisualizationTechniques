{
 "cells": [
  {
   "cell_type": "markdown",
   "metadata": {
    "slideshow": {
     "slide_type": "skip"
    },
    "tags": [
     "hide"
    ]
   },
   "source": [
    "# Técnicas de interação\n",
    "\n",
    "* Utilizaremos o conjunto de dados **GapMinder**, disponível no arquivo \"./data/GapMinder.csv\"\n",
    "* Criaremos um layout com 3 elementos\n",
    "    * Dentro de cada elemento do layout, uma técnica de interação será empregada\n",
    "* As interações inclui visualizações e elementos de interface"
   ]
  },
  {
   "cell_type": "code",
   "execution_count": 1,
   "metadata": {
    "slideshow": {
     "slide_type": "skip"
    },
    "tags": [
     "hide"
    ]
   },
   "outputs": [
    {
     "name": "stdout",
     "output_type": "stream",
     "text": [
      "<class 'pandas.core.frame.DataFrame'>\n",
      "RangeIndex: 1704 entries, 0 to 1703\n",
      "Data columns (total 8 columns):\n",
      " #   Column     Non-Null Count  Dtype   \n",
      "---  ------     --------------  -----   \n",
      " 0   country    1704 non-null   category\n",
      " 1   continent  1704 non-null   category\n",
      " 2   year       1704 non-null   category\n",
      " 3   lifeExp    1704 non-null   float64 \n",
      " 4   pop        1704 non-null   int64   \n",
      " 5   gdpPercap  1704 non-null   float64 \n",
      " 6   iso_alpha  1704 non-null   object  \n",
      " 7   iso_num    1704 non-null   int64   \n",
      "dtypes: category(3), float64(2), int64(2), object(1)\n",
      "memory usage: 80.1+ KB\n"
     ]
    }
   ],
   "source": [
    "import plotly.graph_objects as go\n",
    "import plotly.io as pio\n",
    "\n",
    "pio.templates.default = \"plotly_dark\"\n",
    "\n",
    "import numpy as np\n",
    "import pandas as pd\n",
    "\n",
    "df = pd.read_csv(\"./data/GapMinder.csv\")\n",
    "\n",
    "df[\"year\"] = df[\"year\"].astype(\"category\")\n",
    "df[\"country\"] = df[\"country\"].astype(\"category\")\n",
    "df[\"continent\"] = df[\"continent\"].astype(\"category\")\n",
    "\n",
    "df.info()"
   ]
  },
  {
   "cell_type": "markdown",
   "metadata": {
    "slideshow": {
     "slide_type": "skip"
    },
    "tags": [
     "hide"
    ]
   },
   "source": [
    "## Layout\n",
    "\n",
    "<center><img src=\"./figs/layout.png\" style=\"zoom: 40%\"></center>"
   ]
  },
  {
   "cell_type": "code",
   "execution_count": 3,
   "metadata": {
    "slideshow": {
     "slide_type": "skip"
    },
    "tags": [
     "hide"
    ]
   },
   "outputs": [],
   "source": [
    "from ipywidgets import VBox, HBox, widgets\n",
    "import plotly.graph_objs as go\n",
    "import plotly.express as px\n",
    "import pandas as pd\n",
    "\n",
    "class App(object):\n",
    "    \n",
    "    def __init__(self, data: pd.DataFrame):\n",
    "        \n",
    "        self.data = data\n",
    "        \n",
    "        self.years = sorted(data[\"year\"].unique())\n",
    "        self.countries = data[\"country\"].cat.categories.tolist()\n",
    "        self.continents = data[\"continent\"].unique().tolist()\n",
    "        \n",
    "        self.cols = [\"country\", \"iso_alpha\"]\n",
    "        \n",
    "        palette = px.colors.qualitative.Plotly\n",
    "        self.data[\"color\"] = [\n",
    "            palette[self.continents.index(continent)]\n",
    "            for continent in self.data[\"continent\"]]\n",
    "        \n",
    "        self.current_df = self.query(self.data, self.years[0])\n",
    "        \n",
    "        self.selection = self.current_df.copy(deep=True)\n",
    "                        \n",
    "    def show(self):\n",
    "        self.layout = VBox([\n",
    "            self.toolbar,                     # Row 1: Toolbar\n",
    "            self.scatter,                     # Row 2: Scatter plot\n",
    "            HBox([self.table, self.lines])])  # Row 3: Table + Lines\n",
    "\n",
    "        return self.layout\n",
    "    \n",
    "    def query(self, data, year=None, continent=None):\n",
    "        data = data.copy(deep=True)\n",
    "\n",
    "        if year:\n",
    "            data = data.query(\"year == @year\")\n",
    "        if continent:\n",
    "            data = data.query(\"continent == @continent\")\n",
    "\n",
    "        return data\n",
    "\n",
    "app = App(df)"
   ]
  },
  {
   "cell_type": "code",
   "execution_count": 7,
   "metadata": {},
   "outputs": [
    {
     "name": "stdout",
     "output_type": "stream",
     "text": [
      "['Asia', 'Europe', 'Africa', 'Americas', 'Oceania']\n",
      "['#636EFA', '#EF553B', '#00CC96', '#AB63FA', '#FFA15A']\n"
     ]
    }
   ],
   "source": [
    "print(app.continents)\n",
    "print(px.colors.qualitative.Plotly[:5])"
   ]
  },
  {
   "cell_type": "markdown",
   "metadata": {
    "slideshow": {
     "slide_type": "skip"
    },
    "tags": [
     "hide"
    ]
   },
   "source": [
    "### Tabela de itens selecionados\n",
    "\n",
    "* Utilizaremos uma tabela dinâmica renderizada pelo plotly\n",
    "* Os elementos da tabela serão atualizados pela interação\n",
    "\n",
    "[Documentação de tabelas no Plotly](https://plotly.com/python/table/)"
   ]
  },
  {
   "cell_type": "code",
   "execution_count": 4,
   "metadata": {
    "slideshow": {
     "slide_type": "skip"
    },
    "tags": [
     "hide"
    ]
   },
   "outputs": [
    {
     "data": {
      "application/vnd.jupyter.widget-view+json": {
       "model_id": "221968e700dc43a8b05c458493b037c3",
       "version_major": 2,
       "version_minor": 0
      },
      "text/plain": [
       "FigureWidget({\n",
       "    'data': [{'cells': {'align': [left, center],\n",
       "                        'fill': {'color': [['#…"
      ]
     },
     "metadata": {},
     "output_type": "display_data"
    }
   ],
   "source": [
    "app.table = go.FigureWidget(data=[go.Table(\n",
    "    header=dict(\n",
    "        values=[\"País\", \"ISO\"],\n",
    "        line_color=\"white\",\n",
    "        fill_color=\"darkslategray\",\n",
    "        align=\"left\"),\n",
    "    cells=dict(\n",
    "        values=[\n",
    "            app.current_df[\"country\"],\n",
    "            app.current_df[\"iso_alpha\"]],\n",
    "       line_color=\"darkslategray\",\n",
    "       fill_color=[app.data[\"color\"][app.current_df.index]] * 2,\n",
    "       align=[\"left\", \"center\"]))],\n",
    "    layout={\n",
    "        \"width\": 600,\n",
    "        \"margin\": {\"t\": 25, \"b\": 0, \"l\": 0, \"r\": 0}})\n",
    "\n",
    "app.table"
   ]
  },
  {
   "cell_type": "markdown",
   "metadata": {
    "slideshow": {
     "slide_type": "skip"
    },
    "tags": [
     "hide"
    ]
   },
   "source": [
    "### Gráfico de dispersão\n",
    "\n",
    "* Nossa visão principal é um gráfico de dispersão dos nossos dados, onde:\n",
    "    * X: PIB per capita\n",
    "    * Y: Expectativa de vida\n",
    "    * Tamanho do ponto: População\n",
    "    * Cor: Continente\n",
    "\n",
    "Dessa forma, codificamos 4 variaveis do conjunto de dados em uma única visualização. Porém, a visualização resultante acaba ficando com muitas informações implícitas, exigindo muita carga cognitiva do usuário para analisar todos os 4 mapeamentos visuais de todos os 142 pontos.\n",
    "\n",
    "#### Interação: Hovering\n",
    "\n",
    "Adicionamos a interação por hovering para fornecer as informações de cada ponto de dados sob demanda, diminuindo a carga cognitiva do usuário de ter que processar visualmente cada um dos mapeamentos visuais para cada ponto de dados.\n",
    "\n",
    "[Documentação de Hovering do Plotly](https://plotly.com/python/hover-text-and-formatting/)"
   ]
  },
  {
   "cell_type": "code",
   "execution_count": 14,
   "metadata": {
    "slideshow": {
     "slide_type": "skip"
    },
    "tags": [
     "hide"
    ]
   },
   "outputs": [
    {
     "data": {
      "application/vnd.jupyter.widget-view+json": {
       "model_id": "b895fd2b4f55400986071ce67e58fbb6",
       "version_major": 2,
       "version_minor": 0
      },
      "text/plain": [
       "FigureWidget({\n",
       "    'data': [{'hovertemplate': ('<b> %{hovertext} </b><br>\\n    ' ... '}<br>\\n    PIB per capit…"
      ]
     },
     "metadata": {},
     "output_type": "display_data"
    }
   ],
   "source": [
    "app.scatter = go.FigureWidget(px.scatter(\n",
    "    x=app.current_df[\"gdpPercap\"], y=app.current_df[\"lifeExp\"],\n",
    "    size=app.current_df[\"pop\"], size_max=55,\n",
    "    log_x=True, \n",
    "    range_x=[200,20000], \n",
    "    range_y=[25, 90], # diminui a quantidade de espaço vazio\n",
    "    hover_name=app.current_df[\"country\"], \n",
    "    color=app.current_df[\"continent\"],\n",
    "    labels={\n",
    "        \"x\": \"PIB per capita\",\n",
    "        \"y\": \"Expectativa de vida\",\n",
    "        \"color\": \"Continente\",\n",
    "        \"size\": \"População\"}))\n",
    "\n",
    "# Formato do popup de hovering\n",
    "## Aceita variaveis dos pontos de dados (p.e. x, y, marker.size)\n",
    "app.scatter.update_traces(\n",
    "    hovertemplate =\n",
    "    '''<b> %{hovertext} </b><br>\n",
    "    População: %{marker.size}<br>\n",
    "    Expectativa de vida: %{y}<br>\n",
    "    PIB per capita: %{x}''')\n",
    "\n",
    "app.scatter.update_layout({\n",
    "    \"margin\": {\n",
    "        \"t\": 60, \"b\": 5, \"l\": 5, \"r\": 5},\n",
    "    \"legend\": {\n",
    "        \"title\": \"\",\n",
    "        \"orientation\": \"h\", \"yanchor\": \"bottom\",\n",
    "        \"y\": 1.02, \"xanchor\": \"right\", \"x\":1}})"
   ]
  },
  {
   "cell_type": "markdown",
   "metadata": {
    "slideshow": {
     "slide_type": "skip"
    },
    "tags": [
     "hide"
    ]
   },
   "source": [
    "### Gráfico de linhas\n",
    "\n",
    "Para adicionar visualizações facetas, utilizamos subplots com eixos compartilhados.\n",
    "\n",
    "Neste componente visual, vamos mapear os valores de 3 colunas do nosso conjunto de dados, agregados à coluna *year*, representando assim uma visualização da evolução destes valores ente 1952 e 2007 em intervalos de 5 anos:\n",
    "\n",
    "* PIB per capita\n",
    "* Expectativa de vida\n",
    "* População\n",
    "\n",
    "#### Interação: Facets\n",
    "Cada gráfico de linha pode ser visto como uma faceta do nosso conjunto de dados, pois estes são referentes a um mesmo período de tempo, representado pelo eixo X compartilhado, mas representando perspectivas (atributos) diferentes.\n",
    "\n",
    "[Documentação para subplots no Plotly](https://plotly.com/python/subplots/)"
   ]
  },
  {
   "cell_type": "code",
   "execution_count": 15,
   "metadata": {
    "slideshow": {
     "slide_type": "skip"
    },
    "tags": [
     "hide"
    ]
   },
   "outputs": [
    {
     "data": {
      "application/vnd.jupyter.widget-view+json": {
       "model_id": "391268e895db475a94fd9fc8abecf552",
       "version_major": 2,
       "version_minor": 0
      },
      "text/plain": [
       "FigureWidget({\n",
       "    'data': [{'hovertemplate': '<b>%{x}</b>: %{y}',\n",
       "              'marker': {'color': '#636EFA'…"
      ]
     },
     "metadata": {},
     "output_type": "display_data"
    }
   ],
   "source": [
    "from plotly.subplots import make_subplots\n",
    "\n",
    "rows = [\"lifeExp\", \"gdpPercap\", \"pop\"] # Facetas exploradas\n",
    "\n",
    "app.lines = go.FigureWidget(make_subplots(\n",
    "    shared_xaxes=True,\n",
    "    specs=[[{\"type\": \"scatter\"}],\n",
    "           [{\"type\": \"scatter\"}],\n",
    "           [{\"type\": \"scatter\"}]],\n",
    "    subplot_titles=(\"Expectativa de vida\", \"PIB per capita\", \"População\"),\n",
    "    rows=len(rows), cols=1))\n",
    "\n",
    "for country, country_df in app.data.groupby(\"country\"): # Itera pais por pais\n",
    "    for index, row in enumerate(rows): # Itera por facetas\n",
    "        app.lines.add_trace(\n",
    "            go.Scattergl(mode=\"lines\", # Pela quantidade de entidades (426), usamos Scattergl por ter uma melhor performance\n",
    "                x=country_df[\"year\"],\n",
    "                y=country_df[row],\n",
    "                hovertemplate=\"<b>%{x}</b>: %{y}\",\n",
    "                visible=True,\n",
    "                marker={\n",
    "                    \"color\": app.data[\"color\"][country_df.index[0]],\n",
    "                    \"opacity\": 0.75\n",
    "                }, name=country),\n",
    "            row=index+1, col=1)\n",
    "\n",
    "for i in range(len(rows)):\n",
    "    # Coloca todos os eixos na mesma magnitude\n",
    "    app.lines.update_xaxes(dict(\n",
    "        tickmode = 'array',\n",
    "        tickvals = app.years,\n",
    "        ticktext = app.years), row=i+1, col=1)\n",
    "    \n",
    "app.lines.update_layout({\n",
    "    \"width\": 700,\n",
    "    \"margin\": {\"t\": 50, \"b\": 0, \"l\": 0, \"r\": 0},\n",
    "    \"showlegend\": False})"
   ]
  },
  {
   "cell_type": "markdown",
   "metadata": {
    "slideshow": {
     "slide_type": "skip"
    },
    "tags": [
     "hide"
    ]
   },
   "source": [
    "### Elementos de interface\n",
    "\n",
    "Apenas utilizaremos um *Slider* de anos e um *Player* para percorrer o *Slides* automáticamente, realizando assim uma **Dynamic Query**."
   ]
  },
  {
   "cell_type": "code",
   "execution_count": 16,
   "metadata": {
    "slideshow": {
     "slide_type": "skip"
    },
    "tags": [
     "hide"
    ]
   },
   "outputs": [
    {
     "data": {
      "application/vnd.jupyter.widget-view+json": {
       "model_id": "58c4f9c88c74428a9bf59a1bfeb14664",
       "version_major": 2,
       "version_minor": 0
      },
      "text/plain": [
       "HBox(children=(Play(value=1952, description=' Ano ', interval=1000, max=2007, min=1952, step=5), IntSlider(val…"
      ]
     },
     "metadata": {},
     "output_type": "display_data"
    }
   ],
   "source": [
    "app.player = widgets.Play(\n",
    "    value=app.years[0],\n",
    "    min=app.years[0],\n",
    "    max=app.years[-1],\n",
    "    step=5,\n",
    "    interval=1000,\n",
    "    description=\" Ano \",\n",
    "    disabled=False)\n",
    "\n",
    "app.slider = widgets.IntSlider(\n",
    "    value=app.years[0],\n",
    "    min=app.years[0],\n",
    "    max=app.years[-1],\n",
    "    step=5,\n",
    "    description=' Ano ',\n",
    "    disabled=False,\n",
    "    continuous_update=False,\n",
    "    orientation='horizontal',\n",
    "    readout=True,\n",
    "    readout_format='d')\n",
    "\n",
    "app.toolbar = HBox([app.player, app.slider])\n",
    "\n",
    "# Faz o link entre o slider e o player\n",
    "widgets.jslink((app.player, 'value'),\n",
    "               (app.slider, 'value'))\n",
    "\n",
    "app.toolbar"
   ]
  },
  {
   "cell_type": "markdown",
   "metadata": {
    "slideshow": {
     "slide_type": "skip"
    },
    "tags": [
     "hide"
    ]
   },
   "source": [
    "## Linking and Brushing\n",
    "\n",
    "Permite que o usuário utilize ferramentas de seleção (*Brushes*) para ressaltar os elementos de seu interesse. Por meio da abordagem de **Linking and Brushing**, o usuário pode fazer seleções de dados em representações visuais mais simples (p.e. um Scatter plot 2D) e visualizar os resultados em representações mais complexas (p.e. uma visualização facetada).\n",
    "\n",
    "No nosso caso, fazemos o link das seleções no Scatter plot à nossa tabela e nossa visualização facetada de linhas.\n",
    "* Scatter plot - Tabela de dados\n",
    "* Scatter plot - Facetas"
   ]
  },
  {
   "cell_type": "code",
   "execution_count": 17,
   "metadata": {
    "slideshow": {
     "slide_type": "skip"
    },
    "tags": [
     "hide"
    ]
   },
   "outputs": [
    {
     "data": {
      "application/vnd.jupyter.widget-view+json": {
       "model_id": "6fd1744ce2144939a9c38111152beca4",
       "version_major": 2,
       "version_minor": 0
      },
      "text/plain": [
       "VBox(children=(FigureWidget({\n",
       "    'data': [{'hovertemplate': ('<b> %{hovertext} </b><br>\\n    ' ... '}<br>\\n  …"
      ]
     },
     "metadata": {},
     "output_type": "display_data"
    }
   ],
   "source": [
    "def on_selection(trace, points, selector=None):\n",
    "    # O método on_deselect tem assinatura (trace, points)\n",
    "    # O método on_select tem assinatura (trace, points, selector)\n",
    "    from plotly.callbacks import BoxSelector\n",
    "    \n",
    "    if selector: # on_select\n",
    "        if type(selector) == BoxSelector: # Evita a seleção por \"Lasso Selection\"\n",
    "            x = selector.xrange # Intervalo selecionado no eixo X\n",
    "            y = selector.yrange # Intervalo selecionado no eixo Y\n",
    "        \n",
    "            app.selection = app.current_df[\n",
    "                (app.current_df['gdpPercap'].between(x[0], x[1], inclusive=True)) &\n",
    "                (app.current_df['lifeExp'].between(y[0], y[1], inclusive=True))]\n",
    "    else: # on_deselect\n",
    "        app.selection = app.current_df\n",
    "        \n",
    "    ## batch_update():\n",
    "    # Finaliza as operações dentro do block \"with\" antes de propagar para os gráficos\n",
    "    with app.table.batch_update():\n",
    "        # Atualiza os valores da tabela\n",
    "        app.table.data[0].cells.values = app.selection[app.cols].T\n",
    "        \n",
    "        # Atualiza as cores das células:\n",
    "        app.table.data[0].cells.fill.color = [app.data[\"color\"][app.selection.index]] * 2 \n",
    "        \n",
    "        # Atualiza o parâmetro \"visible\" de todos os traces\n",
    "        app.lines.plotly_restyle({'visible': [\n",
    "            trace.name in app.selection[\"country\"].tolist()\n",
    "            for trace in app.lines.data]})\n",
    "    \n",
    "app.on_selection = on_selection\n",
    "\n",
    "app.scatter.data[0].on_selection(app.on_selection) # Adiciona a callback para seleção\n",
    "app.scatter.data[0].on_deselect(app.on_selection) # Adiciona a callback para desseleção\n",
    "\n",
    "VBox([\n",
    "    app.scatter,\n",
    "    HBox([app.table, app.lines])])"
   ]
  },
  {
   "cell_type": "markdown",
   "metadata": {
    "slideshow": {
     "slide_type": "skip"
    },
    "tags": [
     "hide"
    ]
   },
   "source": [
    "## Dynamic query\n",
    "\n",
    "* Ligamos o elemento de interface da barra de ferramentas (*Toolbar*) ao nosso gráfico de dispersão\n",
    "\n",
    "O usuário pode interagir com o Slider navegando pelos anos (1952-2007) em passos de 5 anos, sem perder informação entre as iterações. O recurso de animação dos dados permite que as mudanças não sejam drásticas e que possam ser acompanhadas pelo usuário."
   ]
  },
  {
   "cell_type": "code",
   "execution_count": 18,
   "metadata": {
    "slideshow": {
     "slide_type": "skip"
    },
    "tags": [
     "hide"
    ]
   },
   "outputs": [
    {
     "data": {
      "application/vnd.jupyter.widget-view+json": {
       "model_id": "412597530a3646ce9ef80002ab8190b1",
       "version_major": 2,
       "version_minor": 0
      },
      "text/plain": [
       "VBox(children=(HBox(children=(Play(value=1952, description=' Ano ', interval=1000, max=2007, min=1952, step=5)…"
      ]
     },
     "metadata": {},
     "output_type": "display_data"
    }
   ],
   "source": [
    "def on_year_change(year):        \n",
    "    app.current_df = app.query(app.data, year=year[\"new\"]) # Query por ano\n",
    "\n",
    "    ## batch_animate():\n",
    "    # Anima as alterações realizadas dentro do block \"with\"\n",
    "    with app.scatter.batch_animate():\n",
    "        for continent_group in app.scatter.data:\n",
    "            continent = continent_group.legendgroup\n",
    "            df_cont = app.query(app.current_df, continent=continent)\n",
    "\n",
    "            continent_group.marker.size = df_cont[\"pop\"]\n",
    "            continent_group.x = df_cont[\"gdpPercap\"]\n",
    "            continent_group.y = df_cont[\"lifeExp\"]\n",
    "\n",
    "app.on_year_change = on_year_change\n",
    "\n",
    "app.slider.observe(app.on_year_change, \"value\")\n",
    "\n",
    "VBox([app.toolbar, app.scatter])"
   ]
  },
  {
   "cell_type": "markdown",
   "metadata": {
    "slideshow": {
     "slide_type": "skip"
    },
    "tags": [
     "hide"
    ]
   },
   "source": [
    "# Resultado"
   ]
  },
  {
   "cell_type": "code",
   "execution_count": 19,
   "metadata": {},
   "outputs": [
    {
     "data": {
      "application/vnd.jupyter.widget-view+json": {
       "model_id": "f7e7625c0e2144bca732660afd8ce202",
       "version_major": 2,
       "version_minor": 0
      },
      "text/plain": [
       "VBox(children=(HBox(children=(Play(value=1982, description=' Ano ', interval=1000, max=2007, min=1952, step=5)…"
      ]
     },
     "metadata": {},
     "output_type": "display_data"
    }
   ],
   "source": [
    "app.show()"
   ]
  }
 ],
 "metadata": {
  "kernelspec": {
   "display_name": "Python 3.8.2 64-bit",
   "language": "python",
   "name": "python38264bit278ca8cd58e643f9bbba38ba7fb00ce4"
  },
  "language_info": {
   "codemirror_mode": {
    "name": "ipython",
    "version": 3
   },
   "file_extension": ".py",
   "mimetype": "text/x-python",
   "name": "python",
   "nbconvert_exporter": "python",
   "pygments_lexer": "ipython3",
   "version": "3.9.7"
  },
  "voila": {
   "theme": "dark"
  },
  "widgets": {
   "application/vnd.jupyter.widget-state+json": {
    "state": {},
    "version_major": 2,
    "version_minor": 0
   }
  }
 },
 "nbformat": 4,
 "nbformat_minor": 4
}
