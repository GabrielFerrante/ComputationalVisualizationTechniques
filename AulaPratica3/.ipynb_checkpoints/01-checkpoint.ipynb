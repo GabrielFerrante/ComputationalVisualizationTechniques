{
 "cells": [
  {
   "cell_type": "markdown",
   "metadata": {},
   "source": [
    "# Elementos de interface\n",
    "\n",
    "Iremos trabalhar com o conjunto de dados GapMinder, carregado pelo elemento de upload de arquivos.\n",
    "\n",
    "## ipywidgets\n",
    "\n",
    "[Documentação](https://ipywidgets.readthedocs.io/)\n",
    "\n",
    "* Widgets interativos em HTML para a plataforma Jupyter Notebook e IPython Kernel.\n",
    "* <u>Baseado em eventos</u>\n",
    "\n",
    "Para instalar:\n",
    "```\n",
    "pip install ipywidgets \n",
    "```"
   ]
  },
  {
   "cell_type": "markdown",
   "metadata": {},
   "source": [
    "## Upload de arquivos"
   ]
  },
  {
   "cell_type": "code",
   "execution_count": 1,
   "metadata": {},
   "outputs": [
    {
     "data": {
      "application/vnd.jupyter.widget-view+json": {
       "model_id": "84adb35d29eb4e1198bffad0ae631955",
       "version_major": 2,
       "version_minor": 0
      },
      "text/plain": [
       "FileUpload(value={}, accept='.csv', description='Upload')"
      ]
     },
     "metadata": {},
     "output_type": "display_data"
    }
   ],
   "source": [
    "from ipywidgets import widgets\n",
    "\n",
    "file = widgets.FileUpload(\n",
    "    accept='.csv',  # Accepted file extension e.g. '.txt', '.pdf', 'image/*', 'image/*,.pdf'\n",
    "    multiple=False  # True to accept multiple files upload else False\n",
    ")\n",
    "file"
   ]
  },
  {
   "cell_type": "code",
   "execution_count": 3,
   "metadata": {},
   "outputs": [
    {
     "data": {
      "text/html": [
       "<div>\n",
       "<style scoped>\n",
       "    .dataframe tbody tr th:only-of-type {\n",
       "        vertical-align: middle;\n",
       "    }\n",
       "\n",
       "    .dataframe tbody tr th {\n",
       "        vertical-align: top;\n",
       "    }\n",
       "\n",
       "    .dataframe thead th {\n",
       "        text-align: right;\n",
       "    }\n",
       "</style>\n",
       "<table border=\"1\" class=\"dataframe\">\n",
       "  <thead>\n",
       "    <tr style=\"text-align: right;\">\n",
       "      <th></th>\n",
       "      <th>country</th>\n",
       "      <th>continent</th>\n",
       "      <th>year</th>\n",
       "      <th>lifeExp</th>\n",
       "      <th>pop</th>\n",
       "      <th>gdpPercap</th>\n",
       "      <th>iso_alpha</th>\n",
       "      <th>iso_num</th>\n",
       "    </tr>\n",
       "  </thead>\n",
       "  <tbody>\n",
       "    <tr>\n",
       "      <th>0</th>\n",
       "      <td>Afghanistan</td>\n",
       "      <td>Asia</td>\n",
       "      <td>1952</td>\n",
       "      <td>28.801</td>\n",
       "      <td>8425333</td>\n",
       "      <td>779.445314</td>\n",
       "      <td>AFG</td>\n",
       "      <td>4</td>\n",
       "    </tr>\n",
       "    <tr>\n",
       "      <th>1</th>\n",
       "      <td>Afghanistan</td>\n",
       "      <td>Asia</td>\n",
       "      <td>1957</td>\n",
       "      <td>30.332</td>\n",
       "      <td>9240934</td>\n",
       "      <td>820.853030</td>\n",
       "      <td>AFG</td>\n",
       "      <td>4</td>\n",
       "    </tr>\n",
       "    <tr>\n",
       "      <th>2</th>\n",
       "      <td>Afghanistan</td>\n",
       "      <td>Asia</td>\n",
       "      <td>1962</td>\n",
       "      <td>31.997</td>\n",
       "      <td>10267083</td>\n",
       "      <td>853.100710</td>\n",
       "      <td>AFG</td>\n",
       "      <td>4</td>\n",
       "    </tr>\n",
       "    <tr>\n",
       "      <th>3</th>\n",
       "      <td>Afghanistan</td>\n",
       "      <td>Asia</td>\n",
       "      <td>1967</td>\n",
       "      <td>34.020</td>\n",
       "      <td>11537966</td>\n",
       "      <td>836.197138</td>\n",
       "      <td>AFG</td>\n",
       "      <td>4</td>\n",
       "    </tr>\n",
       "    <tr>\n",
       "      <th>4</th>\n",
       "      <td>Afghanistan</td>\n",
       "      <td>Asia</td>\n",
       "      <td>1972</td>\n",
       "      <td>36.088</td>\n",
       "      <td>13079460</td>\n",
       "      <td>739.981106</td>\n",
       "      <td>AFG</td>\n",
       "      <td>4</td>\n",
       "    </tr>\n",
       "  </tbody>\n",
       "</table>\n",
       "</div>"
      ],
      "text/plain": [
       "       country continent  year  lifeExp       pop   gdpPercap iso_alpha  \\\n",
       "0  Afghanistan      Asia  1952   28.801   8425333  779.445314       AFG   \n",
       "1  Afghanistan      Asia  1957   30.332   9240934  820.853030       AFG   \n",
       "2  Afghanistan      Asia  1962   31.997  10267083  853.100710       AFG   \n",
       "3  Afghanistan      Asia  1967   34.020  11537966  836.197138       AFG   \n",
       "4  Afghanistan      Asia  1972   36.088  13079460  739.981106       AFG   \n",
       "\n",
       "   iso_num  \n",
       "0        4  \n",
       "1        4  \n",
       "2        4  \n",
       "3        4  \n",
       "4        4  "
      ]
     },
     "execution_count": 3,
     "metadata": {},
     "output_type": "execute_result"
    }
   ],
   "source": [
    "import pandas as pd\n",
    "import io\n",
    "\n",
    "df = pd.read_csv(io.BytesIO([file.value[f][\"content\"] for f in file.value][0]))\n",
    "\n",
    "df[\"year\"] = df[\"year\"].astype(\"category\")\n",
    "df[\"country\"] = df[\"country\"].astype(\"category\")\n",
    "df[\"continent\"] = df[\"continent\"].astype(\"category\")\n",
    "\n",
    "years = df[\"year\"].cat.categories.tolist()\n",
    "countries = df[\"country\"].cat.categories.tolist()\n",
    "continents = df[\"continent\"].cat.categories.tolist()\n",
    "\n",
    "del file\n",
    "\n",
    "df.head(5)"
   ]
  },
  {
   "cell_type": "markdown",
   "metadata": {},
   "source": [
    "## Caixa de texto e Botões"
   ]
  },
  {
   "cell_type": "code",
   "execution_count": null,
   "metadata": {},
   "outputs": [],
   "source": [
    "wid_query = {\n",
    "    \"query\": widgets.Text(\n",
    "        value=\"\",\n",
    "        placeholder=\"Type a country's name\",\n",
    "        description=\"Query: \",\n",
    "        disabled=False),\n",
    "    \"button\": widgets.Button(\n",
    "        description='Search',\n",
    "        disabled=False,\n",
    "        button_style='', # 'success', 'info', 'warning', 'danger' or ''\n",
    "        icon='search', # (FontAwesome names without the `fa-` prefix)\n",
    "        tooltip='Search for a country'),\n",
    "    \"output\": widgets.Label(value=\"\")}\n",
    "\n",
    "def on_query(button):\n",
    "    wid_query[\"output\"].value = wid_query[\"query\"].value\n",
    "    \n",
    "# Eventos\n",
    "wid_query[\"button\"].on_click(on_query)\n",
    "\n",
    "widgets.VBox([\n",
    "    widgets.HBox([wid_query[\"query\"], wid_query[\"button\"]]),\n",
    "    wid_query[\"output\"]])"
   ]
  },
  {
   "cell_type": "markdown",
   "metadata": {},
   "source": [
    "## Dropdown\n",
    "\n",
    "Permite que o usuário selecione um valor dentre um conjunto de opções pré-definidas.\n",
    "\n",
    "No nosso exemplo:\n",
    "* Continentes"
   ]
  },
  {
   "cell_type": "code",
   "execution_count": null,
   "metadata": {},
   "outputs": [],
   "source": [
    "wid_continents = {\n",
    "    \"dropdown\": widgets.Dropdown(\n",
    "        options=[\"All\"] + continents,\n",
    "        value=\"All\",\n",
    "        description=\"Continent\",\n",
    "        disabled=False),\n",
    "    \"output\": widgets.Label(value=\"\")}\n",
    "\n",
    "\n",
    "def select_continent(dropdown):\n",
    "    # Novo valor acessível por dropdown[\"new\"]\n",
    "    # Antigo valor acessível por dropdown[\"old\"]\n",
    "    wid_continents[\"output\"].value = dropdown[\"new\"] if dropdown[\"new\"] != \"All\" else \"\"\n",
    "    \n",
    "# Eventos\n",
    "wid_continents[\"dropdown\"].observe(select_continent, names='value')\n",
    "\n",
    "widgets.VBox([wid_continents[\"dropdown\"], wid_continents[\"output\"]])"
   ]
  },
  {
   "cell_type": "markdown",
   "metadata": {},
   "source": [
    "## Slider\n",
    "\n",
    "* Valor flutuante dentro de um intervalo pré-definido"
   ]
  },
  {
   "cell_type": "code",
   "execution_count": null,
   "metadata": {},
   "outputs": [],
   "source": [
    "wid_years = {\n",
    "    \"play\": widgets.Play(\n",
    "        value=years[0],\n",
    "        min=years[0],\n",
    "        max=years[-1],\n",
    "        step=5,\n",
    "        interval=500,\n",
    "        description=\"Years\",\n",
    "        disabled=False),\n",
    "    \"slider\": widgets.IntSlider(\n",
    "        value=years[0],\n",
    "        min=years[0],\n",
    "        max=years[-1],\n",
    "        step=5)}\n",
    "\n",
    "widgets.jslink((wid_years[\"play\"], 'value'),\n",
    "               (wid_years[\"slider\"], 'value'))\n",
    "widgets.HBox([wid_years[\"play\"], wid_years[\"slider\"]])"
   ]
  }
 ],
 "metadata": {
  "kernelspec": {
   "display_name": "Python 3 (ipykernel)",
   "language": "python",
   "name": "python3"
  },
  "language_info": {
   "codemirror_mode": {
    "name": "ipython",
    "version": 3
   },
   "file_extension": ".py",
   "mimetype": "text/x-python",
   "name": "python",
   "nbconvert_exporter": "python",
   "pygments_lexer": "ipython3",
   "version": "3.8.8"
  }
 },
 "nbformat": 4,
 "nbformat_minor": 4
}
