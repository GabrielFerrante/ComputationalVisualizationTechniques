{
 "cells": [
  {
   "cell_type": "code",
   "execution_count": 80,
   "id": "1be1bac5",
   "metadata": {},
   "outputs": [],
   "source": [
    "from ipywidgets import widgets\n",
    "from ipywidgets import AppLayout\n",
    "from numpy import asarray\n",
    "from os.path import isfile, join\n",
    "from os import listdir\n",
    "from efficientnet.tfkeras import EfficientNetB0, preprocess_input\n",
    "from shap.plots._image import colors\n",
    "import plotly.figure_factory as ff\n",
    "import plotly.express as px\n",
    "import plotly.io as pio\n",
    "import seaborn as sns\n",
    "import numpy as np\n",
    "import pandas as pd\n",
    "import os\n",
    "import json\n",
    "import shap\n",
    "import cv2\n",
    "import warnings\n",
    "import random\n",
    "import string\n",
    "import matplotlib.pyplot as pl\n",
    "\n"
   ]
  },
  {
   "cell_type": "code",
   "execution_count": 42,
   "id": "eec43196",
   "metadata": {},
   "outputs": [],
   "source": [
    "df = pd.read_csv(\"DadosEmbeddingsNormalizados.csv\")"
   ]
  },
  {
   "cell_type": "code",
   "execution_count": 73,
   "id": "5ebbdbde",
   "metadata": {},
   "outputs": [],
   "source": [
    "\n",
    "scatter = px.scatter(df,\n",
    "    x=\"x\", y=\"y\",\n",
    "    marginal_x=\"histogram\", marginal_y=\"violin\",\n",
    "    color=\"ClasseOriginal\", hover_data=['ImageName', df.index], title=\"Embeddings das imagens\")\n"
   ]
  },
  {
   "cell_type": "code",
   "execution_count": 74,
   "id": "f0ab576b",
   "metadata": {},
   "outputs": [],
   "source": [
    "\n",
    "mypath = f\"./valid/\"\n",
    "onlyfiles = [f for f in listdir(mypath) if isfile(join(mypath, f))]\n",
    "imagensOrdenadas = sorted(onlyfiles)\n",
    "\n",
    "#USAR PARA REDIMENSIONAR AS IMAGENS PARA 224X224\n",
    "\n",
    "def redimensionar(imagem):\n",
    "  imagem = cv2.resize(imagem, (224, 224),interpolation=cv2.INTER_CUBIC)\n",
    "  return imagem\n",
    "\n",
    "for img in onlyfiles:\n",
    "  imagem = cv2.imread(f'./valid/{img}')\n",
    "  if imagem.shape[0] != 224 or imagem.shape[1] != 224:\n",
    "        novaImagem = redimensionar(imagem)\n",
    "        cv2.imwrite(mypath+\"/\"+img, novaImagem)\n",
    "    "
   ]
  },
  {
   "cell_type": "code",
   "execution_count": 75,
   "id": "700cf122",
   "metadata": {},
   "outputs": [],
   "source": [
    "model = EfficientNetB0(weights='imagenet')"
   ]
  },
  {
   "cell_type": "code",
   "execution_count": 76,
   "id": "f44db9b8",
   "metadata": {},
   "outputs": [],
   "source": [
    "def image(shap_values, pixel_values=None, labels=None, width=20, aspect=0.2, hspace=0.2, labelpad=None, show=True):\n",
    "    \"\"\" Plots SHAP values for image inputs.\n",
    "    Parameters\n",
    "    ----------\n",
    "    shap_values : [numpy.array]\n",
    "        List of arrays of SHAP values. Each array has the shap (# samples x width x height x channels), and the\n",
    "        length of the list is equal to the number of model outputs that are being explained.\n",
    "    pixel_values : numpy.array\n",
    "        Matrix of pixel values (# samples x width x height x channels) for each image. It should be the same\n",
    "        shape as each array in the shap_values list of arrays.\n",
    "    labels : list\n",
    "        List of names for each of the model outputs that are being explained. This list should be the same length\n",
    "        as the shap_values list.\n",
    "    width : float\n",
    "        The width of the produced matplotlib plot.\n",
    "    labelpad : float\n",
    "        How much padding to use around the model output labels.\n",
    "    show : bool\n",
    "        Whether matplotlib.pyplot.show() is called before returning. Setting this to False allows the plot\n",
    "        to be customized further after it has been created.\n",
    "    \"\"\"\n",
    "\n",
    "    # support passing an explanation object\n",
    "    if str(type(shap_values)).endswith(\"Explanation'>\"):\n",
    "        shap_exp = shap_values\n",
    "        # feature_names = [shap_exp.feature_names]\n",
    "        # ind = 0\n",
    "        if len(shap_exp.output_dims) == 1:\n",
    "            shap_values = [shap_exp.values[..., i] for i in range(shap_exp.values.shape[-1])]\n",
    "        elif len(shap_exp.output_dims) == 0:\n",
    "            shap_values = shap_exp.values\n",
    "        else:\n",
    "            raise Exception(\"Number of outputs needs to have support added!! (probably a simple fix)\")\n",
    "        if pixel_values is None:\n",
    "            pixel_values = shap_exp.data\n",
    "        if labels is None:\n",
    "            labels = shap_exp.output_names\n",
    "\n",
    "    multi_output = True\n",
    "    if not isinstance(shap_values, list):\n",
    "        multi_output = False\n",
    "        shap_values = [shap_values]\n",
    "\n",
    "    if len(shap_values[0].shape) == 3:\n",
    "        shap_values = [v.reshape(1, *v.shape) for v in shap_values]\n",
    "        pixel_values = pixel_values.reshape(1, *pixel_values.shape)\n",
    "\n",
    "    # make sure labels\n",
    "    if labels is not None:\n",
    "        labels = np.array(labels)\n",
    "        if labels.shape[0] != shap_values[0].shape[0] and labels.shape[0] == len(shap_values):\n",
    "            labels = np.tile(np.array([labels]), shap_values[0].shape[0])\n",
    "        assert labels.shape[0] == shap_values[0].shape[0], \"Labels must have same row count as shap_values arrays!\"\n",
    "        if multi_output:\n",
    "            assert labels.shape[1] == len(shap_values), \"Labels must have a column for each output in shap_values!\"\n",
    "        else:\n",
    "            assert len(labels.shape) == 1, \"Labels must be a vector for single output shap_values.\"\n",
    "\n",
    "    label_kwargs = {} if labelpad is None else {'pad': labelpad}\n",
    "\n",
    "    # plot our explanations\n",
    "    x = pixel_values\n",
    "    fig_size = np.array([3 * (len(shap_values) + 1), 2.5 * (x.shape[0] + 1)])\n",
    "    if fig_size[0] > width:\n",
    "        fig_size *= width / fig_size[0]\n",
    "    fig, axes = pl.subplots(nrows=x.shape[0], ncols=len(shap_values) + 1, figsize=fig_size)\n",
    "    if len(axes.shape) == 1:\n",
    "        axes = axes.reshape(1,axes.size)\n",
    "    for row in range(x.shape[0]):\n",
    "        x_curr = x[row].copy()\n",
    "\n",
    "        # make sure we have a 2D array for grayscale\n",
    "        if len(x_curr.shape) == 3 and x_curr.shape[2] == 1:\n",
    "            x_curr = x_curr.reshape(x_curr.shape[:2])\n",
    "        if x_curr.max() > 1:\n",
    "            x_curr /= 255.\n",
    "\n",
    "        # get a grayscale version of the image\n",
    "        if len(x_curr.shape) == 3 and x_curr.shape[2] == 3:\n",
    "            x_curr_gray = (0.2989 * x_curr[:,:,0] + 0.5870 * x_curr[:,:,1] + 0.1140 * x_curr[:,:,2]) # rgb to gray\n",
    "            x_curr_disp = x_curr\n",
    "        elif len(x_curr.shape) == 3:\n",
    "            x_curr_gray = x_curr.mean(2)\n",
    "\n",
    "            # for non-RGB multi-channel data we show an RGB image where each of the three channels is a scaled k-mean center\n",
    "            flat_vals = x_curr.reshape([x_curr.shape[0]*x_curr.shape[1], x_curr.shape[2]]).T\n",
    "            flat_vals = (flat_vals.T - flat_vals.mean(1)).T\n",
    "            means = kmeans(flat_vals, 3, round_values=False).data.T.reshape([x_curr.shape[0], x_curr.shape[1], 3])\n",
    "            x_curr_disp = (means - np.percentile(means, 0.5, (0,1))) / (np.percentile(means, 99.5, (0,1)) - np.percentile(means, 1, (0,1)))\n",
    "            x_curr_disp[x_curr_disp > 1] = 1\n",
    "            x_curr_disp[x_curr_disp < 0] = 0\n",
    "        else:\n",
    "            x_curr_gray = x_curr\n",
    "            x_curr_disp = x_curr\n",
    "\n",
    "        axes[row,0].imshow(x_curr_disp, cmap=pl.get_cmap('gray'))\n",
    "        axes[row,0].axis('off')\n",
    "        if len(shap_values[0][row].shape) == 2:\n",
    "            abs_vals = np.stack([np.abs(shap_values[i]) for i in range(len(shap_values))], 0).flatten()\n",
    "        else:\n",
    "            abs_vals = np.stack([np.abs(shap_values[i].sum(-1)) for i in range(len(shap_values))], 0).flatten()\n",
    "        max_val = np.nanpercentile(abs_vals, 99.9)\n",
    "        for i in range(len(shap_values)):\n",
    "            if labels is not None:\n",
    "                axes[row,i+1].set_title(labels[row,i], **label_kwargs)\n",
    "            sv = shap_values[i][row] if len(shap_values[i][row].shape) == 2 else shap_values[i][row].sum(-1)\n",
    "            axes[row,i+1].imshow(x_curr_gray, cmap=pl.get_cmap('gray'), alpha=0.15, extent=(-1, sv.shape[1], sv.shape[0], -1))\n",
    "            im = axes[row,i+1].imshow(sv, cmap=colors.red_transparent_blue, vmin=-max_val, vmax=max_val)\n",
    "            axes[row,i+1].axis('off')\n",
    "    if hspace == 'auto':\n",
    "        fig.tight_layout()\n",
    "    else:\n",
    "        fig.subplots_adjust(hspace=hspace)\n",
    "    cb = fig.colorbar(im, ax=np.ravel(axes).tolist(), label=\"SHAP value\", orientation=\"horizontal\", aspect=fig_size[0]/aspect)\n",
    "    cb.outline.set_visible(False)\n",
    "    if show:\n",
    "        pl.savefig('imagemExplicada.jpg', bbox_inches='tight')\n",
    "        #pl.show()"
   ]
  },
  {
   "cell_type": "code",
   "execution_count": 77,
   "id": "4c5bec11",
   "metadata": {},
   "outputs": [],
   "source": [
    "def TransformImageForSHAP(): \n",
    "    arrayImagens = []\n",
    "    i = 0\n",
    "    for img in onlyfiles:\n",
    "      imagem = cv2.imread(f'./valid/{img}')\n",
    "      arrayImagens.append(np.array(imagem.astype('float32')))\n",
    "      i = i + 1\n",
    "    return np.array(arrayImagens)\n",
    "\n",
    "def XAI(dado):\n",
    "\n",
    "    X = TransformImageForSHAP()\n",
    "\n",
    "    url = \"https://s3.amazonaws.com/deep-learning-models/image-models/imagenet_class_index.json\"\n",
    "    with open(shap.datasets.cache(url)) as file:\n",
    "        class_names = [v[1] for v in json.load(file).values()]\n",
    "\n",
    "    def f(x):\n",
    "        tmp = x.copy()\n",
    "        preprocess_input(tmp)\n",
    "        return model(tmp)\n",
    "\n",
    "\n",
    "    masker = shap.maskers.Image(\"inpaint_telea\", X[0].shape)\n",
    "\n",
    "    explainer = shap.Explainer(f, masker, output_names=class_names)\n",
    "\n",
    "\n",
    "    if int(dado) in df.index:\n",
    "        nomeDaImagem = df.iloc[[int(dado)]][\"ImageName\"].values\n",
    "        if str(nomeDaImagem[0])+'.jpg' in onlyfiles:\n",
    "            indexQuery = onlyfiles.index(str(nomeDaImagem[0])+'.jpg')\n",
    "    else:\n",
    "        print(\"index não existente !\")\n",
    "        \n",
    "    shap_values = explainer(X[indexQuery:indexQuery+1], max_evals=100, batch_size=50, outputs=shap.Explanation.argsort.flip[:2])\n",
    "    image(shap_values)\n",
    "    "
   ]
  },
  {
   "cell_type": "code",
   "execution_count": 86,
   "id": "c0995819",
   "metadata": {},
   "outputs": [
    {
     "data": {
      "application/vnd.plotly.v1+json": {
       "config": {
        "plotlyServerURL": "https://plot.ly"
       },
       "data": [
        {
         "customdata": [
          [
           "bear_000000000285",
           0
          ],
          [
           "bear_000000127955",
           1
          ],
          [
           "bear_000000229997",
           2
          ],
          [
           "bear_000000361180",
           3
          ],
          [
           "bear_000000513484",
           4
          ],
          [
           "bear_000000020247",
           50
          ],
          [
           "bear_000000132622",
           51
          ],
          [
           "bear_000000235064",
           52
          ],
          [
           "bear_000000375015",
           53
          ],
          [
           "bear_000000519611",
           54
          ],
          [
           "bear_000000042296",
           100
          ],
          [
           "bear_000000165500",
           101
          ],
          [
           "bear_000000243075",
           102
          ],
          [
           "bear_000000390826",
           103
          ],
          [
           "bear_000000519688",
           104
          ],
          [
           "bear_000000071756",
           150
          ],
          [
           "bear_000000173033",
           151
          ],
          [
           "bear_000000298738",
           152
          ],
          [
           "bear_000000414261",
           153
          ],
          [
           "bear_000000521231",
           154
          ],
          [
           "bear_000000079144",
           200
          ],
          [
           "bear_000000186422",
           201
          ],
          [
           "bear_000000307658",
           202
          ],
          [
           "bear_000000417465",
           203
          ],
          [
           "bear_000000532071",
           204
          ],
          [
           "bear_000000085478",
           250
          ],
          [
           "bear_000000194216",
           251
          ],
          [
           "bear_000000308476",
           252
          ],
          [
           "bear_000000431727",
           253
          ],
          [
           "bear_000000547519",
           254
          ],
          [
           "bear_000000092839",
           300
          ],
          [
           "bear_000000194506",
           301
          ],
          [
           "bear_000000308753",
           302
          ],
          [
           "bear_000000453981",
           303
          ],
          [
           "bear_000000560266",
           304
          ],
          [
           "bear_000000096960",
           350
          ],
          [
           "bear_000000203546",
           351
          ],
          [
           "bear_000000312586",
           352
          ],
          [
           "bear_000000460927",
           353
          ],
          [
           "bear_000000572517",
           354
          ],
          [
           "bear_000000104603",
           400
          ],
          [
           "bear_000000205776",
           401
          ],
          [
           "bear_000000318080",
           402
          ],
          [
           "bear_000000461036",
           403
          ],
          [
           "bear_000000573391",
           404
          ],
          [
           "bear_000000110972",
           450
          ],
          [
           "bear_000000217948",
           451
          ],
          [
           "bear_000000341094",
           452
          ],
          [
           "bear_000000471450",
           453
          ]
         ],
         "hovertemplate": "ClasseOriginal=bear<br>x=%{x}<br>y=%{y}<br>ImageName=%{customdata[0]}<br>index=%{customdata[1]}<extra></extra>",
         "legendgroup": "bear",
         "marker": {
          "color": "#636efa",
          "symbol": "circle"
         },
         "mode": "markers",
         "name": "bear",
         "orientation": "v",
         "showlegend": true,
         "type": "scatter",
         "x": [
          3.6955519,
          -1.3337252,
          -7.1112056,
          2.1765592,
          -0.8567942,
          1.9589081,
          3.4018104,
          2.1182992,
          4.4621344,
          2.2426252,
          -1.8828187,
          -0.3759694,
          5.644831,
          -3.434191,
          5.906036,
          0.2153629,
          6.2417655,
          -2.106233,
          5.2091184,
          2.4656634,
          -1.8368376,
          -10.645494,
          4.229193,
          3.763474,
          -4.0772843,
          -0.12115917,
          4.076492,
          3.0117013,
          -5.7561183,
          2.5192654,
          4.7873707,
          -2.8890452,
          -7.15386,
          -5.092201,
          -1.1579037,
          2.3800952,
          0.19605182,
          -3.4871705,
          2.4479785,
          0.9688473,
          -3.170976,
          0.1404138,
          0.04337413,
          -5.6008806,
          -1.9447111,
          -4.391413,
          7.928847,
          -10.063681,
          0.9347381
         ],
         "xaxis": "x",
         "y": [
          -5.4306793,
          -5.2676063,
          18.551336,
          -6.5232553,
          -6.1431904,
          -7.903794,
          -5.340008,
          -5.196118,
          -7.390503,
          -2.8278534,
          -3.351517,
          21.07447,
          -4.064519,
          15.0173435,
          -9.300754,
          -1.4184296,
          -13.104749,
          -8.092333,
          -8.185492,
          -3.2648141,
          -1.1212031,
          21.528868,
          -6.0783076,
          -8.977281,
          21.740183,
          -3.6171424,
          16.600992,
          -2.81696,
          -9.235071,
          -6.165481,
          -4.2347813,
          -5.70931,
          1.2644566,
          17.851435,
          -5.6316557,
          -1.6676067,
          -6.6638594,
          20.426239,
          -7.7333755,
          -2.469793,
          20.94281,
          -9.604886,
          -5.250351,
          -7.711974,
          21.145773,
          19.861069,
          1.0437206,
          -12.963233,
          20.818722
         ],
         "yaxis": "y"
        },
        {
         "alignmentgroup": "True",
         "bingroup": "x",
         "hovertemplate": "ClasseOriginal=bear<br>x=%{x}<br>count=%{y}<extra></extra>",
         "legendgroup": "bear",
         "marker": {
          "color": "#636efa"
         },
         "name": "bear",
         "offsetgroup": "bear",
         "opacity": 0.5,
         "showlegend": false,
         "type": "histogram",
         "x": [
          3.6955519,
          -1.3337252,
          -7.1112056,
          2.1765592,
          -0.8567942,
          1.9589081,
          3.4018104,
          2.1182992,
          4.4621344,
          2.2426252,
          -1.8828187,
          -0.3759694,
          5.644831,
          -3.434191,
          5.906036,
          0.2153629,
          6.2417655,
          -2.106233,
          5.2091184,
          2.4656634,
          -1.8368376,
          -10.645494,
          4.229193,
          3.763474,
          -4.0772843,
          -0.12115917,
          4.076492,
          3.0117013,
          -5.7561183,
          2.5192654,
          4.7873707,
          -2.8890452,
          -7.15386,
          -5.092201,
          -1.1579037,
          2.3800952,
          0.19605182,
          -3.4871705,
          2.4479785,
          0.9688473,
          -3.170976,
          0.1404138,
          0.04337413,
          -5.6008806,
          -1.9447111,
          -4.391413,
          7.928847,
          -10.063681,
          0.9347381
         ],
         "xaxis": "x3",
         "yaxis": "y3"
        },
        {
         "alignmentgroup": "True",
         "customdata": [
          [
           "bear_000000000285",
           0
          ],
          [
           "bear_000000127955",
           1
          ],
          [
           "bear_000000229997",
           2
          ],
          [
           "bear_000000361180",
           3
          ],
          [
           "bear_000000513484",
           4
          ],
          [
           "bear_000000020247",
           50
          ],
          [
           "bear_000000132622",
           51
          ],
          [
           "bear_000000235064",
           52
          ],
          [
           "bear_000000375015",
           53
          ],
          [
           "bear_000000519611",
           54
          ],
          [
           "bear_000000042296",
           100
          ],
          [
           "bear_000000165500",
           101
          ],
          [
           "bear_000000243075",
           102
          ],
          [
           "bear_000000390826",
           103
          ],
          [
           "bear_000000519688",
           104
          ],
          [
           "bear_000000071756",
           150
          ],
          [
           "bear_000000173033",
           151
          ],
          [
           "bear_000000298738",
           152
          ],
          [
           "bear_000000414261",
           153
          ],
          [
           "bear_000000521231",
           154
          ],
          [
           "bear_000000079144",
           200
          ],
          [
           "bear_000000186422",
           201
          ],
          [
           "bear_000000307658",
           202
          ],
          [
           "bear_000000417465",
           203
          ],
          [
           "bear_000000532071",
           204
          ],
          [
           "bear_000000085478",
           250
          ],
          [
           "bear_000000194216",
           251
          ],
          [
           "bear_000000308476",
           252
          ],
          [
           "bear_000000431727",
           253
          ],
          [
           "bear_000000547519",
           254
          ],
          [
           "bear_000000092839",
           300
          ],
          [
           "bear_000000194506",
           301
          ],
          [
           "bear_000000308753",
           302
          ],
          [
           "bear_000000453981",
           303
          ],
          [
           "bear_000000560266",
           304
          ],
          [
           "bear_000000096960",
           350
          ],
          [
           "bear_000000203546",
           351
          ],
          [
           "bear_000000312586",
           352
          ],
          [
           "bear_000000460927",
           353
          ],
          [
           "bear_000000572517",
           354
          ],
          [
           "bear_000000104603",
           400
          ],
          [
           "bear_000000205776",
           401
          ],
          [
           "bear_000000318080",
           402
          ],
          [
           "bear_000000461036",
           403
          ],
          [
           "bear_000000573391",
           404
          ],
          [
           "bear_000000110972",
           450
          ],
          [
           "bear_000000217948",
           451
          ],
          [
           "bear_000000341094",
           452
          ],
          [
           "bear_000000471450",
           453
          ]
         ],
         "hovertemplate": "ClasseOriginal=bear<br>y=%{y}<br>ImageName=%{customdata[0]}<br>index=%{customdata[1]}<extra></extra>",
         "legendgroup": "bear",
         "marker": {
          "color": "#636efa",
          "symbol": "circle"
         },
         "name": "bear",
         "offsetgroup": "bear",
         "scalegroup": "y",
         "showlegend": false,
         "type": "violin",
         "xaxis": "x2",
         "y": [
          -5.4306793,
          -5.2676063,
          18.551336,
          -6.5232553,
          -6.1431904,
          -7.903794,
          -5.340008,
          -5.196118,
          -7.390503,
          -2.8278534,
          -3.351517,
          21.07447,
          -4.064519,
          15.0173435,
          -9.300754,
          -1.4184296,
          -13.104749,
          -8.092333,
          -8.185492,
          -3.2648141,
          -1.1212031,
          21.528868,
          -6.0783076,
          -8.977281,
          21.740183,
          -3.6171424,
          16.600992,
          -2.81696,
          -9.235071,
          -6.165481,
          -4.2347813,
          -5.70931,
          1.2644566,
          17.851435,
          -5.6316557,
          -1.6676067,
          -6.6638594,
          20.426239,
          -7.7333755,
          -2.469793,
          20.94281,
          -9.604886,
          -5.250351,
          -7.711974,
          21.145773,
          19.861069,
          1.0437206,
          -12.963233,
          20.818722
         ],
         "yaxis": "y2"
        },
        {
         "customdata": [
          [
           "bird_000000031322",
           5
          ],
          [
           "bird_000000147498",
           6
          ],
          [
           "bird_000000229997",
           7
          ],
          [
           "bird_000000330369",
           8
          ],
          [
           "bird_000000490125",
           9
          ],
          [
           "bird_000000032811",
           55
          ],
          [
           "bird_000000149622",
           56
          ],
          [
           "bird_000000236690",
           57
          ],
          [
           "bird_000000337987",
           58
          ],
          [
           "bird_000000494188",
           59
          ],
          [
           "bird_000000049761",
           105
          ],
          [
           "bird_000000157847",
           106
          ],
          [
           "bird_000000264335",
           107
          ],
          [
           "bird_000000402519",
           108
          ],
          [
           "bird_000000511076",
           109
          ],
          [
           "bird_000000055299",
           155
          ],
          [
           "bird_000000159791",
           156
          ],
          [
           "bird_000000277051",
           157
          ],
          [
           "bird_000000404568",
           158
          ],
          [
           "bird_000000523782",
           159
          ],
          [
           "bird_000000070774",
           205
          ],
          [
           "bird_000000182441",
           206
          ],
          [
           "bird_000000284279",
           207
          ],
          [
           "bird_000000417876",
           208
          ],
          [
           "bird_000000523811",
           209
          ],
          [
           "bird_000000100489",
           255
          ],
          [
           "bird_000000186422",
           256
          ],
          [
           "bird_000000285788",
           257
          ],
          [
           "bird_000000418959",
           258
          ],
          [
           "bird_000000542776",
           259
          ],
          [
           "bird_000000117374",
           305
          ],
          [
           "bird_000000186938",
           306
          ],
          [
           "bird_000000289393",
           307
          ],
          [
           "bird_000000434247",
           308
          ],
          [
           "bird_000000544811",
           309
          ],
          [
           "bird_000000120420",
           355
          ],
          [
           "bird_000000210032",
           356
          ],
          [
           "bird_000000300155",
           357
          ],
          [
           "bird_000000475223",
           358
          ],
          [
           "bird_000000572517",
           359
          ],
          [
           "bird_000000122927",
           405
          ],
          [
           "bird_000000216739",
           406
          ],
          [
           "bird_000000314034",
           407
          ],
          [
           "bird_000000482477",
           408
          ],
          [
           "bird_000000577182",
           409
          ],
          [
           "bird_000000019042",
           454
          ],
          [
           "bird_000000126107",
           455
          ],
          [
           "bird_000000222235",
           456
          ],
          [
           "bird_000000315001",
           457
          ],
          [
           "bird_000000489046",
           458
          ]
         ],
         "hovertemplate": "ClasseOriginal=bird<br>x=%{x}<br>y=%{y}<br>ImageName=%{customdata[0]}<br>index=%{customdata[1]}<extra></extra>",
         "legendgroup": "bird",
         "marker": {
          "color": "#EF553B",
          "symbol": "circle"
         },
         "mode": "markers",
         "name": "bird",
         "orientation": "v",
         "showlegend": true,
         "type": "scatter",
         "x": [
          -26.12381,
          -9.730089,
          -7.1112127,
          -9.535669,
          -15.126745,
          -12.528786,
          -16.704985,
          -5.7647123,
          -15.595942,
          17.428852,
          6.3418694,
          -19.81761,
          -15.290282,
          -18.059309,
          -9.753761,
          -17.022284,
          -4.3193836,
          -20.210579,
          -17.835747,
          -4.1949444,
          9.9439335,
          -23.910158,
          -18.870275,
          30.310806,
          -20.54464,
          -18.108463,
          -10.645493,
          -0.052768864,
          -5.0421524,
          -20.966467,
          16.778173,
          -17.985376,
          11.202953,
          -20.48552,
          -21.92479,
          -6.1058207,
          -12.943271,
          -17.545498,
          -17.059698,
          0.9688245,
          -17.232824,
          23.509867,
          4.6825275,
          -15.835789,
          -8.624021,
          -25.056255,
          -18.912592,
          -4.8301578,
          -22.759932,
          -16.981962
         ],
         "xaxis": "x",
         "y": [
          -3.155214,
          -0.087024376,
          18.551367,
          2.0407267,
          -7.4004226,
          -1.439436,
          8.932007,
          -2.5967941,
          8.738978,
          4.5183816,
          24.55764,
          -1.2515023,
          6.000825,
          10.630167,
          -10.29666,
          0.50616366,
          -21.250362,
          7.8246174,
          5.455392,
          -13.294932,
          4.860913,
          -1.1905895,
          8.11027,
          6.5729923,
          5.536376,
          8.210859,
          21.528927,
          14.237214,
          -4.029195,
          8.004672,
          -12.828012,
          5.79858,
          -12.586075,
          -7.026211,
          1.5674951,
          -0.5980626,
          2.9113414,
          8.625908,
          3.7591767,
          -2.4696953,
          5.6004963,
          -3.350166,
          26.683653,
          6.1737647,
          -2.426875,
          -1.2373748,
          2.1748822,
          -8.676154,
          -0.5680222,
          9.664362
         ],
         "yaxis": "y"
        },
        {
         "alignmentgroup": "True",
         "bingroup": "x",
         "hovertemplate": "ClasseOriginal=bird<br>x=%{x}<br>count=%{y}<extra></extra>",
         "legendgroup": "bird",
         "marker": {
          "color": "#EF553B"
         },
         "name": "bird",
         "offsetgroup": "bird",
         "opacity": 0.5,
         "showlegend": false,
         "type": "histogram",
         "x": [
          -26.12381,
          -9.730089,
          -7.1112127,
          -9.535669,
          -15.126745,
          -12.528786,
          -16.704985,
          -5.7647123,
          -15.595942,
          17.428852,
          6.3418694,
          -19.81761,
          -15.290282,
          -18.059309,
          -9.753761,
          -17.022284,
          -4.3193836,
          -20.210579,
          -17.835747,
          -4.1949444,
          9.9439335,
          -23.910158,
          -18.870275,
          30.310806,
          -20.54464,
          -18.108463,
          -10.645493,
          -0.052768864,
          -5.0421524,
          -20.966467,
          16.778173,
          -17.985376,
          11.202953,
          -20.48552,
          -21.92479,
          -6.1058207,
          -12.943271,
          -17.545498,
          -17.059698,
          0.9688245,
          -17.232824,
          23.509867,
          4.6825275,
          -15.835789,
          -8.624021,
          -25.056255,
          -18.912592,
          -4.8301578,
          -22.759932,
          -16.981962
         ],
         "xaxis": "x3",
         "yaxis": "y3"
        },
        {
         "alignmentgroup": "True",
         "customdata": [
          [
           "bird_000000031322",
           5
          ],
          [
           "bird_000000147498",
           6
          ],
          [
           "bird_000000229997",
           7
          ],
          [
           "bird_000000330369",
           8
          ],
          [
           "bird_000000490125",
           9
          ],
          [
           "bird_000000032811",
           55
          ],
          [
           "bird_000000149622",
           56
          ],
          [
           "bird_000000236690",
           57
          ],
          [
           "bird_000000337987",
           58
          ],
          [
           "bird_000000494188",
           59
          ],
          [
           "bird_000000049761",
           105
          ],
          [
           "bird_000000157847",
           106
          ],
          [
           "bird_000000264335",
           107
          ],
          [
           "bird_000000402519",
           108
          ],
          [
           "bird_000000511076",
           109
          ],
          [
           "bird_000000055299",
           155
          ],
          [
           "bird_000000159791",
           156
          ],
          [
           "bird_000000277051",
           157
          ],
          [
           "bird_000000404568",
           158
          ],
          [
           "bird_000000523782",
           159
          ],
          [
           "bird_000000070774",
           205
          ],
          [
           "bird_000000182441",
           206
          ],
          [
           "bird_000000284279",
           207
          ],
          [
           "bird_000000417876",
           208
          ],
          [
           "bird_000000523811",
           209
          ],
          [
           "bird_000000100489",
           255
          ],
          [
           "bird_000000186422",
           256
          ],
          [
           "bird_000000285788",
           257
          ],
          [
           "bird_000000418959",
           258
          ],
          [
           "bird_000000542776",
           259
          ],
          [
           "bird_000000117374",
           305
          ],
          [
           "bird_000000186938",
           306
          ],
          [
           "bird_000000289393",
           307
          ],
          [
           "bird_000000434247",
           308
          ],
          [
           "bird_000000544811",
           309
          ],
          [
           "bird_000000120420",
           355
          ],
          [
           "bird_000000210032",
           356
          ],
          [
           "bird_000000300155",
           357
          ],
          [
           "bird_000000475223",
           358
          ],
          [
           "bird_000000572517",
           359
          ],
          [
           "bird_000000122927",
           405
          ],
          [
           "bird_000000216739",
           406
          ],
          [
           "bird_000000314034",
           407
          ],
          [
           "bird_000000482477",
           408
          ],
          [
           "bird_000000577182",
           409
          ],
          [
           "bird_000000019042",
           454
          ],
          [
           "bird_000000126107",
           455
          ],
          [
           "bird_000000222235",
           456
          ],
          [
           "bird_000000315001",
           457
          ],
          [
           "bird_000000489046",
           458
          ]
         ],
         "hovertemplate": "ClasseOriginal=bird<br>y=%{y}<br>ImageName=%{customdata[0]}<br>index=%{customdata[1]}<extra></extra>",
         "legendgroup": "bird",
         "marker": {
          "color": "#EF553B",
          "symbol": "circle"
         },
         "name": "bird",
         "offsetgroup": "bird",
         "scalegroup": "y",
         "showlegend": false,
         "type": "violin",
         "xaxis": "x2",
         "y": [
          -3.155214,
          -0.087024376,
          18.551367,
          2.0407267,
          -7.4004226,
          -1.439436,
          8.932007,
          -2.5967941,
          8.738978,
          4.5183816,
          24.55764,
          -1.2515023,
          6.000825,
          10.630167,
          -10.29666,
          0.50616366,
          -21.250362,
          7.8246174,
          5.455392,
          -13.294932,
          4.860913,
          -1.1905895,
          8.11027,
          6.5729923,
          5.536376,
          8.210859,
          21.528927,
          14.237214,
          -4.029195,
          8.004672,
          -12.828012,
          5.79858,
          -12.586075,
          -7.026211,
          1.5674951,
          -0.5980626,
          2.9113414,
          8.625908,
          3.7591767,
          -2.4696953,
          5.6004963,
          -3.350166,
          26.683653,
          6.1737647,
          -2.426875,
          -1.2373748,
          2.1748822,
          -8.676154,
          -0.5680222,
          9.664362
         ],
         "yaxis": "y2"
        },
        {
         "customdata": [
          [
           "cat_000000063552",
           10
          ],
          [
           "cat_000000119828",
           11
          ],
          [
           "cat_000000269314",
           12
          ],
          [
           "cat_000000357941",
           13
          ],
          [
           "cat_000000456292",
           14
          ],
          [
           "cat_000000071226",
           60
          ],
          [
           "cat_000000131131",
           61
          ],
          [
           "cat_000000277584",
           62
          ],
          [
           "cat_000000366141",
           63
          ],
          [
           "cat_000000458255",
           64
          ],
          [
           "cat_000000077396",
           110
          ],
          [
           "cat_000000157807",
           111
          ],
          [
           "cat_000000279145",
           112
          ],
          [
           "cat_000000366199",
           113
          ],
          [
           "cat_000000460841",
           114
          ],
          [
           "cat_000000078420",
           160
          ],
          [
           "cat_000000169076",
           161
          ],
          [
           "cat_000000290843",
           162
          ],
          [
           "cat_000000401991",
           163
          ],
          [
           "cat_000000469067",
           164
          ],
          [
           "cat_000000078426",
           210
          ],
          [
           "cat_000000181859",
           211
          ],
          [
           "cat_000000312340",
           212
          ],
          [
           "cat_000000402473",
           213
          ],
          [
           "cat_000000475732",
           214
          ],
          [
           "cat_000000080949",
           260
          ],
          [
           "cat_000000211042",
           261
          ],
          [
           "cat_000000316015",
           262
          ],
          [
           "cat_000000411665",
           263
          ],
          [
           "cat_000000494634",
           264
          ],
          [
           "cat_000000098839",
           310
          ],
          [
           "cat_000000222235",
           311
          ],
          [
           "cat_000000320554",
           312
          ],
          [
           "cat_000000416256",
           313
          ],
          [
           "cat_000000519764",
           314
          ],
          [
           "cat_000000101420",
           360
          ],
          [
           "cat_000000223747",
           361
          ],
          [
           "cat_000000327769",
           362
          ],
          [
           "cat_000000416330",
           363
          ],
          [
           "cat_000000533536",
           364
          ],
          [
           "cat_000000107087",
           410
          ],
          [
           "cat_000000245764",
           411
          ],
          [
           "cat_000000329319",
           412
          ],
          [
           "cat_000000424545",
           413
          ],
          [
           "cat_000000545826",
           414
          ],
          [
           "cat_000000047121",
           459
          ],
          [
           "cat_000000116825",
           460
          ],
          [
           "cat_000000261706",
           461
          ],
          [
           "cat_000000343076",
           462
          ],
          [
           "cat_000000435299",
           463
          ]
         ],
         "hovertemplate": "ClasseOriginal=cat<br>x=%{x}<br>y=%{y}<br>ImageName=%{customdata[0]}<br>index=%{customdata[1]}<extra></extra>",
         "legendgroup": "cat",
         "marker": {
          "color": "#00cc96",
          "symbol": "circle"
         },
         "mode": "markers",
         "name": "cat",
         "orientation": "v",
         "showlegend": true,
         "type": "scatter",
         "x": [
          2.2630913,
          6.5543556,
          -18.321432,
          -10.646328,
          0.29066452,
          5.6999626,
          8.227981,
          4.062031,
          -1.9224814,
          3.2805898,
          6.492779,
          1.3432478,
          -7.915027,
          -4.177039,
          -0.9742178,
          -7.891984,
          2.1587636,
          4.021357,
          -16.120834,
          -2.0542345,
          2.425047,
          0.9870923,
          -3.9093845,
          3.0373871,
          2.8716114,
          4.401347,
          -0.7977585,
          6.526276,
          0.050401475,
          6.471278,
          8.171819,
          -4.8301735,
          16.77832,
          -0.675854,
          4.967497,
          2.6245391,
          -1.2813354,
          -1.3842071,
          2.8647485,
          0.06514576,
          -3.2252998,
          -2.2670493,
          9.788886,
          3.0453262,
          -1.2722696,
          -1.492696,
          5.4136057,
          2.4720006,
          3.470743,
          11.685587
         ],
         "xaxis": "x",
         "y": [
          -27.352324,
          -19.571915,
          11.501132,
          -2.9353037,
          -20.531954,
          -15.1276,
          -21.440767,
          -20.664474,
          -14.133128,
          -17.78525,
          -17.839567,
          -25.55672,
          -1.6209687,
          -15.179265,
          -19.082857,
          -0.061928235,
          -13.273172,
          -22.246964,
          16.878895,
          -16.236805,
          -24.396132,
          -23.584486,
          -9.775335,
          -22.633451,
          -26.377829,
          -24.70629,
          -22.548964,
          -21.288988,
          -27.457857,
          -19.40576,
          -21.387857,
          -8.676132,
          -12.73705,
          -19.14615,
          -26.280308,
          -19.626978,
          -16.535273,
          -20.921028,
          -22.899427,
          -15.192902,
          -15.22739,
          -22.442995,
          -22.361008,
          -25.49085,
          -24.298944,
          -21.627966,
          -22.72543,
          -20.97499,
          -25.48756,
          -17.696747
         ],
         "yaxis": "y"
        },
        {
         "alignmentgroup": "True",
         "bingroup": "x",
         "hovertemplate": "ClasseOriginal=cat<br>x=%{x}<br>count=%{y}<extra></extra>",
         "legendgroup": "cat",
         "marker": {
          "color": "#00cc96"
         },
         "name": "cat",
         "offsetgroup": "cat",
         "opacity": 0.5,
         "showlegend": false,
         "type": "histogram",
         "x": [
          2.2630913,
          6.5543556,
          -18.321432,
          -10.646328,
          0.29066452,
          5.6999626,
          8.227981,
          4.062031,
          -1.9224814,
          3.2805898,
          6.492779,
          1.3432478,
          -7.915027,
          -4.177039,
          -0.9742178,
          -7.891984,
          2.1587636,
          4.021357,
          -16.120834,
          -2.0542345,
          2.425047,
          0.9870923,
          -3.9093845,
          3.0373871,
          2.8716114,
          4.401347,
          -0.7977585,
          6.526276,
          0.050401475,
          6.471278,
          8.171819,
          -4.8301735,
          16.77832,
          -0.675854,
          4.967497,
          2.6245391,
          -1.2813354,
          -1.3842071,
          2.8647485,
          0.06514576,
          -3.2252998,
          -2.2670493,
          9.788886,
          3.0453262,
          -1.2722696,
          -1.492696,
          5.4136057,
          2.4720006,
          3.470743,
          11.685587
         ],
         "xaxis": "x3",
         "yaxis": "y3"
        },
        {
         "alignmentgroup": "True",
         "customdata": [
          [
           "cat_000000063552",
           10
          ],
          [
           "cat_000000119828",
           11
          ],
          [
           "cat_000000269314",
           12
          ],
          [
           "cat_000000357941",
           13
          ],
          [
           "cat_000000456292",
           14
          ],
          [
           "cat_000000071226",
           60
          ],
          [
           "cat_000000131131",
           61
          ],
          [
           "cat_000000277584",
           62
          ],
          [
           "cat_000000366141",
           63
          ],
          [
           "cat_000000458255",
           64
          ],
          [
           "cat_000000077396",
           110
          ],
          [
           "cat_000000157807",
           111
          ],
          [
           "cat_000000279145",
           112
          ],
          [
           "cat_000000366199",
           113
          ],
          [
           "cat_000000460841",
           114
          ],
          [
           "cat_000000078420",
           160
          ],
          [
           "cat_000000169076",
           161
          ],
          [
           "cat_000000290843",
           162
          ],
          [
           "cat_000000401991",
           163
          ],
          [
           "cat_000000469067",
           164
          ],
          [
           "cat_000000078426",
           210
          ],
          [
           "cat_000000181859",
           211
          ],
          [
           "cat_000000312340",
           212
          ],
          [
           "cat_000000402473",
           213
          ],
          [
           "cat_000000475732",
           214
          ],
          [
           "cat_000000080949",
           260
          ],
          [
           "cat_000000211042",
           261
          ],
          [
           "cat_000000316015",
           262
          ],
          [
           "cat_000000411665",
           263
          ],
          [
           "cat_000000494634",
           264
          ],
          [
           "cat_000000098839",
           310
          ],
          [
           "cat_000000222235",
           311
          ],
          [
           "cat_000000320554",
           312
          ],
          [
           "cat_000000416256",
           313
          ],
          [
           "cat_000000519764",
           314
          ],
          [
           "cat_000000101420",
           360
          ],
          [
           "cat_000000223747",
           361
          ],
          [
           "cat_000000327769",
           362
          ],
          [
           "cat_000000416330",
           363
          ],
          [
           "cat_000000533536",
           364
          ],
          [
           "cat_000000107087",
           410
          ],
          [
           "cat_000000245764",
           411
          ],
          [
           "cat_000000329319",
           412
          ],
          [
           "cat_000000424545",
           413
          ],
          [
           "cat_000000545826",
           414
          ],
          [
           "cat_000000047121",
           459
          ],
          [
           "cat_000000116825",
           460
          ],
          [
           "cat_000000261706",
           461
          ],
          [
           "cat_000000343076",
           462
          ],
          [
           "cat_000000435299",
           463
          ]
         ],
         "hovertemplate": "ClasseOriginal=cat<br>y=%{y}<br>ImageName=%{customdata[0]}<br>index=%{customdata[1]}<extra></extra>",
         "legendgroup": "cat",
         "marker": {
          "color": "#00cc96",
          "symbol": "circle"
         },
         "name": "cat",
         "offsetgroup": "cat",
         "scalegroup": "y",
         "showlegend": false,
         "type": "violin",
         "xaxis": "x2",
         "y": [
          -27.352324,
          -19.571915,
          11.501132,
          -2.9353037,
          -20.531954,
          -15.1276,
          -21.440767,
          -20.664474,
          -14.133128,
          -17.78525,
          -17.839567,
          -25.55672,
          -1.6209687,
          -15.179265,
          -19.082857,
          -0.061928235,
          -13.273172,
          -22.246964,
          16.878895,
          -16.236805,
          -24.396132,
          -23.584486,
          -9.775335,
          -22.633451,
          -26.377829,
          -24.70629,
          -22.548964,
          -21.288988,
          -27.457857,
          -19.40576,
          -21.387857,
          -8.676132,
          -12.73705,
          -19.14615,
          -26.280308,
          -19.626978,
          -16.535273,
          -20.921028,
          -22.899427,
          -15.192902,
          -15.22739,
          -22.442995,
          -22.361008,
          -25.49085,
          -24.298944,
          -21.627966,
          -22.72543,
          -20.97499,
          -25.48756,
          -17.696747
         ],
         "yaxis": "y2"
        },
        {
         "customdata": [
          [
           "cow_000000016010",
           15
          ],
          [
           "cow_000000152740",
           16
          ],
          [
           "cow_000000267434",
           17
          ],
          [
           "cow_000000347664",
           18
          ],
          [
           "cow_000000435206",
           19
          ],
          [
           "cow_000000041635",
           65
          ],
          [
           "cow_000000180383",
           66
          ],
          [
           "cow_000000276024",
           67
          ],
          [
           "cow_000000356612",
           68
          ],
          [
           "cow_000000455219",
           69
          ],
          [
           "cow_000000061171",
           115
          ],
          [
           "cow_000000193162",
           116
          ],
          [
           "cow_000000289393",
           117
          ],
          [
           "cow_000000357081",
           118
          ],
          [
           "cow_000000459396",
           119
          ],
          [
           "cow_000000105264",
           165
          ],
          [
           "cow_000000219440",
           166
          ],
          [
           "cow_000000298697",
           167
          ],
          [
           "cow_000000361268",
           168
          ],
          [
           "cow_000000512648",
           169
          ],
          [
           "cow_000000114907",
           215
          ],
          [
           "cow_000000222863",
           216
          ],
          [
           "cow_000000302165",
           217
          ],
          [
           "cow_000000377486",
           218
          ],
          [
           "cow_000000518213",
           219
          ],
          [
           "cow_000000119038",
           265
          ],
          [
           "cow_000000231580",
           266
          ],
          [
           "cow_000000311392",
           267
          ],
          [
           "cow_000000387148",
           268
          ],
          [
           "cow_000000535094",
           269
          ],
          [
           "cow_000000124636",
           315
          ],
          [
           "cow_000000233567",
           316
          ],
          [
           "cow_000000314034",
           317
          ],
          [
           "cow_000000402992",
           318
          ],
          [
           "cow_000000545958",
           319
          ],
          [
           "cow_000000125072",
           365
          ],
          [
           "cow_000000240754",
           366
          ],
          [
           "cow_000000329447",
           367
          ],
          [
           "cow_000000412887",
           368
          ],
          [
           "cow_000000555050",
           369
          ],
          [
           "cow_000000133778",
           415
          ],
          [
           "cow_000000244411",
           416
          ],
          [
           "cow_000000332318",
           417
          ],
          [
           "cow_000000415990",
           418
          ],
          [
           "cow_000000573626",
           419
          ],
          [
           "cow_000000014888",
           464
          ],
          [
           "cow_000000140583",
           465
          ],
          [
           "cow_000000247838",
           466
          ],
          [
           "cow_000000334555",
           467
          ],
          [
           "cow_000000416837",
           468
          ]
         ],
         "hovertemplate": "ClasseOriginal=cow<br>x=%{x}<br>y=%{y}<br>ImageName=%{customdata[0]}<br>index=%{customdata[1]}<extra></extra>",
         "legendgroup": "cow",
         "marker": {
          "color": "#ab63fa",
          "symbol": "circle"
         },
         "mode": "markers",
         "name": "cow",
         "orientation": "v",
         "showlegend": true,
         "type": "scatter",
         "x": [
          5.6143,
          3.7055585,
          3.6832707,
          -18.456234,
          -24.799501,
          5.5026803,
          -0.75872064,
          12.678999,
          12.654186,
          1.9430108,
          7.352035,
          8.960912,
          11.195697,
          0.7202613,
          3.3021863,
          15.847575,
          3.628198,
          -20.350126,
          8.773113,
          9.097633,
          13.461613,
          4.1965113,
          14.459946,
          18.086855,
          2.7067788,
          5.1170864,
          7.7540684,
          14.000271,
          -18.854506,
          -11.853956,
          2.419106,
          6.212185,
          4.682662,
          -6.1705894,
          9.86879,
          -18.049091,
          5.1457458,
          5.070889,
          -1.9824784,
          -11.334572,
          1.5869088,
          2.2078788,
          -17.347467,
          10.874274,
          -6.417764,
          11.54499,
          -15.043282,
          -17.452728,
          13.095499,
          5.267041
         ],
         "xaxis": "x",
         "y": [
          19.61983,
          26.289955,
          13.435118,
          -0.4726158,
          -2.8891926,
          12.828639,
          -13.125402,
          15.258852,
          5.7404995,
          10.827491,
          8.907165,
          15.5757065,
          -12.591038,
          11.370928,
          8.36583,
          6.8848863,
          3.6055527,
          -2.356934,
          11.861107,
          10.850609,
          -1.7608944,
          7.39431,
          3.196535,
          9.121968,
          6.7226963,
          15.979937,
          6.2518387,
          2.5241804,
          -3.2408473,
          0.89834994,
          7.5886154,
          8.3301,
          26.683805,
          7.753215,
          -11.935225,
          -0.6585264,
          7.181992,
          9.187849,
          12.330399,
          -6.0072827,
          9.588401,
          9.032502,
          -1.9563073,
          18.939886,
          -6.823702,
          0.012081374,
          -3.651418,
          -5.880509,
          4.797314,
          16.634912
         ],
         "yaxis": "y"
        },
        {
         "alignmentgroup": "True",
         "bingroup": "x",
         "hovertemplate": "ClasseOriginal=cow<br>x=%{x}<br>count=%{y}<extra></extra>",
         "legendgroup": "cow",
         "marker": {
          "color": "#ab63fa"
         },
         "name": "cow",
         "offsetgroup": "cow",
         "opacity": 0.5,
         "showlegend": false,
         "type": "histogram",
         "x": [
          5.6143,
          3.7055585,
          3.6832707,
          -18.456234,
          -24.799501,
          5.5026803,
          -0.75872064,
          12.678999,
          12.654186,
          1.9430108,
          7.352035,
          8.960912,
          11.195697,
          0.7202613,
          3.3021863,
          15.847575,
          3.628198,
          -20.350126,
          8.773113,
          9.097633,
          13.461613,
          4.1965113,
          14.459946,
          18.086855,
          2.7067788,
          5.1170864,
          7.7540684,
          14.000271,
          -18.854506,
          -11.853956,
          2.419106,
          6.212185,
          4.682662,
          -6.1705894,
          9.86879,
          -18.049091,
          5.1457458,
          5.070889,
          -1.9824784,
          -11.334572,
          1.5869088,
          2.2078788,
          -17.347467,
          10.874274,
          -6.417764,
          11.54499,
          -15.043282,
          -17.452728,
          13.095499,
          5.267041
         ],
         "xaxis": "x3",
         "yaxis": "y3"
        },
        {
         "alignmentgroup": "True",
         "customdata": [
          [
           "cow_000000016010",
           15
          ],
          [
           "cow_000000152740",
           16
          ],
          [
           "cow_000000267434",
           17
          ],
          [
           "cow_000000347664",
           18
          ],
          [
           "cow_000000435206",
           19
          ],
          [
           "cow_000000041635",
           65
          ],
          [
           "cow_000000180383",
           66
          ],
          [
           "cow_000000276024",
           67
          ],
          [
           "cow_000000356612",
           68
          ],
          [
           "cow_000000455219",
           69
          ],
          [
           "cow_000000061171",
           115
          ],
          [
           "cow_000000193162",
           116
          ],
          [
           "cow_000000289393",
           117
          ],
          [
           "cow_000000357081",
           118
          ],
          [
           "cow_000000459396",
           119
          ],
          [
           "cow_000000105264",
           165
          ],
          [
           "cow_000000219440",
           166
          ],
          [
           "cow_000000298697",
           167
          ],
          [
           "cow_000000361268",
           168
          ],
          [
           "cow_000000512648",
           169
          ],
          [
           "cow_000000114907",
           215
          ],
          [
           "cow_000000222863",
           216
          ],
          [
           "cow_000000302165",
           217
          ],
          [
           "cow_000000377486",
           218
          ],
          [
           "cow_000000518213",
           219
          ],
          [
           "cow_000000119038",
           265
          ],
          [
           "cow_000000231580",
           266
          ],
          [
           "cow_000000311392",
           267
          ],
          [
           "cow_000000387148",
           268
          ],
          [
           "cow_000000535094",
           269
          ],
          [
           "cow_000000124636",
           315
          ],
          [
           "cow_000000233567",
           316
          ],
          [
           "cow_000000314034",
           317
          ],
          [
           "cow_000000402992",
           318
          ],
          [
           "cow_000000545958",
           319
          ],
          [
           "cow_000000125072",
           365
          ],
          [
           "cow_000000240754",
           366
          ],
          [
           "cow_000000329447",
           367
          ],
          [
           "cow_000000412887",
           368
          ],
          [
           "cow_000000555050",
           369
          ],
          [
           "cow_000000133778",
           415
          ],
          [
           "cow_000000244411",
           416
          ],
          [
           "cow_000000332318",
           417
          ],
          [
           "cow_000000415990",
           418
          ],
          [
           "cow_000000573626",
           419
          ],
          [
           "cow_000000014888",
           464
          ],
          [
           "cow_000000140583",
           465
          ],
          [
           "cow_000000247838",
           466
          ],
          [
           "cow_000000334555",
           467
          ],
          [
           "cow_000000416837",
           468
          ]
         ],
         "hovertemplate": "ClasseOriginal=cow<br>y=%{y}<br>ImageName=%{customdata[0]}<br>index=%{customdata[1]}<extra></extra>",
         "legendgroup": "cow",
         "marker": {
          "color": "#ab63fa",
          "symbol": "circle"
         },
         "name": "cow",
         "offsetgroup": "cow",
         "scalegroup": "y",
         "showlegend": false,
         "type": "violin",
         "xaxis": "x2",
         "y": [
          19.61983,
          26.289955,
          13.435118,
          -0.4726158,
          -2.8891926,
          12.828639,
          -13.125402,
          15.258852,
          5.7404995,
          10.827491,
          8.907165,
          15.5757065,
          -12.591038,
          11.370928,
          8.36583,
          6.8848863,
          3.6055527,
          -2.356934,
          11.861107,
          10.850609,
          -1.7608944,
          7.39431,
          3.196535,
          9.121968,
          6.7226963,
          15.979937,
          6.2518387,
          2.5241804,
          -3.2408473,
          0.89834994,
          7.5886154,
          8.3301,
          26.683805,
          7.753215,
          -11.935225,
          -0.6585264,
          7.181992,
          9.187849,
          12.330399,
          -6.0072827,
          9.588401,
          9.032502,
          -1.9563073,
          18.939886,
          -6.823702,
          0.012081374,
          -3.651418,
          -5.880509,
          4.797314,
          16.634912
         ],
         "yaxis": "y2"
        },
        {
         "customdata": [
          [
           "dog_000000049269",
           20
          ],
          [
           "dog_000000182805",
           21
          ],
          [
           "dog_000000355905",
           22
          ],
          [
           "dog_000000401991",
           23
          ],
          [
           "dog_000000489014",
           24
          ],
          [
           "dog_000000061471",
           70
          ],
          [
           "dog_000000205834",
           71
          ],
          [
           "dog_000000357459",
           72
          ],
          [
           "dog_000000404484",
           73
          ],
          [
           "dog_000000498286",
           74
          ],
          [
           "dog_000000071226",
           120
          ],
          [
           "dog_000000222317",
           121
          ],
          [
           "dog_000000361571",
           122
          ],
          [
           "dog_000000407083",
           123
          ],
          [
           "dog_000000520301",
           124
          ],
          [
           "dog_000000072813",
           170
          ],
          [
           "dog_000000236592",
           171
          ],
          [
           "dog_000000364636",
           172
          ],
          [
           "dog_000000412240",
           173
          ],
          [
           "dog_000000532530",
           174
          ],
          [
           "dog_000000076417",
           220
          ],
          [
           "dog_000000261161",
           221
          ],
          [
           "dog_000000366611",
           222
          ],
          [
           "dog_000000421455",
           223
          ],
          [
           "dog_000000532575",
           224
          ],
          [
           "dog_000000139872",
           270
          ],
          [
           "dog_000000267300",
           271
          ],
          [
           "dog_000000367195",
           272
          ],
          [
           "dog_000000427034",
           273
          ],
          [
           "dog_000000546829",
           274
          ],
          [
           "dog_000000143961",
           320
          ],
          [
           "dog_000000289343",
           321
          ],
          [
           "dog_000000371749",
           322
          ],
          [
           "dog_000000446522",
           323
          ],
          [
           "dog_000000554002",
           324
          ],
          [
           "dog_000000149568",
           370
          ],
          [
           "dog_000000295478",
           371
          ],
          [
           "dog_000000372819",
           372
          ],
          [
           "dog_000000474164",
           373
          ],
          [
           "dog_000000554579",
           374
          ],
          [
           "dog_000000169076",
           420
          ],
          [
           "dog_000000324158",
           421
          ],
          [
           "dog_000000392818",
           422
          ],
          [
           "dog_000000482917",
           423
          ],
          [
           "dog_000000564280",
           424
          ],
          [
           "dog_000000017029",
           469
          ],
          [
           "dog_000000171611",
           470
          ],
          [
           "dog_000000329219",
           471
          ],
          [
           "dog_000000395801",
           472
          ],
          [
           "dog_000000486479",
           473
          ]
         ],
         "hovertemplate": "ClasseOriginal=dog<br>x=%{x}<br>y=%{y}<br>ImageName=%{customdata[0]}<br>index=%{customdata[1]}<extra></extra>",
         "legendgroup": "dog",
         "marker": {
          "color": "#FFA15A",
          "symbol": "circle"
         },
         "mode": "markers",
         "name": "dog",
         "orientation": "v",
         "showlegend": true,
         "type": "scatter",
         "x": [
          -3.5477574,
          12.636167,
          -8.443545,
          -16.128265,
          -9.027213,
          0.7738162,
          -7.113135,
          -7.749627,
          8.620809,
          -9.097017,
          5.6999626,
          2.4522016,
          -4.8200407,
          1.2387166,
          -9.846956,
          3.7914195,
          -1.005194,
          -9.077612,
          0.10615726,
          -11.218255,
          6.699251,
          -9.326517,
          -7.4624305,
          -5.996433,
          -10.206393,
          -9.771185,
          -9.771417,
          -10.965218,
          3.599087,
          -7.816272,
          -6.98206,
          16.528397,
          -1.7859915,
          2.817267,
          -11.931465,
          -12.145943,
          8.666416,
          10.019118,
          -8.606149,
          -5.346923,
          2.1587636,
          15.987702,
          -8.510198,
          4.0934463,
          -12.176211,
          -10.741293,
          -19.107443,
          7.9013705,
          15.695682,
          -6.8781695
         ],
         "xaxis": "x",
         "y": [
          11.976603,
          -6.1692033,
          8.484016,
          16.878977,
          1.6952977,
          -18.918459,
          14.53194,
          12.258317,
          -13.81903,
          6.5793285,
          -15.1276,
          -16.88853,
          11.46544,
          -14.955877,
          9.885888,
          -16.942343,
          -17.787865,
          8.669888,
          -16.78651,
          -5.9127903,
          -23.14337,
          4.1961923,
          10.389139,
          -13.8640175,
          10.106419,
          15.396283,
          6.6826587,
          7.4958806,
          -15.5975895,
          -4.1929884,
          5.3904667,
          16.743467,
          -19.234985,
          -16.681181,
          13.811987,
          13.7521,
          -17.446606,
          16.533173,
          -5.413423,
          14.0232115,
          -13.273171,
          16.17001,
          3.9640172,
          -19.142653,
          10.283139,
          14.829762,
          -7.1484785,
          -17.248972,
          -0.15719132,
          -17.797222
         ],
         "yaxis": "y"
        },
        {
         "alignmentgroup": "True",
         "bingroup": "x",
         "hovertemplate": "ClasseOriginal=dog<br>x=%{x}<br>count=%{y}<extra></extra>",
         "legendgroup": "dog",
         "marker": {
          "color": "#FFA15A"
         },
         "name": "dog",
         "offsetgroup": "dog",
         "opacity": 0.5,
         "showlegend": false,
         "type": "histogram",
         "x": [
          -3.5477574,
          12.636167,
          -8.443545,
          -16.128265,
          -9.027213,
          0.7738162,
          -7.113135,
          -7.749627,
          8.620809,
          -9.097017,
          5.6999626,
          2.4522016,
          -4.8200407,
          1.2387166,
          -9.846956,
          3.7914195,
          -1.005194,
          -9.077612,
          0.10615726,
          -11.218255,
          6.699251,
          -9.326517,
          -7.4624305,
          -5.996433,
          -10.206393,
          -9.771185,
          -9.771417,
          -10.965218,
          3.599087,
          -7.816272,
          -6.98206,
          16.528397,
          -1.7859915,
          2.817267,
          -11.931465,
          -12.145943,
          8.666416,
          10.019118,
          -8.606149,
          -5.346923,
          2.1587636,
          15.987702,
          -8.510198,
          4.0934463,
          -12.176211,
          -10.741293,
          -19.107443,
          7.9013705,
          15.695682,
          -6.8781695
         ],
         "xaxis": "x3",
         "yaxis": "y3"
        },
        {
         "alignmentgroup": "True",
         "customdata": [
          [
           "dog_000000049269",
           20
          ],
          [
           "dog_000000182805",
           21
          ],
          [
           "dog_000000355905",
           22
          ],
          [
           "dog_000000401991",
           23
          ],
          [
           "dog_000000489014",
           24
          ],
          [
           "dog_000000061471",
           70
          ],
          [
           "dog_000000205834",
           71
          ],
          [
           "dog_000000357459",
           72
          ],
          [
           "dog_000000404484",
           73
          ],
          [
           "dog_000000498286",
           74
          ],
          [
           "dog_000000071226",
           120
          ],
          [
           "dog_000000222317",
           121
          ],
          [
           "dog_000000361571",
           122
          ],
          [
           "dog_000000407083",
           123
          ],
          [
           "dog_000000520301",
           124
          ],
          [
           "dog_000000072813",
           170
          ],
          [
           "dog_000000236592",
           171
          ],
          [
           "dog_000000364636",
           172
          ],
          [
           "dog_000000412240",
           173
          ],
          [
           "dog_000000532530",
           174
          ],
          [
           "dog_000000076417",
           220
          ],
          [
           "dog_000000261161",
           221
          ],
          [
           "dog_000000366611",
           222
          ],
          [
           "dog_000000421455",
           223
          ],
          [
           "dog_000000532575",
           224
          ],
          [
           "dog_000000139872",
           270
          ],
          [
           "dog_000000267300",
           271
          ],
          [
           "dog_000000367195",
           272
          ],
          [
           "dog_000000427034",
           273
          ],
          [
           "dog_000000546829",
           274
          ],
          [
           "dog_000000143961",
           320
          ],
          [
           "dog_000000289343",
           321
          ],
          [
           "dog_000000371749",
           322
          ],
          [
           "dog_000000446522",
           323
          ],
          [
           "dog_000000554002",
           324
          ],
          [
           "dog_000000149568",
           370
          ],
          [
           "dog_000000295478",
           371
          ],
          [
           "dog_000000372819",
           372
          ],
          [
           "dog_000000474164",
           373
          ],
          [
           "dog_000000554579",
           374
          ],
          [
           "dog_000000169076",
           420
          ],
          [
           "dog_000000324158",
           421
          ],
          [
           "dog_000000392818",
           422
          ],
          [
           "dog_000000482917",
           423
          ],
          [
           "dog_000000564280",
           424
          ],
          [
           "dog_000000017029",
           469
          ],
          [
           "dog_000000171611",
           470
          ],
          [
           "dog_000000329219",
           471
          ],
          [
           "dog_000000395801",
           472
          ],
          [
           "dog_000000486479",
           473
          ]
         ],
         "hovertemplate": "ClasseOriginal=dog<br>y=%{y}<br>ImageName=%{customdata[0]}<br>index=%{customdata[1]}<extra></extra>",
         "legendgroup": "dog",
         "marker": {
          "color": "#FFA15A",
          "symbol": "circle"
         },
         "name": "dog",
         "offsetgroup": "dog",
         "scalegroup": "y",
         "showlegend": false,
         "type": "violin",
         "xaxis": "x2",
         "y": [
          11.976603,
          -6.1692033,
          8.484016,
          16.878977,
          1.6952977,
          -18.918459,
          14.53194,
          12.258317,
          -13.81903,
          6.5793285,
          -15.1276,
          -16.88853,
          11.46544,
          -14.955877,
          9.885888,
          -16.942343,
          -17.787865,
          8.669888,
          -16.78651,
          -5.9127903,
          -23.14337,
          4.1961923,
          10.389139,
          -13.8640175,
          10.106419,
          15.396283,
          6.6826587,
          7.4958806,
          -15.5975895,
          -4.1929884,
          5.3904667,
          16.743467,
          -19.234985,
          -16.681181,
          13.811987,
          13.7521,
          -17.446606,
          16.533173,
          -5.413423,
          14.0232115,
          -13.273171,
          16.17001,
          3.9640172,
          -19.142653,
          10.283139,
          14.829762,
          -7.1484785,
          -17.248972,
          -0.15719132,
          -17.797222
         ],
         "yaxis": "y2"
        },
        {
         "customdata": [
          [
           "elephant_000000057027",
           25
          ],
          [
           "elephant_000000158945",
           26
          ],
          [
           "elephant_000000245915",
           27
          ],
          [
           "elephant_000000356125",
           28
          ],
          [
           "elephant_000000475779",
           29
          ],
          [
           "elephant_000000058384",
           75
          ],
          [
           "elephant_000000162543",
           76
          ],
          [
           "elephant_000000259625",
           77
          ],
          [
           "elephant_000000359135",
           78
          ],
          [
           "elephant_000000486112",
           79
          ],
          [
           "elephant_000000083113",
           125
          ],
          [
           "elephant_000000166563",
           126
          ],
          [
           "elephant_000000263860",
           127
          ],
          [
           "elephant_000000379533",
           128
          ],
          [
           "elephant_000000493284",
           129
          ],
          [
           "elephant_000000088250",
           175
          ],
          [
           "elephant_000000166642",
           176
          ],
          [
           "elephant_000000268375",
           177
          ],
          [
           "elephant_000000389316",
           178
          ],
          [
           "elephant_000000519208",
           179
          ],
          [
           "elephant_000000094852",
           225
          ],
          [
           "elephant_000000166664",
           226
          ],
          [
           "elephant_000000270402",
           227
          ],
          [
           "elephant_000000414795",
           228
          ],
          [
           "elephant_000000526103",
           229
          ],
          [
           "elephant_000000106757",
           275
          ],
          [
           "elephant_000000167128",
           276
          ],
          [
           "elephant_000000286994",
           277
          ],
          [
           "elephant_000000415748",
           278
          ],
          [
           "elephant_000000535156",
           279
          ],
          [
           "elephant_000000110638",
           325
          ],
          [
           "elephant_000000170739",
           326
          ],
          [
           "elephant_000000301061",
           327
          ],
          [
           "elephant_000000433374",
           328
          ],
          [
           "elephant_000000556765",
           329
          ],
          [
           "elephant_000000126216",
           375
          ],
          [
           "elephant_000000173799",
           376
          ],
          [
           "elephant_000000320743",
           377
          ],
          [
           "elephant_000000435206",
           378
          ],
          [
           "elephant_000000562207",
           379
          ],
          [
           "elephant_000000132796",
           425
          ],
          [
           "elephant_000000183437",
           426
          ],
          [
           "elephant_000000330790",
           427
          ],
          [
           "elephant_000000465180",
           428
          ],
          [
           "elephant_000000565989",
           429
          ],
          [
           "elephant_000000006894",
           474
          ],
          [
           "elephant_000000157213",
           475
          ],
          [
           "elephant_000000210708",
           476
          ],
          [
           "elephant_000000346905",
           477
          ],
          [
           "elephant_000000474170",
           478
          ]
         ],
         "hovertemplate": "ClasseOriginal=elephant<br>x=%{x}<br>y=%{y}<br>ImageName=%{customdata[0]}<br>index=%{customdata[1]}<extra></extra>",
         "legendgroup": "elephant",
         "marker": {
          "color": "#19d3f3",
          "symbol": "circle"
         },
         "mode": "markers",
         "name": "elephant",
         "orientation": "v",
         "showlegend": true,
         "type": "scatter",
         "x": [
          -4.7951365,
          -0.42542326,
          -4.3664904,
          1.0749105,
          -6.264285,
          7.293197,
          11.168024,
          0.94431686,
          -4.97036,
          -4.3031297,
          -0.6120936,
          -24.375935,
          -5.858804,
          -18.12376,
          -6.780711,
          -6.7003045,
          -5.5031543,
          -1.6931545,
          -2.7809792,
          -3.9516222,
          -5.1693516,
          -2.4119148,
          -3.5094738,
          -4.946007,
          -2.3720858,
          -1.4792976,
          -6.0620666,
          -2.8732896,
          -0.57976025,
          -4.5580063,
          -2.0486565,
          -2.7058194,
          -2.9312847,
          -4.1994424,
          -4.3367248,
          -3.792514,
          3.5762746,
          -2.1925573,
          -24.799698,
          -3.762009,
          1.2375764,
          0.3798778,
          -3.801577,
          11.169332,
          -12.621403,
          -3.9566128,
          -4.3817077,
          -5.6294475,
          -5.364557,
          -20.52818
         ],
         "xaxis": "x",
         "y": [
          2.1580951,
          3.7455366,
          8.680459,
          1.6774548,
          2.4298036,
          11.848223,
          9.823026,
          5.975363,
          0.83575225,
          -16.68456,
          5.7222323,
          5.3905954,
          3.0279465,
          -14.225656,
          3.6165245,
          2.7992945,
          1.624483,
          4.6647215,
          3.6650577,
          -0.6682019,
          3.7696726,
          5.5796895,
          3.7174325,
          9.181167,
          0.7323517,
          1.3872085,
          3.7075021,
          7.558342,
          2.8919938,
          3.0865688,
          2.9447806,
          2.456146,
          -18.231226,
          7.9616427,
          4.1985016,
          6.608535,
          9.68243,
          3.6980524,
          -2.8892608,
          2.4696312,
          4.1192904,
          4.005644,
          1.6650585,
          14.87664,
          -8.397772,
          -0.42633277,
          5.4232244,
          4.321821,
          2.7634187,
          -3.374064
         ],
         "yaxis": "y"
        },
        {
         "alignmentgroup": "True",
         "bingroup": "x",
         "hovertemplate": "ClasseOriginal=elephant<br>x=%{x}<br>count=%{y}<extra></extra>",
         "legendgroup": "elephant",
         "marker": {
          "color": "#19d3f3"
         },
         "name": "elephant",
         "offsetgroup": "elephant",
         "opacity": 0.5,
         "showlegend": false,
         "type": "histogram",
         "x": [
          -4.7951365,
          -0.42542326,
          -4.3664904,
          1.0749105,
          -6.264285,
          7.293197,
          11.168024,
          0.94431686,
          -4.97036,
          -4.3031297,
          -0.6120936,
          -24.375935,
          -5.858804,
          -18.12376,
          -6.780711,
          -6.7003045,
          -5.5031543,
          -1.6931545,
          -2.7809792,
          -3.9516222,
          -5.1693516,
          -2.4119148,
          -3.5094738,
          -4.946007,
          -2.3720858,
          -1.4792976,
          -6.0620666,
          -2.8732896,
          -0.57976025,
          -4.5580063,
          -2.0486565,
          -2.7058194,
          -2.9312847,
          -4.1994424,
          -4.3367248,
          -3.792514,
          3.5762746,
          -2.1925573,
          -24.799698,
          -3.762009,
          1.2375764,
          0.3798778,
          -3.801577,
          11.169332,
          -12.621403,
          -3.9566128,
          -4.3817077,
          -5.6294475,
          -5.364557,
          -20.52818
         ],
         "xaxis": "x3",
         "yaxis": "y3"
        },
        {
         "alignmentgroup": "True",
         "customdata": [
          [
           "elephant_000000057027",
           25
          ],
          [
           "elephant_000000158945",
           26
          ],
          [
           "elephant_000000245915",
           27
          ],
          [
           "elephant_000000356125",
           28
          ],
          [
           "elephant_000000475779",
           29
          ],
          [
           "elephant_000000058384",
           75
          ],
          [
           "elephant_000000162543",
           76
          ],
          [
           "elephant_000000259625",
           77
          ],
          [
           "elephant_000000359135",
           78
          ],
          [
           "elephant_000000486112",
           79
          ],
          [
           "elephant_000000083113",
           125
          ],
          [
           "elephant_000000166563",
           126
          ],
          [
           "elephant_000000263860",
           127
          ],
          [
           "elephant_000000379533",
           128
          ],
          [
           "elephant_000000493284",
           129
          ],
          [
           "elephant_000000088250",
           175
          ],
          [
           "elephant_000000166642",
           176
          ],
          [
           "elephant_000000268375",
           177
          ],
          [
           "elephant_000000389316",
           178
          ],
          [
           "elephant_000000519208",
           179
          ],
          [
           "elephant_000000094852",
           225
          ],
          [
           "elephant_000000166664",
           226
          ],
          [
           "elephant_000000270402",
           227
          ],
          [
           "elephant_000000414795",
           228
          ],
          [
           "elephant_000000526103",
           229
          ],
          [
           "elephant_000000106757",
           275
          ],
          [
           "elephant_000000167128",
           276
          ],
          [
           "elephant_000000286994",
           277
          ],
          [
           "elephant_000000415748",
           278
          ],
          [
           "elephant_000000535156",
           279
          ],
          [
           "elephant_000000110638",
           325
          ],
          [
           "elephant_000000170739",
           326
          ],
          [
           "elephant_000000301061",
           327
          ],
          [
           "elephant_000000433374",
           328
          ],
          [
           "elephant_000000556765",
           329
          ],
          [
           "elephant_000000126216",
           375
          ],
          [
           "elephant_000000173799",
           376
          ],
          [
           "elephant_000000320743",
           377
          ],
          [
           "elephant_000000435206",
           378
          ],
          [
           "elephant_000000562207",
           379
          ],
          [
           "elephant_000000132796",
           425
          ],
          [
           "elephant_000000183437",
           426
          ],
          [
           "elephant_000000330790",
           427
          ],
          [
           "elephant_000000465180",
           428
          ],
          [
           "elephant_000000565989",
           429
          ],
          [
           "elephant_000000006894",
           474
          ],
          [
           "elephant_000000157213",
           475
          ],
          [
           "elephant_000000210708",
           476
          ],
          [
           "elephant_000000346905",
           477
          ],
          [
           "elephant_000000474170",
           478
          ]
         ],
         "hovertemplate": "ClasseOriginal=elephant<br>y=%{y}<br>ImageName=%{customdata[0]}<br>index=%{customdata[1]}<extra></extra>",
         "legendgroup": "elephant",
         "marker": {
          "color": "#19d3f3",
          "symbol": "circle"
         },
         "name": "elephant",
         "offsetgroup": "elephant",
         "scalegroup": "y",
         "showlegend": false,
         "type": "violin",
         "xaxis": "x2",
         "y": [
          2.1580951,
          3.7455366,
          8.680459,
          1.6774548,
          2.4298036,
          11.848223,
          9.823026,
          5.975363,
          0.83575225,
          -16.68456,
          5.7222323,
          5.3905954,
          3.0279465,
          -14.225656,
          3.6165245,
          2.7992945,
          1.624483,
          4.6647215,
          3.6650577,
          -0.6682019,
          3.7696726,
          5.5796895,
          3.7174325,
          9.181167,
          0.7323517,
          1.3872085,
          3.7075021,
          7.558342,
          2.8919938,
          3.0865688,
          2.9447806,
          2.456146,
          -18.231226,
          7.9616427,
          4.1985016,
          6.608535,
          9.68243,
          3.6980524,
          -2.8892608,
          2.4696312,
          4.1192904,
          4.005644,
          1.6650585,
          14.87664,
          -8.397772,
          -0.42633277,
          5.4232244,
          4.321821,
          2.7634187,
          -3.374064
         ],
         "yaxis": "y2"
        },
        {
         "customdata": [
          [
           "giraffe_000000079565",
           30
          ],
          [
           "giraffe_000000217614",
           31
          ],
          [
           "giraffe_000000286849",
           32
          ],
          [
           "giraffe_000000383676",
           33
          ],
          [
           "giraffe_000000471567",
           34
          ],
          [
           "giraffe_000000104619",
           80
          ],
          [
           "giraffe_000000221281",
           81
          ],
          [
           "giraffe_000000288882",
           82
          ],
          [
           "giraffe_000000392933",
           83
          ],
          [
           "giraffe_000000475150",
           84
          ],
          [
           "giraffe_000000134689",
           130
          ],
          [
           "giraffe_000000234526",
           131
          ],
          [
           "giraffe_000000289393",
           132
          ],
          [
           "giraffe_000000393282",
           133
          ],
          [
           "giraffe_000000480842",
           134
          ],
          [
           "giraffe_000000150726",
           180
          ],
          [
           "giraffe_000000235057",
           181
          ],
          [
           "giraffe_000000296969",
           182
          ],
          [
           "giraffe_000000417876",
           183
          ],
          [
           "giraffe_000000485895",
           184
          ],
          [
           "giraffe_000000151662",
           230
          ],
          [
           "giraffe_000000235252",
           231
          ],
          [
           "giraffe_000000299720",
           232
          ],
          [
           "giraffe_000000420472",
           233
          ],
          [
           "giraffe_000000486046",
           234
          ],
          [
           "giraffe_000000153299",
           280
          ],
          [
           "giraffe_000000245513",
           281
          ],
          [
           "giraffe_000000333069",
           282
          ],
          [
           "giraffe_000000433243",
           283
          ],
          [
           "giraffe_000000498857",
           284
          ],
          [
           "giraffe_000000159977",
           330
          ],
          [
           "giraffe_000000261712",
           331
          ],
          [
           "giraffe_000000334521",
           332
          ],
          [
           "giraffe_000000445675",
           333
          ],
          [
           "giraffe_000000504580",
           334
          ],
          [
           "giraffe_000000186637",
           380
          ],
          [
           "giraffe_000000284296",
           381
          ],
          [
           "giraffe_000000338532",
           382
          ],
          [
           "giraffe_000000450758",
           383
          ],
          [
           "giraffe_000000507042",
           384
          ],
          [
           "giraffe_000000211069",
           430
          ],
          [
           "giraffe_000000285788",
           431
          ],
          [
           "giraffe_000000345261",
           432
          ],
          [
           "giraffe_000000460379",
           433
          ],
          [
           "giraffe_000000575187",
           434
          ],
          [
           "giraffe_000000017031",
           479
          ],
          [
           "giraffe_000000216739",
           480
          ],
          [
           "giraffe_000000285894",
           481
          ],
          [
           "giraffe_000000349302",
           482
          ],
          [
           "giraffe_000000469652",
           483
          ]
         ],
         "hovertemplate": "ClasseOriginal=giraffe<br>x=%{x}<br>y=%{y}<br>ImageName=%{customdata[0]}<br>index=%{customdata[1]}<extra></extra>",
         "legendgroup": "giraffe",
         "marker": {
          "color": "#FF6692",
          "symbol": "circle"
         },
         "mode": "markers",
         "name": "giraffe",
         "orientation": "v",
         "showlegend": true,
         "type": "scatter",
         "x": [
          22.745457,
          25.602573,
          -8.607764,
          28.627615,
          19.372429,
          25.955845,
          27.787224,
          31.435135,
          25.617287,
          24.626064,
          24.65384,
          16.137783,
          11.202977,
          21.522827,
          23.948605,
          28.646315,
          22.276655,
          26.654654,
          30.310778,
          27.182207,
          25.614815,
          -20.576752,
          12.976468,
          21.270819,
          20.049658,
          28.21275,
          26.244085,
          23.066498,
          -22.177979,
          27.669678,
          24.019564,
          26.907354,
          28.513157,
          25.73826,
          23.44232,
          27.914417,
          29.596672,
          25.781393,
          21.735405,
          20.411015,
          26.51252,
          -0.052690428,
          22.381779,
          6.852337,
          -3.1978617,
          22.63389,
          23.509747,
          17.57666,
          23.23969,
          21.050444
         ],
         "xaxis": "x",
         "y": [
          5.5972304,
          6.101753,
          -9.209393,
          5.0681,
          -5.674726,
          2.1777747,
          10.098014,
          5.6898875,
          6.900453,
          -2.865108,
          3.207924,
          2.4671466,
          -12.58641,
          8.536895,
          1.5311034,
          5.950856,
          -5.515296,
          4.6543455,
          6.5730267,
          6.985583,
          11.253547,
          -3.574605,
          -9.872343,
          -5.539073,
          -2.6295624,
          3.1664853,
          8.411725,
          0.38907337,
          -16.082901,
          3.0275223,
          4.646634,
          9.284931,
          0.8048427,
          4.3630652,
          2.2955904,
          1.9503198,
          9.067289,
          4.499689,
          5.9858656,
          -5.570428,
          5.282066,
          14.238707,
          5.8925242,
          20.454329,
          -19.047842,
          -1.9844682,
          -3.3502555,
          -5.2371836,
          6.954097,
          -4.3092465
         ],
         "yaxis": "y"
        },
        {
         "alignmentgroup": "True",
         "bingroup": "x",
         "hovertemplate": "ClasseOriginal=giraffe<br>x=%{x}<br>count=%{y}<extra></extra>",
         "legendgroup": "giraffe",
         "marker": {
          "color": "#FF6692"
         },
         "name": "giraffe",
         "offsetgroup": "giraffe",
         "opacity": 0.5,
         "showlegend": false,
         "type": "histogram",
         "x": [
          22.745457,
          25.602573,
          -8.607764,
          28.627615,
          19.372429,
          25.955845,
          27.787224,
          31.435135,
          25.617287,
          24.626064,
          24.65384,
          16.137783,
          11.202977,
          21.522827,
          23.948605,
          28.646315,
          22.276655,
          26.654654,
          30.310778,
          27.182207,
          25.614815,
          -20.576752,
          12.976468,
          21.270819,
          20.049658,
          28.21275,
          26.244085,
          23.066498,
          -22.177979,
          27.669678,
          24.019564,
          26.907354,
          28.513157,
          25.73826,
          23.44232,
          27.914417,
          29.596672,
          25.781393,
          21.735405,
          20.411015,
          26.51252,
          -0.052690428,
          22.381779,
          6.852337,
          -3.1978617,
          22.63389,
          23.509747,
          17.57666,
          23.23969,
          21.050444
         ],
         "xaxis": "x3",
         "yaxis": "y3"
        },
        {
         "alignmentgroup": "True",
         "customdata": [
          [
           "giraffe_000000079565",
           30
          ],
          [
           "giraffe_000000217614",
           31
          ],
          [
           "giraffe_000000286849",
           32
          ],
          [
           "giraffe_000000383676",
           33
          ],
          [
           "giraffe_000000471567",
           34
          ],
          [
           "giraffe_000000104619",
           80
          ],
          [
           "giraffe_000000221281",
           81
          ],
          [
           "giraffe_000000288882",
           82
          ],
          [
           "giraffe_000000392933",
           83
          ],
          [
           "giraffe_000000475150",
           84
          ],
          [
           "giraffe_000000134689",
           130
          ],
          [
           "giraffe_000000234526",
           131
          ],
          [
           "giraffe_000000289393",
           132
          ],
          [
           "giraffe_000000393282",
           133
          ],
          [
           "giraffe_000000480842",
           134
          ],
          [
           "giraffe_000000150726",
           180
          ],
          [
           "giraffe_000000235057",
           181
          ],
          [
           "giraffe_000000296969",
           182
          ],
          [
           "giraffe_000000417876",
           183
          ],
          [
           "giraffe_000000485895",
           184
          ],
          [
           "giraffe_000000151662",
           230
          ],
          [
           "giraffe_000000235252",
           231
          ],
          [
           "giraffe_000000299720",
           232
          ],
          [
           "giraffe_000000420472",
           233
          ],
          [
           "giraffe_000000486046",
           234
          ],
          [
           "giraffe_000000153299",
           280
          ],
          [
           "giraffe_000000245513",
           281
          ],
          [
           "giraffe_000000333069",
           282
          ],
          [
           "giraffe_000000433243",
           283
          ],
          [
           "giraffe_000000498857",
           284
          ],
          [
           "giraffe_000000159977",
           330
          ],
          [
           "giraffe_000000261712",
           331
          ],
          [
           "giraffe_000000334521",
           332
          ],
          [
           "giraffe_000000445675",
           333
          ],
          [
           "giraffe_000000504580",
           334
          ],
          [
           "giraffe_000000186637",
           380
          ],
          [
           "giraffe_000000284296",
           381
          ],
          [
           "giraffe_000000338532",
           382
          ],
          [
           "giraffe_000000450758",
           383
          ],
          [
           "giraffe_000000507042",
           384
          ],
          [
           "giraffe_000000211069",
           430
          ],
          [
           "giraffe_000000285788",
           431
          ],
          [
           "giraffe_000000345261",
           432
          ],
          [
           "giraffe_000000460379",
           433
          ],
          [
           "giraffe_000000575187",
           434
          ],
          [
           "giraffe_000000017031",
           479
          ],
          [
           "giraffe_000000216739",
           480
          ],
          [
           "giraffe_000000285894",
           481
          ],
          [
           "giraffe_000000349302",
           482
          ],
          [
           "giraffe_000000469652",
           483
          ]
         ],
         "hovertemplate": "ClasseOriginal=giraffe<br>y=%{y}<br>ImageName=%{customdata[0]}<br>index=%{customdata[1]}<extra></extra>",
         "legendgroup": "giraffe",
         "marker": {
          "color": "#FF6692",
          "symbol": "circle"
         },
         "name": "giraffe",
         "offsetgroup": "giraffe",
         "scalegroup": "y",
         "showlegend": false,
         "type": "violin",
         "xaxis": "x2",
         "y": [
          5.5972304,
          6.101753,
          -9.209393,
          5.0681,
          -5.674726,
          2.1777747,
          10.098014,
          5.6898875,
          6.900453,
          -2.865108,
          3.207924,
          2.4671466,
          -12.58641,
          8.536895,
          1.5311034,
          5.950856,
          -5.515296,
          4.6543455,
          6.5730267,
          6.985583,
          11.253547,
          -3.574605,
          -9.872343,
          -5.539073,
          -2.6295624,
          3.1664853,
          8.411725,
          0.38907337,
          -16.082901,
          3.0275223,
          4.646634,
          9.284931,
          0.8048427,
          4.3630652,
          2.2955904,
          1.9503198,
          9.067289,
          4.499689,
          5.9858656,
          -5.570428,
          5.282066,
          14.238707,
          5.8925242,
          20.454329,
          -19.047842,
          -1.9844682,
          -3.3502555,
          -5.2371836,
          6.954097,
          -4.3092465
         ],
         "yaxis": "y2"
        },
        {
         "customdata": [
          [
           "horse_000000015956",
           35
          ],
          [
           "horse_000000172547",
           36
          ],
          [
           "horse_000000242724",
           37
          ],
          [
           "horse_000000356968",
           38
          ],
          [
           "horse_000000441442",
           39
          ],
          [
           "horse_000000023126",
           85
          ],
          [
           "horse_000000181753",
           86
          ],
          [
           "horse_000000260106",
           87
          ],
          [
           "horse_000000367680",
           88
          ],
          [
           "horse_000000454798",
           89
          ],
          [
           "horse_000000029187",
           135
          ],
          [
           "horse_000000185473",
           136
          ],
          [
           "horse_000000265816",
           137
          ],
          [
           "horse_000000372307",
           138
          ],
          [
           "horse_000000462904",
           139
          ],
          [
           "horse_000000040036",
           185
          ],
          [
           "horse_000000191614",
           186
          ],
          [
           "horse_000000269932",
           187
          ],
          [
           "horse_000000377486",
           188
          ],
          [
           "horse_000000476215",
           189
          ],
          [
           "horse_000000045070",
           235
          ],
          [
           "horse_000000199236",
           236
          ],
          [
           "horse_000000276024",
           237
          ],
          [
           "horse_000000381971",
           238
          ],
          [
           "horse_000000507975",
           239
          ],
          [
           "horse_000000049269",
           285
          ],
          [
           "horse_000000213547",
           286
          ],
          [
           "horse_000000299609",
           287
          ],
          [
           "horse_000000382088",
           288
          ],
          [
           "horse_000000546823",
           289
          ],
          [
           "horse_000000051309",
           335
          ],
          [
           "horse_000000226883",
           336
          ],
          [
           "horse_000000303653",
           337
          ],
          [
           "horse_000000384513",
           338
          ],
          [
           "horse_000000547886",
           339
          ],
          [
           "horse_000000097924",
           385
          ],
          [
           "horse_000000227898",
           386
          ],
          [
           "horse_000000331280",
           387
          ],
          [
           "horse_000000396863",
           388
          ],
          [
           "horse_000000553990",
           389
          ],
          [
           "horse_000000113235",
           435
          ],
          [
           "horse_000000229948",
           436
          ],
          [
           "horse_000000335450",
           437
          ],
          [
           "horse_000000427655",
           438
          ],
          [
           "horse_000000576052",
           439
          ],
          [
           "horse_000000007281",
           484
          ],
          [
           "horse_000000148999",
           485
          ],
          [
           "horse_000000241677",
           486
          ],
          [
           "horse_000000348243",
           487
          ],
          [
           "horse_000000434247",
           488
          ]
         ],
         "hovertemplate": "ClasseOriginal=horse<br>x=%{x}<br>y=%{y}<br>ImageName=%{customdata[0]}<br>index=%{customdata[1]}<extra></extra>",
         "legendgroup": "horse",
         "marker": {
          "color": "#B6E880",
          "symbol": "circle"
         },
         "mode": "markers",
         "name": "horse",
         "orientation": "v",
         "showlegend": true,
         "type": "scatter",
         "x": [
          11.525162,
          -16.775991,
          10.043685,
          1.0336698,
          13.239824,
          18.296219,
          -2.137824,
          14.5745125,
          -12.904645,
          15.727684,
          14.636586,
          -21.620821,
          10.422188,
          10.654849,
          10.016111,
          15.845752,
          11.824025,
          0.8020769,
          18.087767,
          14.427853,
          -9.671649,
          14.5300255,
          12.67899,
          11.201441,
          13.021986,
          -3.547709,
          -5.32699,
          6.802286,
          7.733889,
          16.253601,
          3.009006,
          9.589952,
          13.076636,
          11.564754,
          19.390396,
          15.977419,
          10.950752,
          12.73884,
          14.594088,
          14.919818,
          0.0014645171,
          11.853519,
          1.0114933,
          12.481254,
          17.82902,
          19.22143,
          -11.873936,
          11.373445,
          -5.3022366,
          -20.48552
         ],
         "xaxis": "x",
         "y": [
          2.3952246,
          -1.8674091,
          -2.0307803,
          9.759474,
          8.946579,
          15.165686,
          -14.698014,
          11.882463,
          -7.238507,
          8.45852,
          8.746176,
          -4.1510267,
          5.5268683,
          19.281528,
          7.9740777,
          11.774264,
          9.943865,
          0.91957456,
          9.116938,
          6.2933908,
          -14.136146,
          10.145335,
          15.258712,
          6.363661,
          7.9223647,
          11.976545,
          -19.252975,
          17.736769,
          -3.7078638,
          0.19561906,
          9.114614,
          12.575321,
          9.960814,
          8.485383,
          13.134791,
          10.166289,
          6.2305636,
          3.2703927,
          14.913611,
          11.082081,
          8.150515,
          6.565708,
          8.168247,
          7.3179836,
          14.554772,
          13.220722,
          4.8801556,
          11.265401,
          5.9350376,
          -7.026211
         ],
         "yaxis": "y"
        },
        {
         "alignmentgroup": "True",
         "bingroup": "x",
         "hovertemplate": "ClasseOriginal=horse<br>x=%{x}<br>count=%{y}<extra></extra>",
         "legendgroup": "horse",
         "marker": {
          "color": "#B6E880"
         },
         "name": "horse",
         "offsetgroup": "horse",
         "opacity": 0.5,
         "showlegend": false,
         "type": "histogram",
         "x": [
          11.525162,
          -16.775991,
          10.043685,
          1.0336698,
          13.239824,
          18.296219,
          -2.137824,
          14.5745125,
          -12.904645,
          15.727684,
          14.636586,
          -21.620821,
          10.422188,
          10.654849,
          10.016111,
          15.845752,
          11.824025,
          0.8020769,
          18.087767,
          14.427853,
          -9.671649,
          14.5300255,
          12.67899,
          11.201441,
          13.021986,
          -3.547709,
          -5.32699,
          6.802286,
          7.733889,
          16.253601,
          3.009006,
          9.589952,
          13.076636,
          11.564754,
          19.390396,
          15.977419,
          10.950752,
          12.73884,
          14.594088,
          14.919818,
          0.0014645171,
          11.853519,
          1.0114933,
          12.481254,
          17.82902,
          19.22143,
          -11.873936,
          11.373445,
          -5.3022366,
          -20.48552
         ],
         "xaxis": "x3",
         "yaxis": "y3"
        },
        {
         "alignmentgroup": "True",
         "customdata": [
          [
           "horse_000000015956",
           35
          ],
          [
           "horse_000000172547",
           36
          ],
          [
           "horse_000000242724",
           37
          ],
          [
           "horse_000000356968",
           38
          ],
          [
           "horse_000000441442",
           39
          ],
          [
           "horse_000000023126",
           85
          ],
          [
           "horse_000000181753",
           86
          ],
          [
           "horse_000000260106",
           87
          ],
          [
           "horse_000000367680",
           88
          ],
          [
           "horse_000000454798",
           89
          ],
          [
           "horse_000000029187",
           135
          ],
          [
           "horse_000000185473",
           136
          ],
          [
           "horse_000000265816",
           137
          ],
          [
           "horse_000000372307",
           138
          ],
          [
           "horse_000000462904",
           139
          ],
          [
           "horse_000000040036",
           185
          ],
          [
           "horse_000000191614",
           186
          ],
          [
           "horse_000000269932",
           187
          ],
          [
           "horse_000000377486",
           188
          ],
          [
           "horse_000000476215",
           189
          ],
          [
           "horse_000000045070",
           235
          ],
          [
           "horse_000000199236",
           236
          ],
          [
           "horse_000000276024",
           237
          ],
          [
           "horse_000000381971",
           238
          ],
          [
           "horse_000000507975",
           239
          ],
          [
           "horse_000000049269",
           285
          ],
          [
           "horse_000000213547",
           286
          ],
          [
           "horse_000000299609",
           287
          ],
          [
           "horse_000000382088",
           288
          ],
          [
           "horse_000000546823",
           289
          ],
          [
           "horse_000000051309",
           335
          ],
          [
           "horse_000000226883",
           336
          ],
          [
           "horse_000000303653",
           337
          ],
          [
           "horse_000000384513",
           338
          ],
          [
           "horse_000000547886",
           339
          ],
          [
           "horse_000000097924",
           385
          ],
          [
           "horse_000000227898",
           386
          ],
          [
           "horse_000000331280",
           387
          ],
          [
           "horse_000000396863",
           388
          ],
          [
           "horse_000000553990",
           389
          ],
          [
           "horse_000000113235",
           435
          ],
          [
           "horse_000000229948",
           436
          ],
          [
           "horse_000000335450",
           437
          ],
          [
           "horse_000000427655",
           438
          ],
          [
           "horse_000000576052",
           439
          ],
          [
           "horse_000000007281",
           484
          ],
          [
           "horse_000000148999",
           485
          ],
          [
           "horse_000000241677",
           486
          ],
          [
           "horse_000000348243",
           487
          ],
          [
           "horse_000000434247",
           488
          ]
         ],
         "hovertemplate": "ClasseOriginal=horse<br>y=%{y}<br>ImageName=%{customdata[0]}<br>index=%{customdata[1]}<extra></extra>",
         "legendgroup": "horse",
         "marker": {
          "color": "#B6E880",
          "symbol": "circle"
         },
         "name": "horse",
         "offsetgroup": "horse",
         "scalegroup": "y",
         "showlegend": false,
         "type": "violin",
         "xaxis": "x2",
         "y": [
          2.3952246,
          -1.8674091,
          -2.0307803,
          9.759474,
          8.946579,
          15.165686,
          -14.698014,
          11.882463,
          -7.238507,
          8.45852,
          8.746176,
          -4.1510267,
          5.5268683,
          19.281528,
          7.9740777,
          11.774264,
          9.943865,
          0.91957456,
          9.116938,
          6.2933908,
          -14.136146,
          10.145335,
          15.258712,
          6.363661,
          7.9223647,
          11.976545,
          -19.252975,
          17.736769,
          -3.7078638,
          0.19561906,
          9.114614,
          12.575321,
          9.960814,
          8.485383,
          13.134791,
          10.166289,
          6.2305636,
          3.2703927,
          14.913611,
          11.082081,
          8.150515,
          6.565708,
          8.168247,
          7.3179836,
          14.554772,
          13.220722,
          4.8801556,
          11.265401,
          5.9350376,
          -7.026211
         ],
         "yaxis": "y2"
        },
        {
         "customdata": [
          [
           "sheep_000000022589",
           40
          ],
          [
           "sheep_000000181666",
           41
          ],
          [
           "sheep_000000278353",
           42
          ],
          [
           "sheep_000000389566",
           43
          ],
          [
           "sheep_000000474881",
           44
          ],
          [
           "sheep_000000023937",
           90
          ],
          [
           "sheep_000000193162",
           91
          ],
          [
           "sheep_000000288685",
           92
          ],
          [
           "sheep_000000395388",
           93
          ],
          [
           "sheep_000000484893",
           94
          ],
          [
           "sheep_000000044699",
           140
          ],
          [
           "sheep_000000198960",
           141
          ],
          [
           "sheep_000000290592",
           142
          ],
          [
           "sheep_000000397639",
           143
          ],
          [
           "sheep_000000528524",
           144
          ],
          [
           "sheep_000000046804",
           190
          ],
          [
           "sheep_000000209613",
           191
          ],
          [
           "sheep_000000295231",
           192
          ],
          [
           "sheep_000000406997",
           193
          ],
          [
           "sheep_000000535578",
           194
          ],
          [
           "sheep_000000066561",
           240
          ],
          [
           "sheep_000000212559",
           241
          ],
          [
           "sheep_000000338304",
           242
          ],
          [
           "sheep_000000410428",
           243
          ],
          [
           "sheep_000000546556",
           244
          ],
          [
           "sheep_000000094871",
           290
          ],
          [
           "sheep_000000225184",
           291
          ],
          [
           "sheep_000000340272",
           292
          ],
          [
           "sheep_000000428562",
           293
          ],
          [
           "sheep_000000547383",
           294
          ],
          [
           "sheep_000000140583",
           340
          ],
          [
           "sheep_000000230166",
           341
          ],
          [
           "sheep_000000360325",
           342
          ],
          [
           "sheep_000000435206",
           343
          ],
          [
           "sheep_000000548267",
           344
          ],
          [
           "sheep_000000154947",
           390
          ],
          [
           "sheep_000000238039",
           391
          ],
          [
           "sheep_000000364322",
           392
          ],
          [
           "sheep_000000458755",
           393
          ],
          [
           "sheep_000000552612",
           394
          ],
          [
           "sheep_000000156071",
           440
          ],
          [
           "sheep_000000263966",
           441
          ],
          [
           "sheep_000000369442",
           442
          ],
          [
           "sheep_000000459437",
           443
          ],
          [
           "sheep_000000559956",
           444
          ],
          [
           "sheep_000000012062",
           489
          ],
          [
           "sheep_000000158548",
           490
          ],
          [
           "sheep_000000269196",
           491
          ],
          [
           "sheep_000000375763",
           492
          ],
          [
           "sheep_000000467776",
           493
          ]
         ],
         "hovertemplate": "ClasseOriginal=sheep<br>x=%{x}<br>y=%{y}<br>ImageName=%{customdata[0]}<br>index=%{customdata[1]}<extra></extra>",
         "legendgroup": "sheep",
         "marker": {
          "color": "#FF97FF",
          "symbol": "circle"
         },
         "mode": "markers",
         "name": "sheep",
         "orientation": "v",
         "showlegend": true,
         "type": "scatter",
         "x": [
          4.180847,
          -24.19376,
          5.151661,
          -16.702427,
          -1.8777146,
          0.9346545,
          8.9609165,
          8.131491,
          13.871971,
          11.1861105,
          4.876169,
          3.0862422,
          4.408877,
          5.945013,
          -2.0906017,
          4.350144,
          1.5362989,
          4.977659,
          8.010154,
          1.5770638,
          5.2372193,
          5.9645405,
          -9.016744,
          5.259265,
          1.7751908,
          7.4570417,
          3.0016012,
          0.68435603,
          6.2121696,
          4.5886564,
          -15.043282,
          1.6997108,
          6.924573,
          -24.799698,
          -17.560678,
          0.2876456,
          -6.8869786,
          5.5727577,
          11.287959,
          4.5088134,
          13.161567,
          -6.9468417,
          12.729515,
          2.229254,
          7.5838213,
          4.4470367,
          12.031885,
          6.3106837,
          3.757006,
          5.6528745
         ],
         "xaxis": "x",
         "y": [
          0.38124174,
          -4.831274,
          1.7182212,
          -4.928195,
          9.352329,
          20.339062,
          15.575629,
          14.367007,
          1.5900544,
          -5.510468,
          15.491645,
          11.016268,
          12.6776,
          4.347583,
          10.37633,
          1.9523234,
          17.472359,
          11.346245,
          2.4068198,
          20.13175,
          2.8078954,
          9.930465,
          -9.805997,
          4.647658,
          22.335833,
          1.6187075,
          21.263426,
          18.67383,
          2.4582088,
          2.3497226,
          -3.651418,
          16.841154,
          -0.66861314,
          -2.8892608,
          -2.041959,
          17.942759,
          11.930657,
          0.954076,
          -5.5685816,
          19.740116,
          10.974656,
          -12.887829,
          13.909501,
          1.7995416,
          -1.0027093,
          -1.5883864,
          18.870289,
          -6.181497,
          13.832449,
          5.7716546
         ],
         "yaxis": "y"
        },
        {
         "alignmentgroup": "True",
         "bingroup": "x",
         "hovertemplate": "ClasseOriginal=sheep<br>x=%{x}<br>count=%{y}<extra></extra>",
         "legendgroup": "sheep",
         "marker": {
          "color": "#FF97FF"
         },
         "name": "sheep",
         "offsetgroup": "sheep",
         "opacity": 0.5,
         "showlegend": false,
         "type": "histogram",
         "x": [
          4.180847,
          -24.19376,
          5.151661,
          -16.702427,
          -1.8777146,
          0.9346545,
          8.9609165,
          8.131491,
          13.871971,
          11.1861105,
          4.876169,
          3.0862422,
          4.408877,
          5.945013,
          -2.0906017,
          4.350144,
          1.5362989,
          4.977659,
          8.010154,
          1.5770638,
          5.2372193,
          5.9645405,
          -9.016744,
          5.259265,
          1.7751908,
          7.4570417,
          3.0016012,
          0.68435603,
          6.2121696,
          4.5886564,
          -15.043282,
          1.6997108,
          6.924573,
          -24.799698,
          -17.560678,
          0.2876456,
          -6.8869786,
          5.5727577,
          11.287959,
          4.5088134,
          13.161567,
          -6.9468417,
          12.729515,
          2.229254,
          7.5838213,
          4.4470367,
          12.031885,
          6.3106837,
          3.757006,
          5.6528745
         ],
         "xaxis": "x3",
         "yaxis": "y3"
        },
        {
         "alignmentgroup": "True",
         "customdata": [
          [
           "sheep_000000022589",
           40
          ],
          [
           "sheep_000000181666",
           41
          ],
          [
           "sheep_000000278353",
           42
          ],
          [
           "sheep_000000389566",
           43
          ],
          [
           "sheep_000000474881",
           44
          ],
          [
           "sheep_000000023937",
           90
          ],
          [
           "sheep_000000193162",
           91
          ],
          [
           "sheep_000000288685",
           92
          ],
          [
           "sheep_000000395388",
           93
          ],
          [
           "sheep_000000484893",
           94
          ],
          [
           "sheep_000000044699",
           140
          ],
          [
           "sheep_000000198960",
           141
          ],
          [
           "sheep_000000290592",
           142
          ],
          [
           "sheep_000000397639",
           143
          ],
          [
           "sheep_000000528524",
           144
          ],
          [
           "sheep_000000046804",
           190
          ],
          [
           "sheep_000000209613",
           191
          ],
          [
           "sheep_000000295231",
           192
          ],
          [
           "sheep_000000406997",
           193
          ],
          [
           "sheep_000000535578",
           194
          ],
          [
           "sheep_000000066561",
           240
          ],
          [
           "sheep_000000212559",
           241
          ],
          [
           "sheep_000000338304",
           242
          ],
          [
           "sheep_000000410428",
           243
          ],
          [
           "sheep_000000546556",
           244
          ],
          [
           "sheep_000000094871",
           290
          ],
          [
           "sheep_000000225184",
           291
          ],
          [
           "sheep_000000340272",
           292
          ],
          [
           "sheep_000000428562",
           293
          ],
          [
           "sheep_000000547383",
           294
          ],
          [
           "sheep_000000140583",
           340
          ],
          [
           "sheep_000000230166",
           341
          ],
          [
           "sheep_000000360325",
           342
          ],
          [
           "sheep_000000435206",
           343
          ],
          [
           "sheep_000000548267",
           344
          ],
          [
           "sheep_000000154947",
           390
          ],
          [
           "sheep_000000238039",
           391
          ],
          [
           "sheep_000000364322",
           392
          ],
          [
           "sheep_000000458755",
           393
          ],
          [
           "sheep_000000552612",
           394
          ],
          [
           "sheep_000000156071",
           440
          ],
          [
           "sheep_000000263966",
           441
          ],
          [
           "sheep_000000369442",
           442
          ],
          [
           "sheep_000000459437",
           443
          ],
          [
           "sheep_000000559956",
           444
          ],
          [
           "sheep_000000012062",
           489
          ],
          [
           "sheep_000000158548",
           490
          ],
          [
           "sheep_000000269196",
           491
          ],
          [
           "sheep_000000375763",
           492
          ],
          [
           "sheep_000000467776",
           493
          ]
         ],
         "hovertemplate": "ClasseOriginal=sheep<br>y=%{y}<br>ImageName=%{customdata[0]}<br>index=%{customdata[1]}<extra></extra>",
         "legendgroup": "sheep",
         "marker": {
          "color": "#FF97FF",
          "symbol": "circle"
         },
         "name": "sheep",
         "offsetgroup": "sheep",
         "scalegroup": "y",
         "showlegend": false,
         "type": "violin",
         "xaxis": "x2",
         "y": [
          0.38124174,
          -4.831274,
          1.7182212,
          -4.928195,
          9.352329,
          20.339062,
          15.575629,
          14.367007,
          1.5900544,
          -5.510468,
          15.491645,
          11.016268,
          12.6776,
          4.347583,
          10.37633,
          1.9523234,
          17.472359,
          11.346245,
          2.4068198,
          20.13175,
          2.8078954,
          9.930465,
          -9.805997,
          4.647658,
          22.335833,
          1.6187075,
          21.263426,
          18.67383,
          2.4582088,
          2.3497226,
          -3.651418,
          16.841154,
          -0.66861314,
          -2.8892608,
          -2.041959,
          17.942759,
          11.930657,
          0.954076,
          -5.5685816,
          19.740116,
          10.974656,
          -12.887829,
          13.909501,
          1.7995416,
          -1.0027093,
          -1.5883864,
          18.870289,
          -6.181497,
          13.832449,
          5.7716546
         ],
         "yaxis": "y2"
        },
        {
         "customdata": [
          [
           "zebra_000000016010",
           45
          ],
          [
           "zebra_000000091921",
           46
          ],
          [
           "zebra_000000159977",
           47
          ],
          [
           "zebra_000000320632",
           48
          ],
          [
           "zebra_000000491613",
           49
          ],
          [
           "zebra_000000017115",
           95
          ],
          [
           "zebra_000000093965",
           96
          ],
          [
           "zebra_000000185409",
           97
          ],
          [
           "zebra_000000325306",
           98
          ],
          [
           "zebra_000000504439",
           99
          ],
          [
           "zebra_000000020059",
           145
          ],
          [
           "zebra_000000104455",
           146
          ],
          [
           "zebra_000000215245",
           147
          ],
          [
           "zebra_000000350488",
           148
          ],
          [
           "zebra_000000508586",
           149
          ],
          [
           "zebra_000000025096",
           195
          ],
          [
           "zebra_000000110211",
           196
          ],
          [
           "zebra_000000236730",
           197
          ],
          [
           "zebra_000000364166",
           198
          ],
          [
           "zebra_000000509656",
           199
          ],
          [
           "zebra_000000025139",
           245
          ],
          [
           "zebra_000000113354",
           246
          ],
          [
           "zebra_000000290833",
           247
          ],
          [
           "zebra_000000377497",
           248
          ],
          [
           "zebra_000000509735",
           249
          ],
          [
           "zebra_000000031269",
           295
          ],
          [
           "zebra_000000122969",
           296
          ],
          [
           "zebra_000000291861",
           297
          ],
          [
           "zebra_000000378453",
           298
          ],
          [
           "zebra_000000516316",
           299
          ],
          [
           "zebra_000000049761",
           345
          ],
          [
           "zebra_000000124975",
           346
          ],
          [
           "zebra_000000298251",
           347
          ],
          [
           "zebra_000000379533",
           348
          ],
          [
           "zebra_000000546011",
           349
          ],
          [
           "zebra_000000052462",
           395
          ],
          [
           "zebra_000000125211",
           396
          ],
          [
           "zebra_000000305695",
           397
          ],
          [
           "zebra_000000433243",
           398
          ],
          [
           "zebra_000000562443",
           399
          ],
          [
           "zebra_000000059386",
           445
          ],
          [
           "zebra_000000129054",
           446
          ],
          [
           "zebra_000000311295",
           447
          ],
          [
           "zebra_000000454750",
           448
          ],
          [
           "zebra_000000577149",
           449
          ],
          [
           "zebra_000000001818",
           494
          ],
          [
           "zebra_000000070158",
           495
          ],
          [
           "zebra_000000159311",
           496
          ],
          [
           "zebra_000000317024",
           497
          ],
          [
           "zebra_000000486046",
           498
          ]
         ],
         "hovertemplate": "ClasseOriginal=zebra<br>x=%{x}<br>y=%{y}<br>ImageName=%{customdata[0]}<br>index=%{customdata[1]}<extra></extra>",
         "legendgroup": "zebra",
         "marker": {
          "color": "#FECB52",
          "symbol": "circle"
         },
         "mode": "markers",
         "name": "zebra",
         "orientation": "v",
         "showlegend": true,
         "type": "scatter",
         "x": [
          5.6144814,
          -17.485098,
          24.01959,
          -23.384539,
          -22.485321,
          -18.757479,
          -21.35313,
          -19.263908,
          -19.320148,
          -23.88067,
          -17.810867,
          -20.271341,
          -19.193953,
          -22.500418,
          -19.669243,
          1.1738634,
          -19.628569,
          -24.280846,
          -21.564713,
          -21.399565,
          -24.407125,
          -23.968533,
          -19.421082,
          -25.688423,
          -17.548996,
          -20.613747,
          -22.745949,
          -22.646837,
          -16.319393,
          -18.967806,
          6.3417497,
          -20.16252,
          -21.441923,
          -18.123755,
          -19.351217,
          -20.519806,
          -21.79138,
          -13.37338,
          -22.178047,
          -19.721123,
          27.380829,
          7.7356076,
          7.397937,
          -24.129538,
          -20.129448,
          -21.49611,
          -20.754087,
          -20.7979,
          -17.767418,
          20.049574
         ],
         "xaxis": "x",
         "y": [
          19.61966,
          -18.015652,
          4.6466327,
          -20.459595,
          -17.581072,
          -19.474554,
          -17.528791,
          -16.137432,
          -20.995842,
          -22.985859,
          -17.814781,
          -20.783964,
          -15.4181595,
          -18.387774,
          -14.173524,
          -17.437609,
          -16.917162,
          -20.845146,
          -19.823462,
          -18.201073,
          -19.475649,
          -15.962063,
          -19.765635,
          -21.276487,
          -15.547961,
          -17.433773,
          -19.736471,
          -21.8398,
          -17.279377,
          -13.4264145,
          24.55773,
          -18.695755,
          -1.9789551,
          -14.225648,
          -18.36629,
          -16.092237,
          -19.323526,
          -7.1949,
          -16.082949,
          -22.353382,
          6.065617,
          24.555098,
          21.934177,
          -21.708715,
          -17.92352,
          -20.640182,
          -19.460228,
          -18.468517,
          -20.203308,
          -2.6296926
         ],
         "yaxis": "y"
        },
        {
         "alignmentgroup": "True",
         "bingroup": "x",
         "hovertemplate": "ClasseOriginal=zebra<br>x=%{x}<br>count=%{y}<extra></extra>",
         "legendgroup": "zebra",
         "marker": {
          "color": "#FECB52"
         },
         "name": "zebra",
         "offsetgroup": "zebra",
         "opacity": 0.5,
         "showlegend": false,
         "type": "histogram",
         "x": [
          5.6144814,
          -17.485098,
          24.01959,
          -23.384539,
          -22.485321,
          -18.757479,
          -21.35313,
          -19.263908,
          -19.320148,
          -23.88067,
          -17.810867,
          -20.271341,
          -19.193953,
          -22.500418,
          -19.669243,
          1.1738634,
          -19.628569,
          -24.280846,
          -21.564713,
          -21.399565,
          -24.407125,
          -23.968533,
          -19.421082,
          -25.688423,
          -17.548996,
          -20.613747,
          -22.745949,
          -22.646837,
          -16.319393,
          -18.967806,
          6.3417497,
          -20.16252,
          -21.441923,
          -18.123755,
          -19.351217,
          -20.519806,
          -21.79138,
          -13.37338,
          -22.178047,
          -19.721123,
          27.380829,
          7.7356076,
          7.397937,
          -24.129538,
          -20.129448,
          -21.49611,
          -20.754087,
          -20.7979,
          -17.767418,
          20.049574
         ],
         "xaxis": "x3",
         "yaxis": "y3"
        },
        {
         "alignmentgroup": "True",
         "customdata": [
          [
           "zebra_000000016010",
           45
          ],
          [
           "zebra_000000091921",
           46
          ],
          [
           "zebra_000000159977",
           47
          ],
          [
           "zebra_000000320632",
           48
          ],
          [
           "zebra_000000491613",
           49
          ],
          [
           "zebra_000000017115",
           95
          ],
          [
           "zebra_000000093965",
           96
          ],
          [
           "zebra_000000185409",
           97
          ],
          [
           "zebra_000000325306",
           98
          ],
          [
           "zebra_000000504439",
           99
          ],
          [
           "zebra_000000020059",
           145
          ],
          [
           "zebra_000000104455",
           146
          ],
          [
           "zebra_000000215245",
           147
          ],
          [
           "zebra_000000350488",
           148
          ],
          [
           "zebra_000000508586",
           149
          ],
          [
           "zebra_000000025096",
           195
          ],
          [
           "zebra_000000110211",
           196
          ],
          [
           "zebra_000000236730",
           197
          ],
          [
           "zebra_000000364166",
           198
          ],
          [
           "zebra_000000509656",
           199
          ],
          [
           "zebra_000000025139",
           245
          ],
          [
           "zebra_000000113354",
           246
          ],
          [
           "zebra_000000290833",
           247
          ],
          [
           "zebra_000000377497",
           248
          ],
          [
           "zebra_000000509735",
           249
          ],
          [
           "zebra_000000031269",
           295
          ],
          [
           "zebra_000000122969",
           296
          ],
          [
           "zebra_000000291861",
           297
          ],
          [
           "zebra_000000378453",
           298
          ],
          [
           "zebra_000000516316",
           299
          ],
          [
           "zebra_000000049761",
           345
          ],
          [
           "zebra_000000124975",
           346
          ],
          [
           "zebra_000000298251",
           347
          ],
          [
           "zebra_000000379533",
           348
          ],
          [
           "zebra_000000546011",
           349
          ],
          [
           "zebra_000000052462",
           395
          ],
          [
           "zebra_000000125211",
           396
          ],
          [
           "zebra_000000305695",
           397
          ],
          [
           "zebra_000000433243",
           398
          ],
          [
           "zebra_000000562443",
           399
          ],
          [
           "zebra_000000059386",
           445
          ],
          [
           "zebra_000000129054",
           446
          ],
          [
           "zebra_000000311295",
           447
          ],
          [
           "zebra_000000454750",
           448
          ],
          [
           "zebra_000000577149",
           449
          ],
          [
           "zebra_000000001818",
           494
          ],
          [
           "zebra_000000070158",
           495
          ],
          [
           "zebra_000000159311",
           496
          ],
          [
           "zebra_000000317024",
           497
          ],
          [
           "zebra_000000486046",
           498
          ]
         ],
         "hovertemplate": "ClasseOriginal=zebra<br>y=%{y}<br>ImageName=%{customdata[0]}<br>index=%{customdata[1]}<extra></extra>",
         "legendgroup": "zebra",
         "marker": {
          "color": "#FECB52",
          "symbol": "circle"
         },
         "name": "zebra",
         "offsetgroup": "zebra",
         "scalegroup": "y",
         "showlegend": false,
         "type": "violin",
         "xaxis": "x2",
         "y": [
          19.61966,
          -18.015652,
          4.6466327,
          -20.459595,
          -17.581072,
          -19.474554,
          -17.528791,
          -16.137432,
          -20.995842,
          -22.985859,
          -17.814781,
          -20.783964,
          -15.4181595,
          -18.387774,
          -14.173524,
          -17.437609,
          -16.917162,
          -20.845146,
          -19.823462,
          -18.201073,
          -19.475649,
          -15.962063,
          -19.765635,
          -21.276487,
          -15.547961,
          -17.433773,
          -19.736471,
          -21.8398,
          -17.279377,
          -13.4264145,
          24.55773,
          -18.695755,
          -1.9789551,
          -14.225648,
          -18.36629,
          -16.092237,
          -19.323526,
          -7.1949,
          -16.082949,
          -22.353382,
          6.065617,
          24.555098,
          21.934177,
          -21.708715,
          -17.92352,
          -20.640182,
          -19.460228,
          -18.468517,
          -20.203308,
          -2.6296926
         ],
         "yaxis": "y2"
        }
       ],
       "layout": {
        "barmode": "overlay",
        "height": 500,
        "legend": {
         "title": {
          "text": "ClasseOriginal"
         },
         "tracegroupgap": 0
        },
        "template": {
         "data": {
          "bar": [
           {
            "error_x": {
             "color": "#2a3f5f"
            },
            "error_y": {
             "color": "#2a3f5f"
            },
            "marker": {
             "line": {
              "color": "#E5ECF6",
              "width": 0.5
             },
             "pattern": {
              "fillmode": "overlay",
              "size": 10,
              "solidity": 0.2
             }
            },
            "type": "bar"
           }
          ],
          "barpolar": [
           {
            "marker": {
             "line": {
              "color": "#E5ECF6",
              "width": 0.5
             },
             "pattern": {
              "fillmode": "overlay",
              "size": 10,
              "solidity": 0.2
             }
            },
            "type": "barpolar"
           }
          ],
          "carpet": [
           {
            "aaxis": {
             "endlinecolor": "#2a3f5f",
             "gridcolor": "white",
             "linecolor": "white",
             "minorgridcolor": "white",
             "startlinecolor": "#2a3f5f"
            },
            "baxis": {
             "endlinecolor": "#2a3f5f",
             "gridcolor": "white",
             "linecolor": "white",
             "minorgridcolor": "white",
             "startlinecolor": "#2a3f5f"
            },
            "type": "carpet"
           }
          ],
          "choropleth": [
           {
            "colorbar": {
             "outlinewidth": 0,
             "ticks": ""
            },
            "type": "choropleth"
           }
          ],
          "contour": [
           {
            "colorbar": {
             "outlinewidth": 0,
             "ticks": ""
            },
            "colorscale": [
             [
              0,
              "#0d0887"
             ],
             [
              0.1111111111111111,
              "#46039f"
             ],
             [
              0.2222222222222222,
              "#7201a8"
             ],
             [
              0.3333333333333333,
              "#9c179e"
             ],
             [
              0.4444444444444444,
              "#bd3786"
             ],
             [
              0.5555555555555556,
              "#d8576b"
             ],
             [
              0.6666666666666666,
              "#ed7953"
             ],
             [
              0.7777777777777778,
              "#fb9f3a"
             ],
             [
              0.8888888888888888,
              "#fdca26"
             ],
             [
              1,
              "#f0f921"
             ]
            ],
            "type": "contour"
           }
          ],
          "contourcarpet": [
           {
            "colorbar": {
             "outlinewidth": 0,
             "ticks": ""
            },
            "type": "contourcarpet"
           }
          ],
          "heatmap": [
           {
            "colorbar": {
             "outlinewidth": 0,
             "ticks": ""
            },
            "colorscale": [
             [
              0,
              "#0d0887"
             ],
             [
              0.1111111111111111,
              "#46039f"
             ],
             [
              0.2222222222222222,
              "#7201a8"
             ],
             [
              0.3333333333333333,
              "#9c179e"
             ],
             [
              0.4444444444444444,
              "#bd3786"
             ],
             [
              0.5555555555555556,
              "#d8576b"
             ],
             [
              0.6666666666666666,
              "#ed7953"
             ],
             [
              0.7777777777777778,
              "#fb9f3a"
             ],
             [
              0.8888888888888888,
              "#fdca26"
             ],
             [
              1,
              "#f0f921"
             ]
            ],
            "type": "heatmap"
           }
          ],
          "heatmapgl": [
           {
            "colorbar": {
             "outlinewidth": 0,
             "ticks": ""
            },
            "colorscale": [
             [
              0,
              "#0d0887"
             ],
             [
              0.1111111111111111,
              "#46039f"
             ],
             [
              0.2222222222222222,
              "#7201a8"
             ],
             [
              0.3333333333333333,
              "#9c179e"
             ],
             [
              0.4444444444444444,
              "#bd3786"
             ],
             [
              0.5555555555555556,
              "#d8576b"
             ],
             [
              0.6666666666666666,
              "#ed7953"
             ],
             [
              0.7777777777777778,
              "#fb9f3a"
             ],
             [
              0.8888888888888888,
              "#fdca26"
             ],
             [
              1,
              "#f0f921"
             ]
            ],
            "type": "heatmapgl"
           }
          ],
          "histogram": [
           {
            "marker": {
             "pattern": {
              "fillmode": "overlay",
              "size": 10,
              "solidity": 0.2
             }
            },
            "type": "histogram"
           }
          ],
          "histogram2d": [
           {
            "colorbar": {
             "outlinewidth": 0,
             "ticks": ""
            },
            "colorscale": [
             [
              0,
              "#0d0887"
             ],
             [
              0.1111111111111111,
              "#46039f"
             ],
             [
              0.2222222222222222,
              "#7201a8"
             ],
             [
              0.3333333333333333,
              "#9c179e"
             ],
             [
              0.4444444444444444,
              "#bd3786"
             ],
             [
              0.5555555555555556,
              "#d8576b"
             ],
             [
              0.6666666666666666,
              "#ed7953"
             ],
             [
              0.7777777777777778,
              "#fb9f3a"
             ],
             [
              0.8888888888888888,
              "#fdca26"
             ],
             [
              1,
              "#f0f921"
             ]
            ],
            "type": "histogram2d"
           }
          ],
          "histogram2dcontour": [
           {
            "colorbar": {
             "outlinewidth": 0,
             "ticks": ""
            },
            "colorscale": [
             [
              0,
              "#0d0887"
             ],
             [
              0.1111111111111111,
              "#46039f"
             ],
             [
              0.2222222222222222,
              "#7201a8"
             ],
             [
              0.3333333333333333,
              "#9c179e"
             ],
             [
              0.4444444444444444,
              "#bd3786"
             ],
             [
              0.5555555555555556,
              "#d8576b"
             ],
             [
              0.6666666666666666,
              "#ed7953"
             ],
             [
              0.7777777777777778,
              "#fb9f3a"
             ],
             [
              0.8888888888888888,
              "#fdca26"
             ],
             [
              1,
              "#f0f921"
             ]
            ],
            "type": "histogram2dcontour"
           }
          ],
          "mesh3d": [
           {
            "colorbar": {
             "outlinewidth": 0,
             "ticks": ""
            },
            "type": "mesh3d"
           }
          ],
          "parcoords": [
           {
            "line": {
             "colorbar": {
              "outlinewidth": 0,
              "ticks": ""
             }
            },
            "type": "parcoords"
           }
          ],
          "pie": [
           {
            "automargin": true,
            "type": "pie"
           }
          ],
          "scatter": [
           {
            "marker": {
             "colorbar": {
              "outlinewidth": 0,
              "ticks": ""
             }
            },
            "type": "scatter"
           }
          ],
          "scatter3d": [
           {
            "line": {
             "colorbar": {
              "outlinewidth": 0,
              "ticks": ""
             }
            },
            "marker": {
             "colorbar": {
              "outlinewidth": 0,
              "ticks": ""
             }
            },
            "type": "scatter3d"
           }
          ],
          "scattercarpet": [
           {
            "marker": {
             "colorbar": {
              "outlinewidth": 0,
              "ticks": ""
             }
            },
            "type": "scattercarpet"
           }
          ],
          "scattergeo": [
           {
            "marker": {
             "colorbar": {
              "outlinewidth": 0,
              "ticks": ""
             }
            },
            "type": "scattergeo"
           }
          ],
          "scattergl": [
           {
            "marker": {
             "colorbar": {
              "outlinewidth": 0,
              "ticks": ""
             }
            },
            "type": "scattergl"
           }
          ],
          "scattermapbox": [
           {
            "marker": {
             "colorbar": {
              "outlinewidth": 0,
              "ticks": ""
             }
            },
            "type": "scattermapbox"
           }
          ],
          "scatterpolar": [
           {
            "marker": {
             "colorbar": {
              "outlinewidth": 0,
              "ticks": ""
             }
            },
            "type": "scatterpolar"
           }
          ],
          "scatterpolargl": [
           {
            "marker": {
             "colorbar": {
              "outlinewidth": 0,
              "ticks": ""
             }
            },
            "type": "scatterpolargl"
           }
          ],
          "scatterternary": [
           {
            "marker": {
             "colorbar": {
              "outlinewidth": 0,
              "ticks": ""
             }
            },
            "type": "scatterternary"
           }
          ],
          "surface": [
           {
            "colorbar": {
             "outlinewidth": 0,
             "ticks": ""
            },
            "colorscale": [
             [
              0,
              "#0d0887"
             ],
             [
              0.1111111111111111,
              "#46039f"
             ],
             [
              0.2222222222222222,
              "#7201a8"
             ],
             [
              0.3333333333333333,
              "#9c179e"
             ],
             [
              0.4444444444444444,
              "#bd3786"
             ],
             [
              0.5555555555555556,
              "#d8576b"
             ],
             [
              0.6666666666666666,
              "#ed7953"
             ],
             [
              0.7777777777777778,
              "#fb9f3a"
             ],
             [
              0.8888888888888888,
              "#fdca26"
             ],
             [
              1,
              "#f0f921"
             ]
            ],
            "type": "surface"
           }
          ],
          "table": [
           {
            "cells": {
             "fill": {
              "color": "#EBF0F8"
             },
             "line": {
              "color": "white"
             }
            },
            "header": {
             "fill": {
              "color": "#C8D4E3"
             },
             "line": {
              "color": "white"
             }
            },
            "type": "table"
           }
          ]
         },
         "layout": {
          "annotationdefaults": {
           "arrowcolor": "#2a3f5f",
           "arrowhead": 0,
           "arrowwidth": 1
          },
          "autotypenumbers": "strict",
          "coloraxis": {
           "colorbar": {
            "outlinewidth": 0,
            "ticks": ""
           }
          },
          "colorscale": {
           "diverging": [
            [
             0,
             "#8e0152"
            ],
            [
             0.1,
             "#c51b7d"
            ],
            [
             0.2,
             "#de77ae"
            ],
            [
             0.3,
             "#f1b6da"
            ],
            [
             0.4,
             "#fde0ef"
            ],
            [
             0.5,
             "#f7f7f7"
            ],
            [
             0.6,
             "#e6f5d0"
            ],
            [
             0.7,
             "#b8e186"
            ],
            [
             0.8,
             "#7fbc41"
            ],
            [
             0.9,
             "#4d9221"
            ],
            [
             1,
             "#276419"
            ]
           ],
           "sequential": [
            [
             0,
             "#0d0887"
            ],
            [
             0.1111111111111111,
             "#46039f"
            ],
            [
             0.2222222222222222,
             "#7201a8"
            ],
            [
             0.3333333333333333,
             "#9c179e"
            ],
            [
             0.4444444444444444,
             "#bd3786"
            ],
            [
             0.5555555555555556,
             "#d8576b"
            ],
            [
             0.6666666666666666,
             "#ed7953"
            ],
            [
             0.7777777777777778,
             "#fb9f3a"
            ],
            [
             0.8888888888888888,
             "#fdca26"
            ],
            [
             1,
             "#f0f921"
            ]
           ],
           "sequentialminus": [
            [
             0,
             "#0d0887"
            ],
            [
             0.1111111111111111,
             "#46039f"
            ],
            [
             0.2222222222222222,
             "#7201a8"
            ],
            [
             0.3333333333333333,
             "#9c179e"
            ],
            [
             0.4444444444444444,
             "#bd3786"
            ],
            [
             0.5555555555555556,
             "#d8576b"
            ],
            [
             0.6666666666666666,
             "#ed7953"
            ],
            [
             0.7777777777777778,
             "#fb9f3a"
            ],
            [
             0.8888888888888888,
             "#fdca26"
            ],
            [
             1,
             "#f0f921"
            ]
           ]
          },
          "colorway": [
           "#636efa",
           "#EF553B",
           "#00cc96",
           "#ab63fa",
           "#FFA15A",
           "#19d3f3",
           "#FF6692",
           "#B6E880",
           "#FF97FF",
           "#FECB52"
          ],
          "font": {
           "color": "#2a3f5f"
          },
          "geo": {
           "bgcolor": "white",
           "lakecolor": "white",
           "landcolor": "#E5ECF6",
           "showlakes": true,
           "showland": true,
           "subunitcolor": "white"
          },
          "hoverlabel": {
           "align": "left"
          },
          "hovermode": "closest",
          "mapbox": {
           "style": "light"
          },
          "paper_bgcolor": "white",
          "plot_bgcolor": "#E5ECF6",
          "polar": {
           "angularaxis": {
            "gridcolor": "white",
            "linecolor": "white",
            "ticks": ""
           },
           "bgcolor": "#E5ECF6",
           "radialaxis": {
            "gridcolor": "white",
            "linecolor": "white",
            "ticks": ""
           }
          },
          "scene": {
           "xaxis": {
            "backgroundcolor": "#E5ECF6",
            "gridcolor": "white",
            "gridwidth": 2,
            "linecolor": "white",
            "showbackground": true,
            "ticks": "",
            "zerolinecolor": "white"
           },
           "yaxis": {
            "backgroundcolor": "#E5ECF6",
            "gridcolor": "white",
            "gridwidth": 2,
            "linecolor": "white",
            "showbackground": true,
            "ticks": "",
            "zerolinecolor": "white"
           },
           "zaxis": {
            "backgroundcolor": "#E5ECF6",
            "gridcolor": "white",
            "gridwidth": 2,
            "linecolor": "white",
            "showbackground": true,
            "ticks": "",
            "zerolinecolor": "white"
           }
          },
          "shapedefaults": {
           "line": {
            "color": "#2a3f5f"
           }
          },
          "ternary": {
           "aaxis": {
            "gridcolor": "white",
            "linecolor": "white",
            "ticks": ""
           },
           "baxis": {
            "gridcolor": "white",
            "linecolor": "white",
            "ticks": ""
           },
           "bgcolor": "#E5ECF6",
           "caxis": {
            "gridcolor": "white",
            "linecolor": "white",
            "ticks": ""
           }
          },
          "title": {
           "x": 0.05
          },
          "xaxis": {
           "automargin": true,
           "gridcolor": "white",
           "linecolor": "white",
           "ticks": "",
           "title": {
            "standoff": 15
           },
           "zerolinecolor": "white",
           "zerolinewidth": 2
          },
          "yaxis": {
           "automargin": true,
           "gridcolor": "white",
           "linecolor": "white",
           "ticks": "",
           "title": {
            "standoff": 15
           },
           "zerolinecolor": "white",
           "zerolinewidth": 2
          }
         }
        },
        "title": {
         "text": "Embeddings das imagens"
        },
        "width": 600,
        "xaxis": {
         "anchor": "y",
         "domain": [
          0,
          0.7363
         ],
         "title": {
          "text": "x"
         }
        },
        "xaxis2": {
         "anchor": "y2",
         "domain": [
          0.7413,
          1
         ],
         "matches": "x2",
         "showgrid": false,
         "showline": false,
         "showticklabels": false,
         "ticks": ""
        },
        "xaxis3": {
         "anchor": "y3",
         "domain": [
          0,
          0.7363
         ],
         "matches": "x",
         "showgrid": true,
         "showticklabels": false
        },
        "xaxis4": {
         "anchor": "y4",
         "domain": [
          0.7413,
          1
         ],
         "matches": "x2",
         "showgrid": false,
         "showline": false,
         "showticklabels": false,
         "ticks": ""
        },
        "yaxis": {
         "anchor": "x",
         "domain": [
          0,
          0.7326
         ],
         "title": {
          "text": "y"
         }
        },
        "yaxis2": {
         "anchor": "x2",
         "domain": [
          0,
          0.7326
         ],
         "matches": "y",
         "showgrid": true,
         "showticklabels": false
        },
        "yaxis3": {
         "anchor": "x3",
         "domain": [
          0.7426,
          1
         ],
         "matches": "y3",
         "showgrid": true,
         "showline": false,
         "showticklabels": false,
         "ticks": ""
        },
        "yaxis4": {
         "anchor": "x4",
         "domain": [
          0.7426,
          1
         ],
         "matches": "y3",
         "showgrid": true,
         "showline": false,
         "showticklabels": false,
         "ticks": ""
        }
       }
      },
      "text/html": [
       "<div>                            <div id=\"a97ef21b-acda-4a98-9964-14ca60f1639c\" class=\"plotly-graph-div\" style=\"height:500px; width:600px;\"></div>            <script type=\"text/javascript\">                require([\"plotly\"], function(Plotly) {                    window.PLOTLYENV=window.PLOTLYENV || {};                                    if (document.getElementById(\"a97ef21b-acda-4a98-9964-14ca60f1639c\")) {                    Plotly.newPlot(                        \"a97ef21b-acda-4a98-9964-14ca60f1639c\",                        [{\"customdata\":[[\"bear_000000000285\",0],[\"bear_000000127955\",1],[\"bear_000000229997\",2],[\"bear_000000361180\",3],[\"bear_000000513484\",4],[\"bear_000000020247\",50],[\"bear_000000132622\",51],[\"bear_000000235064\",52],[\"bear_000000375015\",53],[\"bear_000000519611\",54],[\"bear_000000042296\",100],[\"bear_000000165500\",101],[\"bear_000000243075\",102],[\"bear_000000390826\",103],[\"bear_000000519688\",104],[\"bear_000000071756\",150],[\"bear_000000173033\",151],[\"bear_000000298738\",152],[\"bear_000000414261\",153],[\"bear_000000521231\",154],[\"bear_000000079144\",200],[\"bear_000000186422\",201],[\"bear_000000307658\",202],[\"bear_000000417465\",203],[\"bear_000000532071\",204],[\"bear_000000085478\",250],[\"bear_000000194216\",251],[\"bear_000000308476\",252],[\"bear_000000431727\",253],[\"bear_000000547519\",254],[\"bear_000000092839\",300],[\"bear_000000194506\",301],[\"bear_000000308753\",302],[\"bear_000000453981\",303],[\"bear_000000560266\",304],[\"bear_000000096960\",350],[\"bear_000000203546\",351],[\"bear_000000312586\",352],[\"bear_000000460927\",353],[\"bear_000000572517\",354],[\"bear_000000104603\",400],[\"bear_000000205776\",401],[\"bear_000000318080\",402],[\"bear_000000461036\",403],[\"bear_000000573391\",404],[\"bear_000000110972\",450],[\"bear_000000217948\",451],[\"bear_000000341094\",452],[\"bear_000000471450\",453]],\"hovertemplate\":\"ClasseOriginal=bear<br>x=%{x}<br>y=%{y}<br>ImageName=%{customdata[0]}<br>index=%{customdata[1]}<extra></extra>\",\"legendgroup\":\"bear\",\"marker\":{\"color\":\"#636efa\",\"symbol\":\"circle\"},\"mode\":\"markers\",\"name\":\"bear\",\"orientation\":\"v\",\"showlegend\":true,\"type\":\"scatter\",\"x\":[3.6955519,-1.3337252,-7.1112056,2.1765592,-0.8567942,1.9589081,3.4018104,2.1182992,4.4621344,2.2426252,-1.8828187,-0.3759694,5.644831,-3.434191,5.906036,0.2153629,6.2417655,-2.106233,5.2091184,2.4656634,-1.8368376,-10.645494,4.229193,3.763474,-4.0772843,-0.12115917,4.076492,3.0117013,-5.7561183,2.5192654,4.7873707,-2.8890452,-7.15386,-5.092201,-1.1579037,2.3800952,0.19605182,-3.4871705,2.4479785,0.9688473,-3.170976,0.1404138,0.04337413,-5.6008806,-1.9447111,-4.391413,7.928847,-10.063681,0.9347381],\"xaxis\":\"x\",\"y\":[-5.4306793,-5.2676063,18.551336,-6.5232553,-6.1431904,-7.903794,-5.340008,-5.196118,-7.390503,-2.8278534,-3.351517,21.07447,-4.064519,15.0173435,-9.300754,-1.4184296,-13.104749,-8.092333,-8.185492,-3.2648141,-1.1212031,21.528868,-6.0783076,-8.977281,21.740183,-3.6171424,16.600992,-2.81696,-9.235071,-6.165481,-4.2347813,-5.70931,1.2644566,17.851435,-5.6316557,-1.6676067,-6.6638594,20.426239,-7.7333755,-2.469793,20.94281,-9.604886,-5.250351,-7.711974,21.145773,19.861069,1.0437206,-12.963233,20.818722],\"yaxis\":\"y\"},{\"alignmentgroup\":\"True\",\"bingroup\":\"x\",\"hovertemplate\":\"ClasseOriginal=bear<br>x=%{x}<br>count=%{y}<extra></extra>\",\"legendgroup\":\"bear\",\"marker\":{\"color\":\"#636efa\"},\"name\":\"bear\",\"offsetgroup\":\"bear\",\"opacity\":0.5,\"showlegend\":false,\"type\":\"histogram\",\"x\":[3.6955519,-1.3337252,-7.1112056,2.1765592,-0.8567942,1.9589081,3.4018104,2.1182992,4.4621344,2.2426252,-1.8828187,-0.3759694,5.644831,-3.434191,5.906036,0.2153629,6.2417655,-2.106233,5.2091184,2.4656634,-1.8368376,-10.645494,4.229193,3.763474,-4.0772843,-0.12115917,4.076492,3.0117013,-5.7561183,2.5192654,4.7873707,-2.8890452,-7.15386,-5.092201,-1.1579037,2.3800952,0.19605182,-3.4871705,2.4479785,0.9688473,-3.170976,0.1404138,0.04337413,-5.6008806,-1.9447111,-4.391413,7.928847,-10.063681,0.9347381],\"xaxis\":\"x3\",\"yaxis\":\"y3\"},{\"alignmentgroup\":\"True\",\"customdata\":[[\"bear_000000000285\",0],[\"bear_000000127955\",1],[\"bear_000000229997\",2],[\"bear_000000361180\",3],[\"bear_000000513484\",4],[\"bear_000000020247\",50],[\"bear_000000132622\",51],[\"bear_000000235064\",52],[\"bear_000000375015\",53],[\"bear_000000519611\",54],[\"bear_000000042296\",100],[\"bear_000000165500\",101],[\"bear_000000243075\",102],[\"bear_000000390826\",103],[\"bear_000000519688\",104],[\"bear_000000071756\",150],[\"bear_000000173033\",151],[\"bear_000000298738\",152],[\"bear_000000414261\",153],[\"bear_000000521231\",154],[\"bear_000000079144\",200],[\"bear_000000186422\",201],[\"bear_000000307658\",202],[\"bear_000000417465\",203],[\"bear_000000532071\",204],[\"bear_000000085478\",250],[\"bear_000000194216\",251],[\"bear_000000308476\",252],[\"bear_000000431727\",253],[\"bear_000000547519\",254],[\"bear_000000092839\",300],[\"bear_000000194506\",301],[\"bear_000000308753\",302],[\"bear_000000453981\",303],[\"bear_000000560266\",304],[\"bear_000000096960\",350],[\"bear_000000203546\",351],[\"bear_000000312586\",352],[\"bear_000000460927\",353],[\"bear_000000572517\",354],[\"bear_000000104603\",400],[\"bear_000000205776\",401],[\"bear_000000318080\",402],[\"bear_000000461036\",403],[\"bear_000000573391\",404],[\"bear_000000110972\",450],[\"bear_000000217948\",451],[\"bear_000000341094\",452],[\"bear_000000471450\",453]],\"hovertemplate\":\"ClasseOriginal=bear<br>y=%{y}<br>ImageName=%{customdata[0]}<br>index=%{customdata[1]}<extra></extra>\",\"legendgroup\":\"bear\",\"marker\":{\"color\":\"#636efa\",\"symbol\":\"circle\"},\"name\":\"bear\",\"offsetgroup\":\"bear\",\"scalegroup\":\"y\",\"showlegend\":false,\"type\":\"violin\",\"xaxis\":\"x2\",\"y\":[-5.4306793,-5.2676063,18.551336,-6.5232553,-6.1431904,-7.903794,-5.340008,-5.196118,-7.390503,-2.8278534,-3.351517,21.07447,-4.064519,15.0173435,-9.300754,-1.4184296,-13.104749,-8.092333,-8.185492,-3.2648141,-1.1212031,21.528868,-6.0783076,-8.977281,21.740183,-3.6171424,16.600992,-2.81696,-9.235071,-6.165481,-4.2347813,-5.70931,1.2644566,17.851435,-5.6316557,-1.6676067,-6.6638594,20.426239,-7.7333755,-2.469793,20.94281,-9.604886,-5.250351,-7.711974,21.145773,19.861069,1.0437206,-12.963233,20.818722],\"yaxis\":\"y2\"},{\"customdata\":[[\"bird_000000031322\",5],[\"bird_000000147498\",6],[\"bird_000000229997\",7],[\"bird_000000330369\",8],[\"bird_000000490125\",9],[\"bird_000000032811\",55],[\"bird_000000149622\",56],[\"bird_000000236690\",57],[\"bird_000000337987\",58],[\"bird_000000494188\",59],[\"bird_000000049761\",105],[\"bird_000000157847\",106],[\"bird_000000264335\",107],[\"bird_000000402519\",108],[\"bird_000000511076\",109],[\"bird_000000055299\",155],[\"bird_000000159791\",156],[\"bird_000000277051\",157],[\"bird_000000404568\",158],[\"bird_000000523782\",159],[\"bird_000000070774\",205],[\"bird_000000182441\",206],[\"bird_000000284279\",207],[\"bird_000000417876\",208],[\"bird_000000523811\",209],[\"bird_000000100489\",255],[\"bird_000000186422\",256],[\"bird_000000285788\",257],[\"bird_000000418959\",258],[\"bird_000000542776\",259],[\"bird_000000117374\",305],[\"bird_000000186938\",306],[\"bird_000000289393\",307],[\"bird_000000434247\",308],[\"bird_000000544811\",309],[\"bird_000000120420\",355],[\"bird_000000210032\",356],[\"bird_000000300155\",357],[\"bird_000000475223\",358],[\"bird_000000572517\",359],[\"bird_000000122927\",405],[\"bird_000000216739\",406],[\"bird_000000314034\",407],[\"bird_000000482477\",408],[\"bird_000000577182\",409],[\"bird_000000019042\",454],[\"bird_000000126107\",455],[\"bird_000000222235\",456],[\"bird_000000315001\",457],[\"bird_000000489046\",458]],\"hovertemplate\":\"ClasseOriginal=bird<br>x=%{x}<br>y=%{y}<br>ImageName=%{customdata[0]}<br>index=%{customdata[1]}<extra></extra>\",\"legendgroup\":\"bird\",\"marker\":{\"color\":\"#EF553B\",\"symbol\":\"circle\"},\"mode\":\"markers\",\"name\":\"bird\",\"orientation\":\"v\",\"showlegend\":true,\"type\":\"scatter\",\"x\":[-26.12381,-9.730089,-7.1112127,-9.535669,-15.126745,-12.528786,-16.704985,-5.7647123,-15.595942,17.428852,6.3418694,-19.81761,-15.290282,-18.059309,-9.753761,-17.022284,-4.3193836,-20.210579,-17.835747,-4.1949444,9.9439335,-23.910158,-18.870275,30.310806,-20.54464,-18.108463,-10.645493,-0.052768864,-5.0421524,-20.966467,16.778173,-17.985376,11.202953,-20.48552,-21.92479,-6.1058207,-12.943271,-17.545498,-17.059698,0.9688245,-17.232824,23.509867,4.6825275,-15.835789,-8.624021,-25.056255,-18.912592,-4.8301578,-22.759932,-16.981962],\"xaxis\":\"x\",\"y\":[-3.155214,-0.087024376,18.551367,2.0407267,-7.4004226,-1.439436,8.932007,-2.5967941,8.738978,4.5183816,24.55764,-1.2515023,6.000825,10.630167,-10.29666,0.50616366,-21.250362,7.8246174,5.455392,-13.294932,4.860913,-1.1905895,8.11027,6.5729923,5.536376,8.210859,21.528927,14.237214,-4.029195,8.004672,-12.828012,5.79858,-12.586075,-7.026211,1.5674951,-0.5980626,2.9113414,8.625908,3.7591767,-2.4696953,5.6004963,-3.350166,26.683653,6.1737647,-2.426875,-1.2373748,2.1748822,-8.676154,-0.5680222,9.664362],\"yaxis\":\"y\"},{\"alignmentgroup\":\"True\",\"bingroup\":\"x\",\"hovertemplate\":\"ClasseOriginal=bird<br>x=%{x}<br>count=%{y}<extra></extra>\",\"legendgroup\":\"bird\",\"marker\":{\"color\":\"#EF553B\"},\"name\":\"bird\",\"offsetgroup\":\"bird\",\"opacity\":0.5,\"showlegend\":false,\"type\":\"histogram\",\"x\":[-26.12381,-9.730089,-7.1112127,-9.535669,-15.126745,-12.528786,-16.704985,-5.7647123,-15.595942,17.428852,6.3418694,-19.81761,-15.290282,-18.059309,-9.753761,-17.022284,-4.3193836,-20.210579,-17.835747,-4.1949444,9.9439335,-23.910158,-18.870275,30.310806,-20.54464,-18.108463,-10.645493,-0.052768864,-5.0421524,-20.966467,16.778173,-17.985376,11.202953,-20.48552,-21.92479,-6.1058207,-12.943271,-17.545498,-17.059698,0.9688245,-17.232824,23.509867,4.6825275,-15.835789,-8.624021,-25.056255,-18.912592,-4.8301578,-22.759932,-16.981962],\"xaxis\":\"x3\",\"yaxis\":\"y3\"},{\"alignmentgroup\":\"True\",\"customdata\":[[\"bird_000000031322\",5],[\"bird_000000147498\",6],[\"bird_000000229997\",7],[\"bird_000000330369\",8],[\"bird_000000490125\",9],[\"bird_000000032811\",55],[\"bird_000000149622\",56],[\"bird_000000236690\",57],[\"bird_000000337987\",58],[\"bird_000000494188\",59],[\"bird_000000049761\",105],[\"bird_000000157847\",106],[\"bird_000000264335\",107],[\"bird_000000402519\",108],[\"bird_000000511076\",109],[\"bird_000000055299\",155],[\"bird_000000159791\",156],[\"bird_000000277051\",157],[\"bird_000000404568\",158],[\"bird_000000523782\",159],[\"bird_000000070774\",205],[\"bird_000000182441\",206],[\"bird_000000284279\",207],[\"bird_000000417876\",208],[\"bird_000000523811\",209],[\"bird_000000100489\",255],[\"bird_000000186422\",256],[\"bird_000000285788\",257],[\"bird_000000418959\",258],[\"bird_000000542776\",259],[\"bird_000000117374\",305],[\"bird_000000186938\",306],[\"bird_000000289393\",307],[\"bird_000000434247\",308],[\"bird_000000544811\",309],[\"bird_000000120420\",355],[\"bird_000000210032\",356],[\"bird_000000300155\",357],[\"bird_000000475223\",358],[\"bird_000000572517\",359],[\"bird_000000122927\",405],[\"bird_000000216739\",406],[\"bird_000000314034\",407],[\"bird_000000482477\",408],[\"bird_000000577182\",409],[\"bird_000000019042\",454],[\"bird_000000126107\",455],[\"bird_000000222235\",456],[\"bird_000000315001\",457],[\"bird_000000489046\",458]],\"hovertemplate\":\"ClasseOriginal=bird<br>y=%{y}<br>ImageName=%{customdata[0]}<br>index=%{customdata[1]}<extra></extra>\",\"legendgroup\":\"bird\",\"marker\":{\"color\":\"#EF553B\",\"symbol\":\"circle\"},\"name\":\"bird\",\"offsetgroup\":\"bird\",\"scalegroup\":\"y\",\"showlegend\":false,\"type\":\"violin\",\"xaxis\":\"x2\",\"y\":[-3.155214,-0.087024376,18.551367,2.0407267,-7.4004226,-1.439436,8.932007,-2.5967941,8.738978,4.5183816,24.55764,-1.2515023,6.000825,10.630167,-10.29666,0.50616366,-21.250362,7.8246174,5.455392,-13.294932,4.860913,-1.1905895,8.11027,6.5729923,5.536376,8.210859,21.528927,14.237214,-4.029195,8.004672,-12.828012,5.79858,-12.586075,-7.026211,1.5674951,-0.5980626,2.9113414,8.625908,3.7591767,-2.4696953,5.6004963,-3.350166,26.683653,6.1737647,-2.426875,-1.2373748,2.1748822,-8.676154,-0.5680222,9.664362],\"yaxis\":\"y2\"},{\"customdata\":[[\"cat_000000063552\",10],[\"cat_000000119828\",11],[\"cat_000000269314\",12],[\"cat_000000357941\",13],[\"cat_000000456292\",14],[\"cat_000000071226\",60],[\"cat_000000131131\",61],[\"cat_000000277584\",62],[\"cat_000000366141\",63],[\"cat_000000458255\",64],[\"cat_000000077396\",110],[\"cat_000000157807\",111],[\"cat_000000279145\",112],[\"cat_000000366199\",113],[\"cat_000000460841\",114],[\"cat_000000078420\",160],[\"cat_000000169076\",161],[\"cat_000000290843\",162],[\"cat_000000401991\",163],[\"cat_000000469067\",164],[\"cat_000000078426\",210],[\"cat_000000181859\",211],[\"cat_000000312340\",212],[\"cat_000000402473\",213],[\"cat_000000475732\",214],[\"cat_000000080949\",260],[\"cat_000000211042\",261],[\"cat_000000316015\",262],[\"cat_000000411665\",263],[\"cat_000000494634\",264],[\"cat_000000098839\",310],[\"cat_000000222235\",311],[\"cat_000000320554\",312],[\"cat_000000416256\",313],[\"cat_000000519764\",314],[\"cat_000000101420\",360],[\"cat_000000223747\",361],[\"cat_000000327769\",362],[\"cat_000000416330\",363],[\"cat_000000533536\",364],[\"cat_000000107087\",410],[\"cat_000000245764\",411],[\"cat_000000329319\",412],[\"cat_000000424545\",413],[\"cat_000000545826\",414],[\"cat_000000047121\",459],[\"cat_000000116825\",460],[\"cat_000000261706\",461],[\"cat_000000343076\",462],[\"cat_000000435299\",463]],\"hovertemplate\":\"ClasseOriginal=cat<br>x=%{x}<br>y=%{y}<br>ImageName=%{customdata[0]}<br>index=%{customdata[1]}<extra></extra>\",\"legendgroup\":\"cat\",\"marker\":{\"color\":\"#00cc96\",\"symbol\":\"circle\"},\"mode\":\"markers\",\"name\":\"cat\",\"orientation\":\"v\",\"showlegend\":true,\"type\":\"scatter\",\"x\":[2.2630913,6.5543556,-18.321432,-10.646328,0.29066452,5.6999626,8.227981,4.062031,-1.9224814,3.2805898,6.492779,1.3432478,-7.915027,-4.177039,-0.9742178,-7.891984,2.1587636,4.021357,-16.120834,-2.0542345,2.425047,0.9870923,-3.9093845,3.0373871,2.8716114,4.401347,-0.7977585,6.526276,0.050401475,6.471278,8.171819,-4.8301735,16.77832,-0.675854,4.967497,2.6245391,-1.2813354,-1.3842071,2.8647485,0.06514576,-3.2252998,-2.2670493,9.788886,3.0453262,-1.2722696,-1.492696,5.4136057,2.4720006,3.470743,11.685587],\"xaxis\":\"x\",\"y\":[-27.352324,-19.571915,11.501132,-2.9353037,-20.531954,-15.1276,-21.440767,-20.664474,-14.133128,-17.78525,-17.839567,-25.55672,-1.6209687,-15.179265,-19.082857,-0.061928235,-13.273172,-22.246964,16.878895,-16.236805,-24.396132,-23.584486,-9.775335,-22.633451,-26.377829,-24.70629,-22.548964,-21.288988,-27.457857,-19.40576,-21.387857,-8.676132,-12.73705,-19.14615,-26.280308,-19.626978,-16.535273,-20.921028,-22.899427,-15.192902,-15.22739,-22.442995,-22.361008,-25.49085,-24.298944,-21.627966,-22.72543,-20.97499,-25.48756,-17.696747],\"yaxis\":\"y\"},{\"alignmentgroup\":\"True\",\"bingroup\":\"x\",\"hovertemplate\":\"ClasseOriginal=cat<br>x=%{x}<br>count=%{y}<extra></extra>\",\"legendgroup\":\"cat\",\"marker\":{\"color\":\"#00cc96\"},\"name\":\"cat\",\"offsetgroup\":\"cat\",\"opacity\":0.5,\"showlegend\":false,\"type\":\"histogram\",\"x\":[2.2630913,6.5543556,-18.321432,-10.646328,0.29066452,5.6999626,8.227981,4.062031,-1.9224814,3.2805898,6.492779,1.3432478,-7.915027,-4.177039,-0.9742178,-7.891984,2.1587636,4.021357,-16.120834,-2.0542345,2.425047,0.9870923,-3.9093845,3.0373871,2.8716114,4.401347,-0.7977585,6.526276,0.050401475,6.471278,8.171819,-4.8301735,16.77832,-0.675854,4.967497,2.6245391,-1.2813354,-1.3842071,2.8647485,0.06514576,-3.2252998,-2.2670493,9.788886,3.0453262,-1.2722696,-1.492696,5.4136057,2.4720006,3.470743,11.685587],\"xaxis\":\"x3\",\"yaxis\":\"y3\"},{\"alignmentgroup\":\"True\",\"customdata\":[[\"cat_000000063552\",10],[\"cat_000000119828\",11],[\"cat_000000269314\",12],[\"cat_000000357941\",13],[\"cat_000000456292\",14],[\"cat_000000071226\",60],[\"cat_000000131131\",61],[\"cat_000000277584\",62],[\"cat_000000366141\",63],[\"cat_000000458255\",64],[\"cat_000000077396\",110],[\"cat_000000157807\",111],[\"cat_000000279145\",112],[\"cat_000000366199\",113],[\"cat_000000460841\",114],[\"cat_000000078420\",160],[\"cat_000000169076\",161],[\"cat_000000290843\",162],[\"cat_000000401991\",163],[\"cat_000000469067\",164],[\"cat_000000078426\",210],[\"cat_000000181859\",211],[\"cat_000000312340\",212],[\"cat_000000402473\",213],[\"cat_000000475732\",214],[\"cat_000000080949\",260],[\"cat_000000211042\",261],[\"cat_000000316015\",262],[\"cat_000000411665\",263],[\"cat_000000494634\",264],[\"cat_000000098839\",310],[\"cat_000000222235\",311],[\"cat_000000320554\",312],[\"cat_000000416256\",313],[\"cat_000000519764\",314],[\"cat_000000101420\",360],[\"cat_000000223747\",361],[\"cat_000000327769\",362],[\"cat_000000416330\",363],[\"cat_000000533536\",364],[\"cat_000000107087\",410],[\"cat_000000245764\",411],[\"cat_000000329319\",412],[\"cat_000000424545\",413],[\"cat_000000545826\",414],[\"cat_000000047121\",459],[\"cat_000000116825\",460],[\"cat_000000261706\",461],[\"cat_000000343076\",462],[\"cat_000000435299\",463]],\"hovertemplate\":\"ClasseOriginal=cat<br>y=%{y}<br>ImageName=%{customdata[0]}<br>index=%{customdata[1]}<extra></extra>\",\"legendgroup\":\"cat\",\"marker\":{\"color\":\"#00cc96\",\"symbol\":\"circle\"},\"name\":\"cat\",\"offsetgroup\":\"cat\",\"scalegroup\":\"y\",\"showlegend\":false,\"type\":\"violin\",\"xaxis\":\"x2\",\"y\":[-27.352324,-19.571915,11.501132,-2.9353037,-20.531954,-15.1276,-21.440767,-20.664474,-14.133128,-17.78525,-17.839567,-25.55672,-1.6209687,-15.179265,-19.082857,-0.061928235,-13.273172,-22.246964,16.878895,-16.236805,-24.396132,-23.584486,-9.775335,-22.633451,-26.377829,-24.70629,-22.548964,-21.288988,-27.457857,-19.40576,-21.387857,-8.676132,-12.73705,-19.14615,-26.280308,-19.626978,-16.535273,-20.921028,-22.899427,-15.192902,-15.22739,-22.442995,-22.361008,-25.49085,-24.298944,-21.627966,-22.72543,-20.97499,-25.48756,-17.696747],\"yaxis\":\"y2\"},{\"customdata\":[[\"cow_000000016010\",15],[\"cow_000000152740\",16],[\"cow_000000267434\",17],[\"cow_000000347664\",18],[\"cow_000000435206\",19],[\"cow_000000041635\",65],[\"cow_000000180383\",66],[\"cow_000000276024\",67],[\"cow_000000356612\",68],[\"cow_000000455219\",69],[\"cow_000000061171\",115],[\"cow_000000193162\",116],[\"cow_000000289393\",117],[\"cow_000000357081\",118],[\"cow_000000459396\",119],[\"cow_000000105264\",165],[\"cow_000000219440\",166],[\"cow_000000298697\",167],[\"cow_000000361268\",168],[\"cow_000000512648\",169],[\"cow_000000114907\",215],[\"cow_000000222863\",216],[\"cow_000000302165\",217],[\"cow_000000377486\",218],[\"cow_000000518213\",219],[\"cow_000000119038\",265],[\"cow_000000231580\",266],[\"cow_000000311392\",267],[\"cow_000000387148\",268],[\"cow_000000535094\",269],[\"cow_000000124636\",315],[\"cow_000000233567\",316],[\"cow_000000314034\",317],[\"cow_000000402992\",318],[\"cow_000000545958\",319],[\"cow_000000125072\",365],[\"cow_000000240754\",366],[\"cow_000000329447\",367],[\"cow_000000412887\",368],[\"cow_000000555050\",369],[\"cow_000000133778\",415],[\"cow_000000244411\",416],[\"cow_000000332318\",417],[\"cow_000000415990\",418],[\"cow_000000573626\",419],[\"cow_000000014888\",464],[\"cow_000000140583\",465],[\"cow_000000247838\",466],[\"cow_000000334555\",467],[\"cow_000000416837\",468]],\"hovertemplate\":\"ClasseOriginal=cow<br>x=%{x}<br>y=%{y}<br>ImageName=%{customdata[0]}<br>index=%{customdata[1]}<extra></extra>\",\"legendgroup\":\"cow\",\"marker\":{\"color\":\"#ab63fa\",\"symbol\":\"circle\"},\"mode\":\"markers\",\"name\":\"cow\",\"orientation\":\"v\",\"showlegend\":true,\"type\":\"scatter\",\"x\":[5.6143,3.7055585,3.6832707,-18.456234,-24.799501,5.5026803,-0.75872064,12.678999,12.654186,1.9430108,7.352035,8.960912,11.195697,0.7202613,3.3021863,15.847575,3.628198,-20.350126,8.773113,9.097633,13.461613,4.1965113,14.459946,18.086855,2.7067788,5.1170864,7.7540684,14.000271,-18.854506,-11.853956,2.419106,6.212185,4.682662,-6.1705894,9.86879,-18.049091,5.1457458,5.070889,-1.9824784,-11.334572,1.5869088,2.2078788,-17.347467,10.874274,-6.417764,11.54499,-15.043282,-17.452728,13.095499,5.267041],\"xaxis\":\"x\",\"y\":[19.61983,26.289955,13.435118,-0.4726158,-2.8891926,12.828639,-13.125402,15.258852,5.7404995,10.827491,8.907165,15.5757065,-12.591038,11.370928,8.36583,6.8848863,3.6055527,-2.356934,11.861107,10.850609,-1.7608944,7.39431,3.196535,9.121968,6.7226963,15.979937,6.2518387,2.5241804,-3.2408473,0.89834994,7.5886154,8.3301,26.683805,7.753215,-11.935225,-0.6585264,7.181992,9.187849,12.330399,-6.0072827,9.588401,9.032502,-1.9563073,18.939886,-6.823702,0.012081374,-3.651418,-5.880509,4.797314,16.634912],\"yaxis\":\"y\"},{\"alignmentgroup\":\"True\",\"bingroup\":\"x\",\"hovertemplate\":\"ClasseOriginal=cow<br>x=%{x}<br>count=%{y}<extra></extra>\",\"legendgroup\":\"cow\",\"marker\":{\"color\":\"#ab63fa\"},\"name\":\"cow\",\"offsetgroup\":\"cow\",\"opacity\":0.5,\"showlegend\":false,\"type\":\"histogram\",\"x\":[5.6143,3.7055585,3.6832707,-18.456234,-24.799501,5.5026803,-0.75872064,12.678999,12.654186,1.9430108,7.352035,8.960912,11.195697,0.7202613,3.3021863,15.847575,3.628198,-20.350126,8.773113,9.097633,13.461613,4.1965113,14.459946,18.086855,2.7067788,5.1170864,7.7540684,14.000271,-18.854506,-11.853956,2.419106,6.212185,4.682662,-6.1705894,9.86879,-18.049091,5.1457458,5.070889,-1.9824784,-11.334572,1.5869088,2.2078788,-17.347467,10.874274,-6.417764,11.54499,-15.043282,-17.452728,13.095499,5.267041],\"xaxis\":\"x3\",\"yaxis\":\"y3\"},{\"alignmentgroup\":\"True\",\"customdata\":[[\"cow_000000016010\",15],[\"cow_000000152740\",16],[\"cow_000000267434\",17],[\"cow_000000347664\",18],[\"cow_000000435206\",19],[\"cow_000000041635\",65],[\"cow_000000180383\",66],[\"cow_000000276024\",67],[\"cow_000000356612\",68],[\"cow_000000455219\",69],[\"cow_000000061171\",115],[\"cow_000000193162\",116],[\"cow_000000289393\",117],[\"cow_000000357081\",118],[\"cow_000000459396\",119],[\"cow_000000105264\",165],[\"cow_000000219440\",166],[\"cow_000000298697\",167],[\"cow_000000361268\",168],[\"cow_000000512648\",169],[\"cow_000000114907\",215],[\"cow_000000222863\",216],[\"cow_000000302165\",217],[\"cow_000000377486\",218],[\"cow_000000518213\",219],[\"cow_000000119038\",265],[\"cow_000000231580\",266],[\"cow_000000311392\",267],[\"cow_000000387148\",268],[\"cow_000000535094\",269],[\"cow_000000124636\",315],[\"cow_000000233567\",316],[\"cow_000000314034\",317],[\"cow_000000402992\",318],[\"cow_000000545958\",319],[\"cow_000000125072\",365],[\"cow_000000240754\",366],[\"cow_000000329447\",367],[\"cow_000000412887\",368],[\"cow_000000555050\",369],[\"cow_000000133778\",415],[\"cow_000000244411\",416],[\"cow_000000332318\",417],[\"cow_000000415990\",418],[\"cow_000000573626\",419],[\"cow_000000014888\",464],[\"cow_000000140583\",465],[\"cow_000000247838\",466],[\"cow_000000334555\",467],[\"cow_000000416837\",468]],\"hovertemplate\":\"ClasseOriginal=cow<br>y=%{y}<br>ImageName=%{customdata[0]}<br>index=%{customdata[1]}<extra></extra>\",\"legendgroup\":\"cow\",\"marker\":{\"color\":\"#ab63fa\",\"symbol\":\"circle\"},\"name\":\"cow\",\"offsetgroup\":\"cow\",\"scalegroup\":\"y\",\"showlegend\":false,\"type\":\"violin\",\"xaxis\":\"x2\",\"y\":[19.61983,26.289955,13.435118,-0.4726158,-2.8891926,12.828639,-13.125402,15.258852,5.7404995,10.827491,8.907165,15.5757065,-12.591038,11.370928,8.36583,6.8848863,3.6055527,-2.356934,11.861107,10.850609,-1.7608944,7.39431,3.196535,9.121968,6.7226963,15.979937,6.2518387,2.5241804,-3.2408473,0.89834994,7.5886154,8.3301,26.683805,7.753215,-11.935225,-0.6585264,7.181992,9.187849,12.330399,-6.0072827,9.588401,9.032502,-1.9563073,18.939886,-6.823702,0.012081374,-3.651418,-5.880509,4.797314,16.634912],\"yaxis\":\"y2\"},{\"customdata\":[[\"dog_000000049269\",20],[\"dog_000000182805\",21],[\"dog_000000355905\",22],[\"dog_000000401991\",23],[\"dog_000000489014\",24],[\"dog_000000061471\",70],[\"dog_000000205834\",71],[\"dog_000000357459\",72],[\"dog_000000404484\",73],[\"dog_000000498286\",74],[\"dog_000000071226\",120],[\"dog_000000222317\",121],[\"dog_000000361571\",122],[\"dog_000000407083\",123],[\"dog_000000520301\",124],[\"dog_000000072813\",170],[\"dog_000000236592\",171],[\"dog_000000364636\",172],[\"dog_000000412240\",173],[\"dog_000000532530\",174],[\"dog_000000076417\",220],[\"dog_000000261161\",221],[\"dog_000000366611\",222],[\"dog_000000421455\",223],[\"dog_000000532575\",224],[\"dog_000000139872\",270],[\"dog_000000267300\",271],[\"dog_000000367195\",272],[\"dog_000000427034\",273],[\"dog_000000546829\",274],[\"dog_000000143961\",320],[\"dog_000000289343\",321],[\"dog_000000371749\",322],[\"dog_000000446522\",323],[\"dog_000000554002\",324],[\"dog_000000149568\",370],[\"dog_000000295478\",371],[\"dog_000000372819\",372],[\"dog_000000474164\",373],[\"dog_000000554579\",374],[\"dog_000000169076\",420],[\"dog_000000324158\",421],[\"dog_000000392818\",422],[\"dog_000000482917\",423],[\"dog_000000564280\",424],[\"dog_000000017029\",469],[\"dog_000000171611\",470],[\"dog_000000329219\",471],[\"dog_000000395801\",472],[\"dog_000000486479\",473]],\"hovertemplate\":\"ClasseOriginal=dog<br>x=%{x}<br>y=%{y}<br>ImageName=%{customdata[0]}<br>index=%{customdata[1]}<extra></extra>\",\"legendgroup\":\"dog\",\"marker\":{\"color\":\"#FFA15A\",\"symbol\":\"circle\"},\"mode\":\"markers\",\"name\":\"dog\",\"orientation\":\"v\",\"showlegend\":true,\"type\":\"scatter\",\"x\":[-3.5477574,12.636167,-8.443545,-16.128265,-9.027213,0.7738162,-7.113135,-7.749627,8.620809,-9.097017,5.6999626,2.4522016,-4.8200407,1.2387166,-9.846956,3.7914195,-1.005194,-9.077612,0.10615726,-11.218255,6.699251,-9.326517,-7.4624305,-5.996433,-10.206393,-9.771185,-9.771417,-10.965218,3.599087,-7.816272,-6.98206,16.528397,-1.7859915,2.817267,-11.931465,-12.145943,8.666416,10.019118,-8.606149,-5.346923,2.1587636,15.987702,-8.510198,4.0934463,-12.176211,-10.741293,-19.107443,7.9013705,15.695682,-6.8781695],\"xaxis\":\"x\",\"y\":[11.976603,-6.1692033,8.484016,16.878977,1.6952977,-18.918459,14.53194,12.258317,-13.81903,6.5793285,-15.1276,-16.88853,11.46544,-14.955877,9.885888,-16.942343,-17.787865,8.669888,-16.78651,-5.9127903,-23.14337,4.1961923,10.389139,-13.8640175,10.106419,15.396283,6.6826587,7.4958806,-15.5975895,-4.1929884,5.3904667,16.743467,-19.234985,-16.681181,13.811987,13.7521,-17.446606,16.533173,-5.413423,14.0232115,-13.273171,16.17001,3.9640172,-19.142653,10.283139,14.829762,-7.1484785,-17.248972,-0.15719132,-17.797222],\"yaxis\":\"y\"},{\"alignmentgroup\":\"True\",\"bingroup\":\"x\",\"hovertemplate\":\"ClasseOriginal=dog<br>x=%{x}<br>count=%{y}<extra></extra>\",\"legendgroup\":\"dog\",\"marker\":{\"color\":\"#FFA15A\"},\"name\":\"dog\",\"offsetgroup\":\"dog\",\"opacity\":0.5,\"showlegend\":false,\"type\":\"histogram\",\"x\":[-3.5477574,12.636167,-8.443545,-16.128265,-9.027213,0.7738162,-7.113135,-7.749627,8.620809,-9.097017,5.6999626,2.4522016,-4.8200407,1.2387166,-9.846956,3.7914195,-1.005194,-9.077612,0.10615726,-11.218255,6.699251,-9.326517,-7.4624305,-5.996433,-10.206393,-9.771185,-9.771417,-10.965218,3.599087,-7.816272,-6.98206,16.528397,-1.7859915,2.817267,-11.931465,-12.145943,8.666416,10.019118,-8.606149,-5.346923,2.1587636,15.987702,-8.510198,4.0934463,-12.176211,-10.741293,-19.107443,7.9013705,15.695682,-6.8781695],\"xaxis\":\"x3\",\"yaxis\":\"y3\"},{\"alignmentgroup\":\"True\",\"customdata\":[[\"dog_000000049269\",20],[\"dog_000000182805\",21],[\"dog_000000355905\",22],[\"dog_000000401991\",23],[\"dog_000000489014\",24],[\"dog_000000061471\",70],[\"dog_000000205834\",71],[\"dog_000000357459\",72],[\"dog_000000404484\",73],[\"dog_000000498286\",74],[\"dog_000000071226\",120],[\"dog_000000222317\",121],[\"dog_000000361571\",122],[\"dog_000000407083\",123],[\"dog_000000520301\",124],[\"dog_000000072813\",170],[\"dog_000000236592\",171],[\"dog_000000364636\",172],[\"dog_000000412240\",173],[\"dog_000000532530\",174],[\"dog_000000076417\",220],[\"dog_000000261161\",221],[\"dog_000000366611\",222],[\"dog_000000421455\",223],[\"dog_000000532575\",224],[\"dog_000000139872\",270],[\"dog_000000267300\",271],[\"dog_000000367195\",272],[\"dog_000000427034\",273],[\"dog_000000546829\",274],[\"dog_000000143961\",320],[\"dog_000000289343\",321],[\"dog_000000371749\",322],[\"dog_000000446522\",323],[\"dog_000000554002\",324],[\"dog_000000149568\",370],[\"dog_000000295478\",371],[\"dog_000000372819\",372],[\"dog_000000474164\",373],[\"dog_000000554579\",374],[\"dog_000000169076\",420],[\"dog_000000324158\",421],[\"dog_000000392818\",422],[\"dog_000000482917\",423],[\"dog_000000564280\",424],[\"dog_000000017029\",469],[\"dog_000000171611\",470],[\"dog_000000329219\",471],[\"dog_000000395801\",472],[\"dog_000000486479\",473]],\"hovertemplate\":\"ClasseOriginal=dog<br>y=%{y}<br>ImageName=%{customdata[0]}<br>index=%{customdata[1]}<extra></extra>\",\"legendgroup\":\"dog\",\"marker\":{\"color\":\"#FFA15A\",\"symbol\":\"circle\"},\"name\":\"dog\",\"offsetgroup\":\"dog\",\"scalegroup\":\"y\",\"showlegend\":false,\"type\":\"violin\",\"xaxis\":\"x2\",\"y\":[11.976603,-6.1692033,8.484016,16.878977,1.6952977,-18.918459,14.53194,12.258317,-13.81903,6.5793285,-15.1276,-16.88853,11.46544,-14.955877,9.885888,-16.942343,-17.787865,8.669888,-16.78651,-5.9127903,-23.14337,4.1961923,10.389139,-13.8640175,10.106419,15.396283,6.6826587,7.4958806,-15.5975895,-4.1929884,5.3904667,16.743467,-19.234985,-16.681181,13.811987,13.7521,-17.446606,16.533173,-5.413423,14.0232115,-13.273171,16.17001,3.9640172,-19.142653,10.283139,14.829762,-7.1484785,-17.248972,-0.15719132,-17.797222],\"yaxis\":\"y2\"},{\"customdata\":[[\"elephant_000000057027\",25],[\"elephant_000000158945\",26],[\"elephant_000000245915\",27],[\"elephant_000000356125\",28],[\"elephant_000000475779\",29],[\"elephant_000000058384\",75],[\"elephant_000000162543\",76],[\"elephant_000000259625\",77],[\"elephant_000000359135\",78],[\"elephant_000000486112\",79],[\"elephant_000000083113\",125],[\"elephant_000000166563\",126],[\"elephant_000000263860\",127],[\"elephant_000000379533\",128],[\"elephant_000000493284\",129],[\"elephant_000000088250\",175],[\"elephant_000000166642\",176],[\"elephant_000000268375\",177],[\"elephant_000000389316\",178],[\"elephant_000000519208\",179],[\"elephant_000000094852\",225],[\"elephant_000000166664\",226],[\"elephant_000000270402\",227],[\"elephant_000000414795\",228],[\"elephant_000000526103\",229],[\"elephant_000000106757\",275],[\"elephant_000000167128\",276],[\"elephant_000000286994\",277],[\"elephant_000000415748\",278],[\"elephant_000000535156\",279],[\"elephant_000000110638\",325],[\"elephant_000000170739\",326],[\"elephant_000000301061\",327],[\"elephant_000000433374\",328],[\"elephant_000000556765\",329],[\"elephant_000000126216\",375],[\"elephant_000000173799\",376],[\"elephant_000000320743\",377],[\"elephant_000000435206\",378],[\"elephant_000000562207\",379],[\"elephant_000000132796\",425],[\"elephant_000000183437\",426],[\"elephant_000000330790\",427],[\"elephant_000000465180\",428],[\"elephant_000000565989\",429],[\"elephant_000000006894\",474],[\"elephant_000000157213\",475],[\"elephant_000000210708\",476],[\"elephant_000000346905\",477],[\"elephant_000000474170\",478]],\"hovertemplate\":\"ClasseOriginal=elephant<br>x=%{x}<br>y=%{y}<br>ImageName=%{customdata[0]}<br>index=%{customdata[1]}<extra></extra>\",\"legendgroup\":\"elephant\",\"marker\":{\"color\":\"#19d3f3\",\"symbol\":\"circle\"},\"mode\":\"markers\",\"name\":\"elephant\",\"orientation\":\"v\",\"showlegend\":true,\"type\":\"scatter\",\"x\":[-4.7951365,-0.42542326,-4.3664904,1.0749105,-6.264285,7.293197,11.168024,0.94431686,-4.97036,-4.3031297,-0.6120936,-24.375935,-5.858804,-18.12376,-6.780711,-6.7003045,-5.5031543,-1.6931545,-2.7809792,-3.9516222,-5.1693516,-2.4119148,-3.5094738,-4.946007,-2.3720858,-1.4792976,-6.0620666,-2.8732896,-0.57976025,-4.5580063,-2.0486565,-2.7058194,-2.9312847,-4.1994424,-4.3367248,-3.792514,3.5762746,-2.1925573,-24.799698,-3.762009,1.2375764,0.3798778,-3.801577,11.169332,-12.621403,-3.9566128,-4.3817077,-5.6294475,-5.364557,-20.52818],\"xaxis\":\"x\",\"y\":[2.1580951,3.7455366,8.680459,1.6774548,2.4298036,11.848223,9.823026,5.975363,0.83575225,-16.68456,5.7222323,5.3905954,3.0279465,-14.225656,3.6165245,2.7992945,1.624483,4.6647215,3.6650577,-0.6682019,3.7696726,5.5796895,3.7174325,9.181167,0.7323517,1.3872085,3.7075021,7.558342,2.8919938,3.0865688,2.9447806,2.456146,-18.231226,7.9616427,4.1985016,6.608535,9.68243,3.6980524,-2.8892608,2.4696312,4.1192904,4.005644,1.6650585,14.87664,-8.397772,-0.42633277,5.4232244,4.321821,2.7634187,-3.374064],\"yaxis\":\"y\"},{\"alignmentgroup\":\"True\",\"bingroup\":\"x\",\"hovertemplate\":\"ClasseOriginal=elephant<br>x=%{x}<br>count=%{y}<extra></extra>\",\"legendgroup\":\"elephant\",\"marker\":{\"color\":\"#19d3f3\"},\"name\":\"elephant\",\"offsetgroup\":\"elephant\",\"opacity\":0.5,\"showlegend\":false,\"type\":\"histogram\",\"x\":[-4.7951365,-0.42542326,-4.3664904,1.0749105,-6.264285,7.293197,11.168024,0.94431686,-4.97036,-4.3031297,-0.6120936,-24.375935,-5.858804,-18.12376,-6.780711,-6.7003045,-5.5031543,-1.6931545,-2.7809792,-3.9516222,-5.1693516,-2.4119148,-3.5094738,-4.946007,-2.3720858,-1.4792976,-6.0620666,-2.8732896,-0.57976025,-4.5580063,-2.0486565,-2.7058194,-2.9312847,-4.1994424,-4.3367248,-3.792514,3.5762746,-2.1925573,-24.799698,-3.762009,1.2375764,0.3798778,-3.801577,11.169332,-12.621403,-3.9566128,-4.3817077,-5.6294475,-5.364557,-20.52818],\"xaxis\":\"x3\",\"yaxis\":\"y3\"},{\"alignmentgroup\":\"True\",\"customdata\":[[\"elephant_000000057027\",25],[\"elephant_000000158945\",26],[\"elephant_000000245915\",27],[\"elephant_000000356125\",28],[\"elephant_000000475779\",29],[\"elephant_000000058384\",75],[\"elephant_000000162543\",76],[\"elephant_000000259625\",77],[\"elephant_000000359135\",78],[\"elephant_000000486112\",79],[\"elephant_000000083113\",125],[\"elephant_000000166563\",126],[\"elephant_000000263860\",127],[\"elephant_000000379533\",128],[\"elephant_000000493284\",129],[\"elephant_000000088250\",175],[\"elephant_000000166642\",176],[\"elephant_000000268375\",177],[\"elephant_000000389316\",178],[\"elephant_000000519208\",179],[\"elephant_000000094852\",225],[\"elephant_000000166664\",226],[\"elephant_000000270402\",227],[\"elephant_000000414795\",228],[\"elephant_000000526103\",229],[\"elephant_000000106757\",275],[\"elephant_000000167128\",276],[\"elephant_000000286994\",277],[\"elephant_000000415748\",278],[\"elephant_000000535156\",279],[\"elephant_000000110638\",325],[\"elephant_000000170739\",326],[\"elephant_000000301061\",327],[\"elephant_000000433374\",328],[\"elephant_000000556765\",329],[\"elephant_000000126216\",375],[\"elephant_000000173799\",376],[\"elephant_000000320743\",377],[\"elephant_000000435206\",378],[\"elephant_000000562207\",379],[\"elephant_000000132796\",425],[\"elephant_000000183437\",426],[\"elephant_000000330790\",427],[\"elephant_000000465180\",428],[\"elephant_000000565989\",429],[\"elephant_000000006894\",474],[\"elephant_000000157213\",475],[\"elephant_000000210708\",476],[\"elephant_000000346905\",477],[\"elephant_000000474170\",478]],\"hovertemplate\":\"ClasseOriginal=elephant<br>y=%{y}<br>ImageName=%{customdata[0]}<br>index=%{customdata[1]}<extra></extra>\",\"legendgroup\":\"elephant\",\"marker\":{\"color\":\"#19d3f3\",\"symbol\":\"circle\"},\"name\":\"elephant\",\"offsetgroup\":\"elephant\",\"scalegroup\":\"y\",\"showlegend\":false,\"type\":\"violin\",\"xaxis\":\"x2\",\"y\":[2.1580951,3.7455366,8.680459,1.6774548,2.4298036,11.848223,9.823026,5.975363,0.83575225,-16.68456,5.7222323,5.3905954,3.0279465,-14.225656,3.6165245,2.7992945,1.624483,4.6647215,3.6650577,-0.6682019,3.7696726,5.5796895,3.7174325,9.181167,0.7323517,1.3872085,3.7075021,7.558342,2.8919938,3.0865688,2.9447806,2.456146,-18.231226,7.9616427,4.1985016,6.608535,9.68243,3.6980524,-2.8892608,2.4696312,4.1192904,4.005644,1.6650585,14.87664,-8.397772,-0.42633277,5.4232244,4.321821,2.7634187,-3.374064],\"yaxis\":\"y2\"},{\"customdata\":[[\"giraffe_000000079565\",30],[\"giraffe_000000217614\",31],[\"giraffe_000000286849\",32],[\"giraffe_000000383676\",33],[\"giraffe_000000471567\",34],[\"giraffe_000000104619\",80],[\"giraffe_000000221281\",81],[\"giraffe_000000288882\",82],[\"giraffe_000000392933\",83],[\"giraffe_000000475150\",84],[\"giraffe_000000134689\",130],[\"giraffe_000000234526\",131],[\"giraffe_000000289393\",132],[\"giraffe_000000393282\",133],[\"giraffe_000000480842\",134],[\"giraffe_000000150726\",180],[\"giraffe_000000235057\",181],[\"giraffe_000000296969\",182],[\"giraffe_000000417876\",183],[\"giraffe_000000485895\",184],[\"giraffe_000000151662\",230],[\"giraffe_000000235252\",231],[\"giraffe_000000299720\",232],[\"giraffe_000000420472\",233],[\"giraffe_000000486046\",234],[\"giraffe_000000153299\",280],[\"giraffe_000000245513\",281],[\"giraffe_000000333069\",282],[\"giraffe_000000433243\",283],[\"giraffe_000000498857\",284],[\"giraffe_000000159977\",330],[\"giraffe_000000261712\",331],[\"giraffe_000000334521\",332],[\"giraffe_000000445675\",333],[\"giraffe_000000504580\",334],[\"giraffe_000000186637\",380],[\"giraffe_000000284296\",381],[\"giraffe_000000338532\",382],[\"giraffe_000000450758\",383],[\"giraffe_000000507042\",384],[\"giraffe_000000211069\",430],[\"giraffe_000000285788\",431],[\"giraffe_000000345261\",432],[\"giraffe_000000460379\",433],[\"giraffe_000000575187\",434],[\"giraffe_000000017031\",479],[\"giraffe_000000216739\",480],[\"giraffe_000000285894\",481],[\"giraffe_000000349302\",482],[\"giraffe_000000469652\",483]],\"hovertemplate\":\"ClasseOriginal=giraffe<br>x=%{x}<br>y=%{y}<br>ImageName=%{customdata[0]}<br>index=%{customdata[1]}<extra></extra>\",\"legendgroup\":\"giraffe\",\"marker\":{\"color\":\"#FF6692\",\"symbol\":\"circle\"},\"mode\":\"markers\",\"name\":\"giraffe\",\"orientation\":\"v\",\"showlegend\":true,\"type\":\"scatter\",\"x\":[22.745457,25.602573,-8.607764,28.627615,19.372429,25.955845,27.787224,31.435135,25.617287,24.626064,24.65384,16.137783,11.202977,21.522827,23.948605,28.646315,22.276655,26.654654,30.310778,27.182207,25.614815,-20.576752,12.976468,21.270819,20.049658,28.21275,26.244085,23.066498,-22.177979,27.669678,24.019564,26.907354,28.513157,25.73826,23.44232,27.914417,29.596672,25.781393,21.735405,20.411015,26.51252,-0.052690428,22.381779,6.852337,-3.1978617,22.63389,23.509747,17.57666,23.23969,21.050444],\"xaxis\":\"x\",\"y\":[5.5972304,6.101753,-9.209393,5.0681,-5.674726,2.1777747,10.098014,5.6898875,6.900453,-2.865108,3.207924,2.4671466,-12.58641,8.536895,1.5311034,5.950856,-5.515296,4.6543455,6.5730267,6.985583,11.253547,-3.574605,-9.872343,-5.539073,-2.6295624,3.1664853,8.411725,0.38907337,-16.082901,3.0275223,4.646634,9.284931,0.8048427,4.3630652,2.2955904,1.9503198,9.067289,4.499689,5.9858656,-5.570428,5.282066,14.238707,5.8925242,20.454329,-19.047842,-1.9844682,-3.3502555,-5.2371836,6.954097,-4.3092465],\"yaxis\":\"y\"},{\"alignmentgroup\":\"True\",\"bingroup\":\"x\",\"hovertemplate\":\"ClasseOriginal=giraffe<br>x=%{x}<br>count=%{y}<extra></extra>\",\"legendgroup\":\"giraffe\",\"marker\":{\"color\":\"#FF6692\"},\"name\":\"giraffe\",\"offsetgroup\":\"giraffe\",\"opacity\":0.5,\"showlegend\":false,\"type\":\"histogram\",\"x\":[22.745457,25.602573,-8.607764,28.627615,19.372429,25.955845,27.787224,31.435135,25.617287,24.626064,24.65384,16.137783,11.202977,21.522827,23.948605,28.646315,22.276655,26.654654,30.310778,27.182207,25.614815,-20.576752,12.976468,21.270819,20.049658,28.21275,26.244085,23.066498,-22.177979,27.669678,24.019564,26.907354,28.513157,25.73826,23.44232,27.914417,29.596672,25.781393,21.735405,20.411015,26.51252,-0.052690428,22.381779,6.852337,-3.1978617,22.63389,23.509747,17.57666,23.23969,21.050444],\"xaxis\":\"x3\",\"yaxis\":\"y3\"},{\"alignmentgroup\":\"True\",\"customdata\":[[\"giraffe_000000079565\",30],[\"giraffe_000000217614\",31],[\"giraffe_000000286849\",32],[\"giraffe_000000383676\",33],[\"giraffe_000000471567\",34],[\"giraffe_000000104619\",80],[\"giraffe_000000221281\",81],[\"giraffe_000000288882\",82],[\"giraffe_000000392933\",83],[\"giraffe_000000475150\",84],[\"giraffe_000000134689\",130],[\"giraffe_000000234526\",131],[\"giraffe_000000289393\",132],[\"giraffe_000000393282\",133],[\"giraffe_000000480842\",134],[\"giraffe_000000150726\",180],[\"giraffe_000000235057\",181],[\"giraffe_000000296969\",182],[\"giraffe_000000417876\",183],[\"giraffe_000000485895\",184],[\"giraffe_000000151662\",230],[\"giraffe_000000235252\",231],[\"giraffe_000000299720\",232],[\"giraffe_000000420472\",233],[\"giraffe_000000486046\",234],[\"giraffe_000000153299\",280],[\"giraffe_000000245513\",281],[\"giraffe_000000333069\",282],[\"giraffe_000000433243\",283],[\"giraffe_000000498857\",284],[\"giraffe_000000159977\",330],[\"giraffe_000000261712\",331],[\"giraffe_000000334521\",332],[\"giraffe_000000445675\",333],[\"giraffe_000000504580\",334],[\"giraffe_000000186637\",380],[\"giraffe_000000284296\",381],[\"giraffe_000000338532\",382],[\"giraffe_000000450758\",383],[\"giraffe_000000507042\",384],[\"giraffe_000000211069\",430],[\"giraffe_000000285788\",431],[\"giraffe_000000345261\",432],[\"giraffe_000000460379\",433],[\"giraffe_000000575187\",434],[\"giraffe_000000017031\",479],[\"giraffe_000000216739\",480],[\"giraffe_000000285894\",481],[\"giraffe_000000349302\",482],[\"giraffe_000000469652\",483]],\"hovertemplate\":\"ClasseOriginal=giraffe<br>y=%{y}<br>ImageName=%{customdata[0]}<br>index=%{customdata[1]}<extra></extra>\",\"legendgroup\":\"giraffe\",\"marker\":{\"color\":\"#FF6692\",\"symbol\":\"circle\"},\"name\":\"giraffe\",\"offsetgroup\":\"giraffe\",\"scalegroup\":\"y\",\"showlegend\":false,\"type\":\"violin\",\"xaxis\":\"x2\",\"y\":[5.5972304,6.101753,-9.209393,5.0681,-5.674726,2.1777747,10.098014,5.6898875,6.900453,-2.865108,3.207924,2.4671466,-12.58641,8.536895,1.5311034,5.950856,-5.515296,4.6543455,6.5730267,6.985583,11.253547,-3.574605,-9.872343,-5.539073,-2.6295624,3.1664853,8.411725,0.38907337,-16.082901,3.0275223,4.646634,9.284931,0.8048427,4.3630652,2.2955904,1.9503198,9.067289,4.499689,5.9858656,-5.570428,5.282066,14.238707,5.8925242,20.454329,-19.047842,-1.9844682,-3.3502555,-5.2371836,6.954097,-4.3092465],\"yaxis\":\"y2\"},{\"customdata\":[[\"horse_000000015956\",35],[\"horse_000000172547\",36],[\"horse_000000242724\",37],[\"horse_000000356968\",38],[\"horse_000000441442\",39],[\"horse_000000023126\",85],[\"horse_000000181753\",86],[\"horse_000000260106\",87],[\"horse_000000367680\",88],[\"horse_000000454798\",89],[\"horse_000000029187\",135],[\"horse_000000185473\",136],[\"horse_000000265816\",137],[\"horse_000000372307\",138],[\"horse_000000462904\",139],[\"horse_000000040036\",185],[\"horse_000000191614\",186],[\"horse_000000269932\",187],[\"horse_000000377486\",188],[\"horse_000000476215\",189],[\"horse_000000045070\",235],[\"horse_000000199236\",236],[\"horse_000000276024\",237],[\"horse_000000381971\",238],[\"horse_000000507975\",239],[\"horse_000000049269\",285],[\"horse_000000213547\",286],[\"horse_000000299609\",287],[\"horse_000000382088\",288],[\"horse_000000546823\",289],[\"horse_000000051309\",335],[\"horse_000000226883\",336],[\"horse_000000303653\",337],[\"horse_000000384513\",338],[\"horse_000000547886\",339],[\"horse_000000097924\",385],[\"horse_000000227898\",386],[\"horse_000000331280\",387],[\"horse_000000396863\",388],[\"horse_000000553990\",389],[\"horse_000000113235\",435],[\"horse_000000229948\",436],[\"horse_000000335450\",437],[\"horse_000000427655\",438],[\"horse_000000576052\",439],[\"horse_000000007281\",484],[\"horse_000000148999\",485],[\"horse_000000241677\",486],[\"horse_000000348243\",487],[\"horse_000000434247\",488]],\"hovertemplate\":\"ClasseOriginal=horse<br>x=%{x}<br>y=%{y}<br>ImageName=%{customdata[0]}<br>index=%{customdata[1]}<extra></extra>\",\"legendgroup\":\"horse\",\"marker\":{\"color\":\"#B6E880\",\"symbol\":\"circle\"},\"mode\":\"markers\",\"name\":\"horse\",\"orientation\":\"v\",\"showlegend\":true,\"type\":\"scatter\",\"x\":[11.525162,-16.775991,10.043685,1.0336698,13.239824,18.296219,-2.137824,14.5745125,-12.904645,15.727684,14.636586,-21.620821,10.422188,10.654849,10.016111,15.845752,11.824025,0.8020769,18.087767,14.427853,-9.671649,14.5300255,12.67899,11.201441,13.021986,-3.547709,-5.32699,6.802286,7.733889,16.253601,3.009006,9.589952,13.076636,11.564754,19.390396,15.977419,10.950752,12.73884,14.594088,14.919818,0.0014645171,11.853519,1.0114933,12.481254,17.82902,19.22143,-11.873936,11.373445,-5.3022366,-20.48552],\"xaxis\":\"x\",\"y\":[2.3952246,-1.8674091,-2.0307803,9.759474,8.946579,15.165686,-14.698014,11.882463,-7.238507,8.45852,8.746176,-4.1510267,5.5268683,19.281528,7.9740777,11.774264,9.943865,0.91957456,9.116938,6.2933908,-14.136146,10.145335,15.258712,6.363661,7.9223647,11.976545,-19.252975,17.736769,-3.7078638,0.19561906,9.114614,12.575321,9.960814,8.485383,13.134791,10.166289,6.2305636,3.2703927,14.913611,11.082081,8.150515,6.565708,8.168247,7.3179836,14.554772,13.220722,4.8801556,11.265401,5.9350376,-7.026211],\"yaxis\":\"y\"},{\"alignmentgroup\":\"True\",\"bingroup\":\"x\",\"hovertemplate\":\"ClasseOriginal=horse<br>x=%{x}<br>count=%{y}<extra></extra>\",\"legendgroup\":\"horse\",\"marker\":{\"color\":\"#B6E880\"},\"name\":\"horse\",\"offsetgroup\":\"horse\",\"opacity\":0.5,\"showlegend\":false,\"type\":\"histogram\",\"x\":[11.525162,-16.775991,10.043685,1.0336698,13.239824,18.296219,-2.137824,14.5745125,-12.904645,15.727684,14.636586,-21.620821,10.422188,10.654849,10.016111,15.845752,11.824025,0.8020769,18.087767,14.427853,-9.671649,14.5300255,12.67899,11.201441,13.021986,-3.547709,-5.32699,6.802286,7.733889,16.253601,3.009006,9.589952,13.076636,11.564754,19.390396,15.977419,10.950752,12.73884,14.594088,14.919818,0.0014645171,11.853519,1.0114933,12.481254,17.82902,19.22143,-11.873936,11.373445,-5.3022366,-20.48552],\"xaxis\":\"x3\",\"yaxis\":\"y3\"},{\"alignmentgroup\":\"True\",\"customdata\":[[\"horse_000000015956\",35],[\"horse_000000172547\",36],[\"horse_000000242724\",37],[\"horse_000000356968\",38],[\"horse_000000441442\",39],[\"horse_000000023126\",85],[\"horse_000000181753\",86],[\"horse_000000260106\",87],[\"horse_000000367680\",88],[\"horse_000000454798\",89],[\"horse_000000029187\",135],[\"horse_000000185473\",136],[\"horse_000000265816\",137],[\"horse_000000372307\",138],[\"horse_000000462904\",139],[\"horse_000000040036\",185],[\"horse_000000191614\",186],[\"horse_000000269932\",187],[\"horse_000000377486\",188],[\"horse_000000476215\",189],[\"horse_000000045070\",235],[\"horse_000000199236\",236],[\"horse_000000276024\",237],[\"horse_000000381971\",238],[\"horse_000000507975\",239],[\"horse_000000049269\",285],[\"horse_000000213547\",286],[\"horse_000000299609\",287],[\"horse_000000382088\",288],[\"horse_000000546823\",289],[\"horse_000000051309\",335],[\"horse_000000226883\",336],[\"horse_000000303653\",337],[\"horse_000000384513\",338],[\"horse_000000547886\",339],[\"horse_000000097924\",385],[\"horse_000000227898\",386],[\"horse_000000331280\",387],[\"horse_000000396863\",388],[\"horse_000000553990\",389],[\"horse_000000113235\",435],[\"horse_000000229948\",436],[\"horse_000000335450\",437],[\"horse_000000427655\",438],[\"horse_000000576052\",439],[\"horse_000000007281\",484],[\"horse_000000148999\",485],[\"horse_000000241677\",486],[\"horse_000000348243\",487],[\"horse_000000434247\",488]],\"hovertemplate\":\"ClasseOriginal=horse<br>y=%{y}<br>ImageName=%{customdata[0]}<br>index=%{customdata[1]}<extra></extra>\",\"legendgroup\":\"horse\",\"marker\":{\"color\":\"#B6E880\",\"symbol\":\"circle\"},\"name\":\"horse\",\"offsetgroup\":\"horse\",\"scalegroup\":\"y\",\"showlegend\":false,\"type\":\"violin\",\"xaxis\":\"x2\",\"y\":[2.3952246,-1.8674091,-2.0307803,9.759474,8.946579,15.165686,-14.698014,11.882463,-7.238507,8.45852,8.746176,-4.1510267,5.5268683,19.281528,7.9740777,11.774264,9.943865,0.91957456,9.116938,6.2933908,-14.136146,10.145335,15.258712,6.363661,7.9223647,11.976545,-19.252975,17.736769,-3.7078638,0.19561906,9.114614,12.575321,9.960814,8.485383,13.134791,10.166289,6.2305636,3.2703927,14.913611,11.082081,8.150515,6.565708,8.168247,7.3179836,14.554772,13.220722,4.8801556,11.265401,5.9350376,-7.026211],\"yaxis\":\"y2\"},{\"customdata\":[[\"sheep_000000022589\",40],[\"sheep_000000181666\",41],[\"sheep_000000278353\",42],[\"sheep_000000389566\",43],[\"sheep_000000474881\",44],[\"sheep_000000023937\",90],[\"sheep_000000193162\",91],[\"sheep_000000288685\",92],[\"sheep_000000395388\",93],[\"sheep_000000484893\",94],[\"sheep_000000044699\",140],[\"sheep_000000198960\",141],[\"sheep_000000290592\",142],[\"sheep_000000397639\",143],[\"sheep_000000528524\",144],[\"sheep_000000046804\",190],[\"sheep_000000209613\",191],[\"sheep_000000295231\",192],[\"sheep_000000406997\",193],[\"sheep_000000535578\",194],[\"sheep_000000066561\",240],[\"sheep_000000212559\",241],[\"sheep_000000338304\",242],[\"sheep_000000410428\",243],[\"sheep_000000546556\",244],[\"sheep_000000094871\",290],[\"sheep_000000225184\",291],[\"sheep_000000340272\",292],[\"sheep_000000428562\",293],[\"sheep_000000547383\",294],[\"sheep_000000140583\",340],[\"sheep_000000230166\",341],[\"sheep_000000360325\",342],[\"sheep_000000435206\",343],[\"sheep_000000548267\",344],[\"sheep_000000154947\",390],[\"sheep_000000238039\",391],[\"sheep_000000364322\",392],[\"sheep_000000458755\",393],[\"sheep_000000552612\",394],[\"sheep_000000156071\",440],[\"sheep_000000263966\",441],[\"sheep_000000369442\",442],[\"sheep_000000459437\",443],[\"sheep_000000559956\",444],[\"sheep_000000012062\",489],[\"sheep_000000158548\",490],[\"sheep_000000269196\",491],[\"sheep_000000375763\",492],[\"sheep_000000467776\",493]],\"hovertemplate\":\"ClasseOriginal=sheep<br>x=%{x}<br>y=%{y}<br>ImageName=%{customdata[0]}<br>index=%{customdata[1]}<extra></extra>\",\"legendgroup\":\"sheep\",\"marker\":{\"color\":\"#FF97FF\",\"symbol\":\"circle\"},\"mode\":\"markers\",\"name\":\"sheep\",\"orientation\":\"v\",\"showlegend\":true,\"type\":\"scatter\",\"x\":[4.180847,-24.19376,5.151661,-16.702427,-1.8777146,0.9346545,8.9609165,8.131491,13.871971,11.1861105,4.876169,3.0862422,4.408877,5.945013,-2.0906017,4.350144,1.5362989,4.977659,8.010154,1.5770638,5.2372193,5.9645405,-9.016744,5.259265,1.7751908,7.4570417,3.0016012,0.68435603,6.2121696,4.5886564,-15.043282,1.6997108,6.924573,-24.799698,-17.560678,0.2876456,-6.8869786,5.5727577,11.287959,4.5088134,13.161567,-6.9468417,12.729515,2.229254,7.5838213,4.4470367,12.031885,6.3106837,3.757006,5.6528745],\"xaxis\":\"x\",\"y\":[0.38124174,-4.831274,1.7182212,-4.928195,9.352329,20.339062,15.575629,14.367007,1.5900544,-5.510468,15.491645,11.016268,12.6776,4.347583,10.37633,1.9523234,17.472359,11.346245,2.4068198,20.13175,2.8078954,9.930465,-9.805997,4.647658,22.335833,1.6187075,21.263426,18.67383,2.4582088,2.3497226,-3.651418,16.841154,-0.66861314,-2.8892608,-2.041959,17.942759,11.930657,0.954076,-5.5685816,19.740116,10.974656,-12.887829,13.909501,1.7995416,-1.0027093,-1.5883864,18.870289,-6.181497,13.832449,5.7716546],\"yaxis\":\"y\"},{\"alignmentgroup\":\"True\",\"bingroup\":\"x\",\"hovertemplate\":\"ClasseOriginal=sheep<br>x=%{x}<br>count=%{y}<extra></extra>\",\"legendgroup\":\"sheep\",\"marker\":{\"color\":\"#FF97FF\"},\"name\":\"sheep\",\"offsetgroup\":\"sheep\",\"opacity\":0.5,\"showlegend\":false,\"type\":\"histogram\",\"x\":[4.180847,-24.19376,5.151661,-16.702427,-1.8777146,0.9346545,8.9609165,8.131491,13.871971,11.1861105,4.876169,3.0862422,4.408877,5.945013,-2.0906017,4.350144,1.5362989,4.977659,8.010154,1.5770638,5.2372193,5.9645405,-9.016744,5.259265,1.7751908,7.4570417,3.0016012,0.68435603,6.2121696,4.5886564,-15.043282,1.6997108,6.924573,-24.799698,-17.560678,0.2876456,-6.8869786,5.5727577,11.287959,4.5088134,13.161567,-6.9468417,12.729515,2.229254,7.5838213,4.4470367,12.031885,6.3106837,3.757006,5.6528745],\"xaxis\":\"x3\",\"yaxis\":\"y3\"},{\"alignmentgroup\":\"True\",\"customdata\":[[\"sheep_000000022589\",40],[\"sheep_000000181666\",41],[\"sheep_000000278353\",42],[\"sheep_000000389566\",43],[\"sheep_000000474881\",44],[\"sheep_000000023937\",90],[\"sheep_000000193162\",91],[\"sheep_000000288685\",92],[\"sheep_000000395388\",93],[\"sheep_000000484893\",94],[\"sheep_000000044699\",140],[\"sheep_000000198960\",141],[\"sheep_000000290592\",142],[\"sheep_000000397639\",143],[\"sheep_000000528524\",144],[\"sheep_000000046804\",190],[\"sheep_000000209613\",191],[\"sheep_000000295231\",192],[\"sheep_000000406997\",193],[\"sheep_000000535578\",194],[\"sheep_000000066561\",240],[\"sheep_000000212559\",241],[\"sheep_000000338304\",242],[\"sheep_000000410428\",243],[\"sheep_000000546556\",244],[\"sheep_000000094871\",290],[\"sheep_000000225184\",291],[\"sheep_000000340272\",292],[\"sheep_000000428562\",293],[\"sheep_000000547383\",294],[\"sheep_000000140583\",340],[\"sheep_000000230166\",341],[\"sheep_000000360325\",342],[\"sheep_000000435206\",343],[\"sheep_000000548267\",344],[\"sheep_000000154947\",390],[\"sheep_000000238039\",391],[\"sheep_000000364322\",392],[\"sheep_000000458755\",393],[\"sheep_000000552612\",394],[\"sheep_000000156071\",440],[\"sheep_000000263966\",441],[\"sheep_000000369442\",442],[\"sheep_000000459437\",443],[\"sheep_000000559956\",444],[\"sheep_000000012062\",489],[\"sheep_000000158548\",490],[\"sheep_000000269196\",491],[\"sheep_000000375763\",492],[\"sheep_000000467776\",493]],\"hovertemplate\":\"ClasseOriginal=sheep<br>y=%{y}<br>ImageName=%{customdata[0]}<br>index=%{customdata[1]}<extra></extra>\",\"legendgroup\":\"sheep\",\"marker\":{\"color\":\"#FF97FF\",\"symbol\":\"circle\"},\"name\":\"sheep\",\"offsetgroup\":\"sheep\",\"scalegroup\":\"y\",\"showlegend\":false,\"type\":\"violin\",\"xaxis\":\"x2\",\"y\":[0.38124174,-4.831274,1.7182212,-4.928195,9.352329,20.339062,15.575629,14.367007,1.5900544,-5.510468,15.491645,11.016268,12.6776,4.347583,10.37633,1.9523234,17.472359,11.346245,2.4068198,20.13175,2.8078954,9.930465,-9.805997,4.647658,22.335833,1.6187075,21.263426,18.67383,2.4582088,2.3497226,-3.651418,16.841154,-0.66861314,-2.8892608,-2.041959,17.942759,11.930657,0.954076,-5.5685816,19.740116,10.974656,-12.887829,13.909501,1.7995416,-1.0027093,-1.5883864,18.870289,-6.181497,13.832449,5.7716546],\"yaxis\":\"y2\"},{\"customdata\":[[\"zebra_000000016010\",45],[\"zebra_000000091921\",46],[\"zebra_000000159977\",47],[\"zebra_000000320632\",48],[\"zebra_000000491613\",49],[\"zebra_000000017115\",95],[\"zebra_000000093965\",96],[\"zebra_000000185409\",97],[\"zebra_000000325306\",98],[\"zebra_000000504439\",99],[\"zebra_000000020059\",145],[\"zebra_000000104455\",146],[\"zebra_000000215245\",147],[\"zebra_000000350488\",148],[\"zebra_000000508586\",149],[\"zebra_000000025096\",195],[\"zebra_000000110211\",196],[\"zebra_000000236730\",197],[\"zebra_000000364166\",198],[\"zebra_000000509656\",199],[\"zebra_000000025139\",245],[\"zebra_000000113354\",246],[\"zebra_000000290833\",247],[\"zebra_000000377497\",248],[\"zebra_000000509735\",249],[\"zebra_000000031269\",295],[\"zebra_000000122969\",296],[\"zebra_000000291861\",297],[\"zebra_000000378453\",298],[\"zebra_000000516316\",299],[\"zebra_000000049761\",345],[\"zebra_000000124975\",346],[\"zebra_000000298251\",347],[\"zebra_000000379533\",348],[\"zebra_000000546011\",349],[\"zebra_000000052462\",395],[\"zebra_000000125211\",396],[\"zebra_000000305695\",397],[\"zebra_000000433243\",398],[\"zebra_000000562443\",399],[\"zebra_000000059386\",445],[\"zebra_000000129054\",446],[\"zebra_000000311295\",447],[\"zebra_000000454750\",448],[\"zebra_000000577149\",449],[\"zebra_000000001818\",494],[\"zebra_000000070158\",495],[\"zebra_000000159311\",496],[\"zebra_000000317024\",497],[\"zebra_000000486046\",498]],\"hovertemplate\":\"ClasseOriginal=zebra<br>x=%{x}<br>y=%{y}<br>ImageName=%{customdata[0]}<br>index=%{customdata[1]}<extra></extra>\",\"legendgroup\":\"zebra\",\"marker\":{\"color\":\"#FECB52\",\"symbol\":\"circle\"},\"mode\":\"markers\",\"name\":\"zebra\",\"orientation\":\"v\",\"showlegend\":true,\"type\":\"scatter\",\"x\":[5.6144814,-17.485098,24.01959,-23.384539,-22.485321,-18.757479,-21.35313,-19.263908,-19.320148,-23.88067,-17.810867,-20.271341,-19.193953,-22.500418,-19.669243,1.1738634,-19.628569,-24.280846,-21.564713,-21.399565,-24.407125,-23.968533,-19.421082,-25.688423,-17.548996,-20.613747,-22.745949,-22.646837,-16.319393,-18.967806,6.3417497,-20.16252,-21.441923,-18.123755,-19.351217,-20.519806,-21.79138,-13.37338,-22.178047,-19.721123,27.380829,7.7356076,7.397937,-24.129538,-20.129448,-21.49611,-20.754087,-20.7979,-17.767418,20.049574],\"xaxis\":\"x\",\"y\":[19.61966,-18.015652,4.6466327,-20.459595,-17.581072,-19.474554,-17.528791,-16.137432,-20.995842,-22.985859,-17.814781,-20.783964,-15.4181595,-18.387774,-14.173524,-17.437609,-16.917162,-20.845146,-19.823462,-18.201073,-19.475649,-15.962063,-19.765635,-21.276487,-15.547961,-17.433773,-19.736471,-21.8398,-17.279377,-13.4264145,24.55773,-18.695755,-1.9789551,-14.225648,-18.36629,-16.092237,-19.323526,-7.1949,-16.082949,-22.353382,6.065617,24.555098,21.934177,-21.708715,-17.92352,-20.640182,-19.460228,-18.468517,-20.203308,-2.6296926],\"yaxis\":\"y\"},{\"alignmentgroup\":\"True\",\"bingroup\":\"x\",\"hovertemplate\":\"ClasseOriginal=zebra<br>x=%{x}<br>count=%{y}<extra></extra>\",\"legendgroup\":\"zebra\",\"marker\":{\"color\":\"#FECB52\"},\"name\":\"zebra\",\"offsetgroup\":\"zebra\",\"opacity\":0.5,\"showlegend\":false,\"type\":\"histogram\",\"x\":[5.6144814,-17.485098,24.01959,-23.384539,-22.485321,-18.757479,-21.35313,-19.263908,-19.320148,-23.88067,-17.810867,-20.271341,-19.193953,-22.500418,-19.669243,1.1738634,-19.628569,-24.280846,-21.564713,-21.399565,-24.407125,-23.968533,-19.421082,-25.688423,-17.548996,-20.613747,-22.745949,-22.646837,-16.319393,-18.967806,6.3417497,-20.16252,-21.441923,-18.123755,-19.351217,-20.519806,-21.79138,-13.37338,-22.178047,-19.721123,27.380829,7.7356076,7.397937,-24.129538,-20.129448,-21.49611,-20.754087,-20.7979,-17.767418,20.049574],\"xaxis\":\"x3\",\"yaxis\":\"y3\"},{\"alignmentgroup\":\"True\",\"customdata\":[[\"zebra_000000016010\",45],[\"zebra_000000091921\",46],[\"zebra_000000159977\",47],[\"zebra_000000320632\",48],[\"zebra_000000491613\",49],[\"zebra_000000017115\",95],[\"zebra_000000093965\",96],[\"zebra_000000185409\",97],[\"zebra_000000325306\",98],[\"zebra_000000504439\",99],[\"zebra_000000020059\",145],[\"zebra_000000104455\",146],[\"zebra_000000215245\",147],[\"zebra_000000350488\",148],[\"zebra_000000508586\",149],[\"zebra_000000025096\",195],[\"zebra_000000110211\",196],[\"zebra_000000236730\",197],[\"zebra_000000364166\",198],[\"zebra_000000509656\",199],[\"zebra_000000025139\",245],[\"zebra_000000113354\",246],[\"zebra_000000290833\",247],[\"zebra_000000377497\",248],[\"zebra_000000509735\",249],[\"zebra_000000031269\",295],[\"zebra_000000122969\",296],[\"zebra_000000291861\",297],[\"zebra_000000378453\",298],[\"zebra_000000516316\",299],[\"zebra_000000049761\",345],[\"zebra_000000124975\",346],[\"zebra_000000298251\",347],[\"zebra_000000379533\",348],[\"zebra_000000546011\",349],[\"zebra_000000052462\",395],[\"zebra_000000125211\",396],[\"zebra_000000305695\",397],[\"zebra_000000433243\",398],[\"zebra_000000562443\",399],[\"zebra_000000059386\",445],[\"zebra_000000129054\",446],[\"zebra_000000311295\",447],[\"zebra_000000454750\",448],[\"zebra_000000577149\",449],[\"zebra_000000001818\",494],[\"zebra_000000070158\",495],[\"zebra_000000159311\",496],[\"zebra_000000317024\",497],[\"zebra_000000486046\",498]],\"hovertemplate\":\"ClasseOriginal=zebra<br>y=%{y}<br>ImageName=%{customdata[0]}<br>index=%{customdata[1]}<extra></extra>\",\"legendgroup\":\"zebra\",\"marker\":{\"color\":\"#FECB52\",\"symbol\":\"circle\"},\"name\":\"zebra\",\"offsetgroup\":\"zebra\",\"scalegroup\":\"y\",\"showlegend\":false,\"type\":\"violin\",\"xaxis\":\"x2\",\"y\":[19.61966,-18.015652,4.6466327,-20.459595,-17.581072,-19.474554,-17.528791,-16.137432,-20.995842,-22.985859,-17.814781,-20.783964,-15.4181595,-18.387774,-14.173524,-17.437609,-16.917162,-20.845146,-19.823462,-18.201073,-19.475649,-15.962063,-19.765635,-21.276487,-15.547961,-17.433773,-19.736471,-21.8398,-17.279377,-13.4264145,24.55773,-18.695755,-1.9789551,-14.225648,-18.36629,-16.092237,-19.323526,-7.1949,-16.082949,-22.353382,6.065617,24.555098,21.934177,-21.708715,-17.92352,-20.640182,-19.460228,-18.468517,-20.203308,-2.6296926],\"yaxis\":\"y2\"}],                        {\"barmode\":\"overlay\",\"height\":500,\"legend\":{\"title\":{\"text\":\"ClasseOriginal\"},\"tracegroupgap\":0},\"template\":{\"data\":{\"bar\":[{\"error_x\":{\"color\":\"#2a3f5f\"},\"error_y\":{\"color\":\"#2a3f5f\"},\"marker\":{\"line\":{\"color\":\"#E5ECF6\",\"width\":0.5},\"pattern\":{\"fillmode\":\"overlay\",\"size\":10,\"solidity\":0.2}},\"type\":\"bar\"}],\"barpolar\":[{\"marker\":{\"line\":{\"color\":\"#E5ECF6\",\"width\":0.5},\"pattern\":{\"fillmode\":\"overlay\",\"size\":10,\"solidity\":0.2}},\"type\":\"barpolar\"}],\"carpet\":[{\"aaxis\":{\"endlinecolor\":\"#2a3f5f\",\"gridcolor\":\"white\",\"linecolor\":\"white\",\"minorgridcolor\":\"white\",\"startlinecolor\":\"#2a3f5f\"},\"baxis\":{\"endlinecolor\":\"#2a3f5f\",\"gridcolor\":\"white\",\"linecolor\":\"white\",\"minorgridcolor\":\"white\",\"startlinecolor\":\"#2a3f5f\"},\"type\":\"carpet\"}],\"choropleth\":[{\"colorbar\":{\"outlinewidth\":0,\"ticks\":\"\"},\"type\":\"choropleth\"}],\"contour\":[{\"colorbar\":{\"outlinewidth\":0,\"ticks\":\"\"},\"colorscale\":[[0.0,\"#0d0887\"],[0.1111111111111111,\"#46039f\"],[0.2222222222222222,\"#7201a8\"],[0.3333333333333333,\"#9c179e\"],[0.4444444444444444,\"#bd3786\"],[0.5555555555555556,\"#d8576b\"],[0.6666666666666666,\"#ed7953\"],[0.7777777777777778,\"#fb9f3a\"],[0.8888888888888888,\"#fdca26\"],[1.0,\"#f0f921\"]],\"type\":\"contour\"}],\"contourcarpet\":[{\"colorbar\":{\"outlinewidth\":0,\"ticks\":\"\"},\"type\":\"contourcarpet\"}],\"heatmap\":[{\"colorbar\":{\"outlinewidth\":0,\"ticks\":\"\"},\"colorscale\":[[0.0,\"#0d0887\"],[0.1111111111111111,\"#46039f\"],[0.2222222222222222,\"#7201a8\"],[0.3333333333333333,\"#9c179e\"],[0.4444444444444444,\"#bd3786\"],[0.5555555555555556,\"#d8576b\"],[0.6666666666666666,\"#ed7953\"],[0.7777777777777778,\"#fb9f3a\"],[0.8888888888888888,\"#fdca26\"],[1.0,\"#f0f921\"]],\"type\":\"heatmap\"}],\"heatmapgl\":[{\"colorbar\":{\"outlinewidth\":0,\"ticks\":\"\"},\"colorscale\":[[0.0,\"#0d0887\"],[0.1111111111111111,\"#46039f\"],[0.2222222222222222,\"#7201a8\"],[0.3333333333333333,\"#9c179e\"],[0.4444444444444444,\"#bd3786\"],[0.5555555555555556,\"#d8576b\"],[0.6666666666666666,\"#ed7953\"],[0.7777777777777778,\"#fb9f3a\"],[0.8888888888888888,\"#fdca26\"],[1.0,\"#f0f921\"]],\"type\":\"heatmapgl\"}],\"histogram\":[{\"marker\":{\"pattern\":{\"fillmode\":\"overlay\",\"size\":10,\"solidity\":0.2}},\"type\":\"histogram\"}],\"histogram2d\":[{\"colorbar\":{\"outlinewidth\":0,\"ticks\":\"\"},\"colorscale\":[[0.0,\"#0d0887\"],[0.1111111111111111,\"#46039f\"],[0.2222222222222222,\"#7201a8\"],[0.3333333333333333,\"#9c179e\"],[0.4444444444444444,\"#bd3786\"],[0.5555555555555556,\"#d8576b\"],[0.6666666666666666,\"#ed7953\"],[0.7777777777777778,\"#fb9f3a\"],[0.8888888888888888,\"#fdca26\"],[1.0,\"#f0f921\"]],\"type\":\"histogram2d\"}],\"histogram2dcontour\":[{\"colorbar\":{\"outlinewidth\":0,\"ticks\":\"\"},\"colorscale\":[[0.0,\"#0d0887\"],[0.1111111111111111,\"#46039f\"],[0.2222222222222222,\"#7201a8\"],[0.3333333333333333,\"#9c179e\"],[0.4444444444444444,\"#bd3786\"],[0.5555555555555556,\"#d8576b\"],[0.6666666666666666,\"#ed7953\"],[0.7777777777777778,\"#fb9f3a\"],[0.8888888888888888,\"#fdca26\"],[1.0,\"#f0f921\"]],\"type\":\"histogram2dcontour\"}],\"mesh3d\":[{\"colorbar\":{\"outlinewidth\":0,\"ticks\":\"\"},\"type\":\"mesh3d\"}],\"parcoords\":[{\"line\":{\"colorbar\":{\"outlinewidth\":0,\"ticks\":\"\"}},\"type\":\"parcoords\"}],\"pie\":[{\"automargin\":true,\"type\":\"pie\"}],\"scatter\":[{\"marker\":{\"colorbar\":{\"outlinewidth\":0,\"ticks\":\"\"}},\"type\":\"scatter\"}],\"scatter3d\":[{\"line\":{\"colorbar\":{\"outlinewidth\":0,\"ticks\":\"\"}},\"marker\":{\"colorbar\":{\"outlinewidth\":0,\"ticks\":\"\"}},\"type\":\"scatter3d\"}],\"scattercarpet\":[{\"marker\":{\"colorbar\":{\"outlinewidth\":0,\"ticks\":\"\"}},\"type\":\"scattercarpet\"}],\"scattergeo\":[{\"marker\":{\"colorbar\":{\"outlinewidth\":0,\"ticks\":\"\"}},\"type\":\"scattergeo\"}],\"scattergl\":[{\"marker\":{\"colorbar\":{\"outlinewidth\":0,\"ticks\":\"\"}},\"type\":\"scattergl\"}],\"scattermapbox\":[{\"marker\":{\"colorbar\":{\"outlinewidth\":0,\"ticks\":\"\"}},\"type\":\"scattermapbox\"}],\"scatterpolar\":[{\"marker\":{\"colorbar\":{\"outlinewidth\":0,\"ticks\":\"\"}},\"type\":\"scatterpolar\"}],\"scatterpolargl\":[{\"marker\":{\"colorbar\":{\"outlinewidth\":0,\"ticks\":\"\"}},\"type\":\"scatterpolargl\"}],\"scatterternary\":[{\"marker\":{\"colorbar\":{\"outlinewidth\":0,\"ticks\":\"\"}},\"type\":\"scatterternary\"}],\"surface\":[{\"colorbar\":{\"outlinewidth\":0,\"ticks\":\"\"},\"colorscale\":[[0.0,\"#0d0887\"],[0.1111111111111111,\"#46039f\"],[0.2222222222222222,\"#7201a8\"],[0.3333333333333333,\"#9c179e\"],[0.4444444444444444,\"#bd3786\"],[0.5555555555555556,\"#d8576b\"],[0.6666666666666666,\"#ed7953\"],[0.7777777777777778,\"#fb9f3a\"],[0.8888888888888888,\"#fdca26\"],[1.0,\"#f0f921\"]],\"type\":\"surface\"}],\"table\":[{\"cells\":{\"fill\":{\"color\":\"#EBF0F8\"},\"line\":{\"color\":\"white\"}},\"header\":{\"fill\":{\"color\":\"#C8D4E3\"},\"line\":{\"color\":\"white\"}},\"type\":\"table\"}]},\"layout\":{\"annotationdefaults\":{\"arrowcolor\":\"#2a3f5f\",\"arrowhead\":0,\"arrowwidth\":1},\"autotypenumbers\":\"strict\",\"coloraxis\":{\"colorbar\":{\"outlinewidth\":0,\"ticks\":\"\"}},\"colorscale\":{\"diverging\":[[0,\"#8e0152\"],[0.1,\"#c51b7d\"],[0.2,\"#de77ae\"],[0.3,\"#f1b6da\"],[0.4,\"#fde0ef\"],[0.5,\"#f7f7f7\"],[0.6,\"#e6f5d0\"],[0.7,\"#b8e186\"],[0.8,\"#7fbc41\"],[0.9,\"#4d9221\"],[1,\"#276419\"]],\"sequential\":[[0.0,\"#0d0887\"],[0.1111111111111111,\"#46039f\"],[0.2222222222222222,\"#7201a8\"],[0.3333333333333333,\"#9c179e\"],[0.4444444444444444,\"#bd3786\"],[0.5555555555555556,\"#d8576b\"],[0.6666666666666666,\"#ed7953\"],[0.7777777777777778,\"#fb9f3a\"],[0.8888888888888888,\"#fdca26\"],[1.0,\"#f0f921\"]],\"sequentialminus\":[[0.0,\"#0d0887\"],[0.1111111111111111,\"#46039f\"],[0.2222222222222222,\"#7201a8\"],[0.3333333333333333,\"#9c179e\"],[0.4444444444444444,\"#bd3786\"],[0.5555555555555556,\"#d8576b\"],[0.6666666666666666,\"#ed7953\"],[0.7777777777777778,\"#fb9f3a\"],[0.8888888888888888,\"#fdca26\"],[1.0,\"#f0f921\"]]},\"colorway\":[\"#636efa\",\"#EF553B\",\"#00cc96\",\"#ab63fa\",\"#FFA15A\",\"#19d3f3\",\"#FF6692\",\"#B6E880\",\"#FF97FF\",\"#FECB52\"],\"font\":{\"color\":\"#2a3f5f\"},\"geo\":{\"bgcolor\":\"white\",\"lakecolor\":\"white\",\"landcolor\":\"#E5ECF6\",\"showlakes\":true,\"showland\":true,\"subunitcolor\":\"white\"},\"hoverlabel\":{\"align\":\"left\"},\"hovermode\":\"closest\",\"mapbox\":{\"style\":\"light\"},\"paper_bgcolor\":\"white\",\"plot_bgcolor\":\"#E5ECF6\",\"polar\":{\"angularaxis\":{\"gridcolor\":\"white\",\"linecolor\":\"white\",\"ticks\":\"\"},\"bgcolor\":\"#E5ECF6\",\"radialaxis\":{\"gridcolor\":\"white\",\"linecolor\":\"white\",\"ticks\":\"\"}},\"scene\":{\"xaxis\":{\"backgroundcolor\":\"#E5ECF6\",\"gridcolor\":\"white\",\"gridwidth\":2,\"linecolor\":\"white\",\"showbackground\":true,\"ticks\":\"\",\"zerolinecolor\":\"white\"},\"yaxis\":{\"backgroundcolor\":\"#E5ECF6\",\"gridcolor\":\"white\",\"gridwidth\":2,\"linecolor\":\"white\",\"showbackground\":true,\"ticks\":\"\",\"zerolinecolor\":\"white\"},\"zaxis\":{\"backgroundcolor\":\"#E5ECF6\",\"gridcolor\":\"white\",\"gridwidth\":2,\"linecolor\":\"white\",\"showbackground\":true,\"ticks\":\"\",\"zerolinecolor\":\"white\"}},\"shapedefaults\":{\"line\":{\"color\":\"#2a3f5f\"}},\"ternary\":{\"aaxis\":{\"gridcolor\":\"white\",\"linecolor\":\"white\",\"ticks\":\"\"},\"baxis\":{\"gridcolor\":\"white\",\"linecolor\":\"white\",\"ticks\":\"\"},\"bgcolor\":\"#E5ECF6\",\"caxis\":{\"gridcolor\":\"white\",\"linecolor\":\"white\",\"ticks\":\"\"}},\"title\":{\"x\":0.05},\"xaxis\":{\"automargin\":true,\"gridcolor\":\"white\",\"linecolor\":\"white\",\"ticks\":\"\",\"title\":{\"standoff\":15},\"zerolinecolor\":\"white\",\"zerolinewidth\":2},\"yaxis\":{\"automargin\":true,\"gridcolor\":\"white\",\"linecolor\":\"white\",\"ticks\":\"\",\"title\":{\"standoff\":15},\"zerolinecolor\":\"white\",\"zerolinewidth\":2}}},\"title\":{\"text\":\"Embeddings das imagens\"},\"width\":600,\"xaxis\":{\"anchor\":\"y\",\"domain\":[0.0,0.7363],\"title\":{\"text\":\"x\"}},\"xaxis2\":{\"anchor\":\"y2\",\"domain\":[0.7413,1.0],\"matches\":\"x2\",\"showgrid\":false,\"showline\":false,\"showticklabels\":false,\"ticks\":\"\"},\"xaxis3\":{\"anchor\":\"y3\",\"domain\":[0.0,0.7363],\"matches\":\"x\",\"showgrid\":true,\"showticklabels\":false},\"xaxis4\":{\"anchor\":\"y4\",\"domain\":[0.7413,1.0],\"matches\":\"x2\",\"showgrid\":false,\"showline\":false,\"showticklabels\":false,\"ticks\":\"\"},\"yaxis\":{\"anchor\":\"x\",\"domain\":[0.0,0.7326],\"title\":{\"text\":\"y\"}},\"yaxis2\":{\"anchor\":\"x2\",\"domain\":[0.0,0.7326],\"matches\":\"y\",\"showgrid\":true,\"showticklabels\":false},\"yaxis3\":{\"anchor\":\"x3\",\"domain\":[0.7426,1.0],\"matches\":\"y3\",\"showgrid\":true,\"showline\":false,\"showticklabels\":false,\"ticks\":\"\"},\"yaxis4\":{\"anchor\":\"x4\",\"domain\":[0.7426,1.0],\"matches\":\"y3\",\"showgrid\":true,\"showline\":false,\"showticklabels\":false,\"ticks\":\"\"}},                        {\"responsive\": true}                    ).then(function(){\n",
       "                            \n",
       "var gd = document.getElementById('a97ef21b-acda-4a98-9964-14ca60f1639c');\n",
       "var x = new MutationObserver(function (mutations, observer) {{\n",
       "        var display = window.getComputedStyle(gd).display;\n",
       "        if (!display || display === 'none') {{\n",
       "            console.log([gd, 'removed!']);\n",
       "            Plotly.purge(gd);\n",
       "            observer.disconnect();\n",
       "        }}\n",
       "}});\n",
       "\n",
       "// Listen for the removal of the full notebook cells\n",
       "var notebookContainer = gd.closest('#notebook-container');\n",
       "if (notebookContainer) {{\n",
       "    x.observe(notebookContainer, {childList: true});\n",
       "}}\n",
       "\n",
       "// Listen for the clearing of the current output cell\n",
       "var outputEl = gd.closest('.output');\n",
       "if (outputEl) {{\n",
       "    x.observe(outputEl, {childList: true});\n",
       "}}\n",
       "\n",
       "                        })                };                });            </script>        </div>"
      ]
     },
     "metadata": {},
     "output_type": "display_data"
    },
    {
     "data": {
      "application/vnd.jupyter.widget-view+json": {
       "model_id": "e8c681db3d8843cda465716fb62049f0",
       "version_major": 2,
       "version_minor": 0
      },
      "text/plain": [
       "VBox(children=(Label(value='Entre com um index de uma imagem entre 0 à 498 para visualizar as características …"
      ]
     },
     "metadata": {},
     "output_type": "display_data"
    }
   ],
   "source": [
    "wid_query = {\n",
    "    \"query\": widgets.Text(\n",
    "        value=\"\",\n",
    "        placeholder=\"Digite o index da imagem\",\n",
    "        description=\"\",\n",
    "        disabled=False),\n",
    "    \"button\": widgets.Button(\n",
    "        description='Buscar',\n",
    "        disabled=False,\n",
    "        button_style='', # 'success', 'info', 'warning', 'danger' or ''\n",
    "        icon='search', # (FontAwesome names without the `fa-` prefix)\n",
    "        tooltip='Search for a country'),\n",
    "    \"output\": widgets.Image(format='jpg')}\n",
    "\n",
    "def on_query(button):\n",
    "    dado = wid_query[\"query\"].value\n",
    "    XAI(dado)\n",
    "    file = open(\"imagemExplicada.jpg\", \"rb\")\n",
    "    image = file.read()\n",
    "    wid_query[\"output\"].value = image\n",
    "    wid_query[\"output\"].height = \"500\"\n",
    "    wid_query[\"output\"].width = \"500\"\n",
    "    \n",
    "    \n",
    "# Eventos\n",
    "wid_query[\"button\"].on_click(on_query)\n",
    "\n",
    "widgets.VBox([widgets.Label(value=\"Entre com um index de uma imagem entre 0 à 498 para visualizar as características de classificação\"),\n",
    "    widgets.HBox([widgets.Label(value=scatter.show()),wid_query[\"query\"], wid_query[\"button\"]]), wid_query[\"output\"]])\n"
   ]
  },
  {
   "cell_type": "code",
   "execution_count": null,
   "id": "585a9dba",
   "metadata": {},
   "outputs": [],
   "source": []
  },
  {
   "cell_type": "code",
   "execution_count": null,
   "id": "371f8923",
   "metadata": {},
   "outputs": [],
   "source": []
  }
 ],
 "metadata": {
  "kernelspec": {
   "display_name": "Python 3 (ipykernel)",
   "language": "python",
   "name": "python3"
  },
  "language_info": {
   "codemirror_mode": {
    "name": "ipython",
    "version": 3
   },
   "file_extension": ".py",
   "mimetype": "text/x-python",
   "name": "python",
   "nbconvert_exporter": "python",
   "pygments_lexer": "ipython3",
   "version": "3.8.8"
  }
 },
 "nbformat": 4,
 "nbformat_minor": 5
}
