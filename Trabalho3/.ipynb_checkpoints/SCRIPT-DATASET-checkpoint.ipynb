{
 "cells": [
  {
   "cell_type": "code",
   "execution_count": null,
   "id": "133cbc88",
   "metadata": {},
   "outputs": [],
   "source": [
    "#SCRIPT PARA BAIXAR O DATASET DE IMAGENS PARA UTILIZAR A FUNÇÃO DO XAI COM O SHAP\n",
    "def createDirectory(name, animal):\n",
    "    import os\n",
    " \n",
    "    path = name\n",
    "    access_rights = 0o755\n",
    "    try:\n",
    "        os.mkdir(path, access_rights)\n",
    "    except OSError:\n",
    "        print (\"Creation of the directory %s failed\" % path)\n",
    "        \n",
    "    else:\n",
    "        print (\"Successfully created the directory %s \" % path)\n",
    "\n",
    "\n",
    "def downloadValid(animal, coco, index):\n",
    "    createDirectory('valid/', animal)\n",
    "    cats = coco.loadCats(coco.getCatIds())\n",
    "    nms=[cat['name'] for cat in cats]\n",
    "\n",
    "    catIds = coco.getCatIds(catNms=[animal])\n",
    "\n",
    "    imgIds = coco.getImgIds(catIds=catIds )\n",
    "    images = coco.loadImgs(imgIds)\n",
    "\n",
    "    i = 1\n",
    "    for im in images:\n",
    "        if i <= 50:\n",
    "            img_data = requests.get(im['coco_url']).content\n",
    "            \n",
    "            with open('valid/'+ animal+'_'+im['file_name'], 'wb') as handler:\n",
    "                handler.write(img_data)\n",
    "            \n",
    "            #time.sleep(3)    \n",
    "            i = i + 1\n",
    "        else:\n",
    "            break"
   ]
  },
  {
   "cell_type": "code",
   "execution_count": null,
   "id": "18f3a5bc",
   "metadata": {},
   "outputs": [],
   "source": [
    "coco = COCO('annotations/instances_val2017.json')\n",
    "animals = [ 'bird',\n",
    "            'cat',\n",
    "            'dog',\n",
    "            'horse',\n",
    "            'sheep',\n",
    "            'cow',\n",
    "            'elephant',\n",
    "            'bear',\n",
    "            'zebra',\n",
    "            'giraffe']\n",
    "for item in animals:\n",
    "  downloadValid(item, coco, animals.index(item))"
   ]
  }
 ],
 "metadata": {
  "kernelspec": {
   "display_name": "Python 3 (ipykernel)",
   "language": "python",
   "name": "python3"
  },
  "language_info": {
   "codemirror_mode": {
    "name": "ipython",
    "version": 3
   },
   "file_extension": ".py",
   "mimetype": "text/x-python",
   "name": "python",
   "nbconvert_exporter": "python",
   "pygments_lexer": "ipython3",
   "version": "3.8.8"
  }
 },
 "nbformat": 4,
 "nbformat_minor": 5
}
